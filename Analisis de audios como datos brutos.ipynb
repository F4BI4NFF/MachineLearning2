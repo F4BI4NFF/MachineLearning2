{
 "cells": [
  {
   "cell_type": "markdown",
   "metadata": {},
   "source": [
    " # Análisis de audios como datos brutos"
   ]
  },
  {
   "cell_type": "markdown",
   "metadata": {},
   "source": [
    "En este ejercicio, se calificará un distinto tipo de dato en comparación con actividades anteriores, por lo que será de crucial importancia el manejo de ellos para que los algoritmos de clasificación actúen de buena manera. En este caso se trabajará con datos de audios extraídos con extensión .wav. El dataset utilizado corresponde a datos generados por el público mediante la aplicación de Iphone *Istethoscope Pro*.\n",
    "\n",
    "El objetivo será la clasificación de los sonidos como latido normal o una subcategoría de anormal como *Murmur*,*Extra Heart Sound*,*Artifact*.\n",
    "\n",
    "Para trabajar con los archivos .wav se utiliza el siguiente código:"
   ]
  },
  {
   "cell_type": "code",
   "execution_count": 2,
   "metadata": {
    "collapsed": true
   },
   "outputs": [],
   "source": [
    "import numpy as np\n",
    "from scipy.io import wavfile\n",
    "def clean_filename(fname,string):\n",
    "    file_name = fname.split('/')[1]\n",
    "    if file_name[:2] == '__':\n",
    "        file_name = string + file_name\n",
    "    return file_name\n",
    "SAMPLE_RATE = 44100\n",
    "def load_wav_file(name,path):\n",
    "    s,b = wavfile.read(path+name)\n",
    "    assert s == SAMPLE_RATE\n",
    "    return b\n"
   ]
  },
  {
   "cell_type": "markdown",
   "metadata": {},
   "source": [
    "###  a) Descripción de datos"
   ]
  },
  {
   "cell_type": "code",
   "execution_count": 3,
   "metadata": {},
   "outputs": [
    {
     "name": "stdout",
     "output_type": "stream",
     "text": [
      "Cantidad de datos: 176\n",
      "Cantidad de atributos: 4\n",
      "\n",
      " Cada ejemplo es de la forma: \n",
      "\n",
      "  dataset                             fname     label  sublabel\n",
      "0       a  set_a/artifact__201012172012.wav  artifact       NaN\n",
      "\n",
      " Registros por clase\n",
      "Clase:Nan  Registros:52\n",
      "\n",
      "Clase:Extrahls  Registros:19\n",
      "\n",
      "Clase:Murmur  Registros:34\n",
      "\n",
      "Clase:Artifact  Registros:40\n",
      "\n",
      "Clase:Normal  Registros:31\n",
      "\n"
     ]
    }
   ],
   "source": [
    "import pandas as pd\n",
    "import numpy as np\n",
    "df = pd.read_csv('set_a.csv')\n",
    "print \"Cantidad de datos:\", df.shape[0] \n",
    "print \"Cantidad de atributos:\", df.shape[1]\n",
    "print \"\\n Cada ejemplo es de la forma: \\n\"\n",
    "print df[:1]\n",
    "def clase_ocurrencia(df,campo):\n",
    "    clases = {}\n",
    "    for index,row in df.iterrows():\n",
    "        if row[campo] not in clases.keys():\n",
    "                clases[row[campo]] = 1\n",
    "        else:\n",
    "            clases[row[campo]] += 1\n",
    "    return clases\n",
    "\n",
    "clases = clase_ocurrencia(df,'label')\n",
    "print \"\\n Registros por clase\"\n",
    "\n",
    "for k,v in clases.items():\n",
    "    print \"Clase:\"+str(k).title()+\"  Registros:\"+str(v)+\"\\n\" "
   ]
  },
  {
   "cell_type": "markdown",
   "metadata": {},
   "source": [
    "El dataset entregado consta de 176 archivos *.wav*, cada ejemplo posee 4 atributos:   \n",
    "\n",
    "**dataset**: Indica el dataset al cual pertenece el *.wav*, en este caso todos pertenecen al a.              \n",
    "**fname**: Es el nombre del archivo *.wav*.         \n",
    "**label**: Es la categoría asignada al audio.         \n",
    "**sublabel**: Corresponde a la subcategoría, pero no aplica, dado que las subcategorías ya están incluidas en label.        \n",
    "\n",
    "Por cada clase se encuentra la siguiente cantidad de datos:\n",
    "\n",
    "<table style=\"width:100%\">\n",
    "  <tr>\n",
    "    <th><center>Clase</center></th>\n",
    "    <th><center>Cantidad de registros</center></th> \n",
    "</tr>\n",
    "  <tr>\n",
    "    <td><center>Nan</center></td>\n",
    "    <td><center>52</center></td> \n",
    "  </tr>\n",
    "  <tr>\n",
    "    <td><center>Artifact</center></td>\n",
    "    <td><center>40</center></td> \n",
    "  </tr>\n",
    "  <tr>\n",
    "    <td><center>Murmur</center></td>\n",
    "    <td><center>34</center></td> \n",
    "  </tr>\n",
    "  <tr>\n",
    "    <td><center>Normal</center></td>\n",
    "    <td><center>31</center></td> \n",
    "  </tr>\n",
    "  <tr>\n",
    "    <td><center>Extrahls</center></td>\n",
    "    <td><center>19</center></td> \n",
    "  </tr>\n",
    "</table>\n",
    "\n"
   ]
  },
  {
   "cell_type": "markdown",
   "metadata": {},
   "source": [
    "Las categorías involucradas tienen como significado;   \n",
    "\n",
    "**NaN** : Es la categoría donde el audio no puede ser identificado en ninguna subcategoría.\n",
    "\n",
    "**Artifact** : En la categoría Artifact hay una amplia gama de sonidos diferentes, que incluyen chillidos y ecos de realimentación, voz, música y ruido. Por lo general, no hay sonidos cardíacos discernibles y, por lo tanto, poca o ninguna periodicidad temporal en frecuencias inferiores a 195 Hz.\n",
    "\n",
    "** Extrahls **:Se pueden identificar los sonidos cardíacos adicionales porque hay un sonido adicional, p. un \"lub-lub dub\" o un \"lub dub-dub\". Un sonido cardíaco adicional puede no ser un signo de enfermedad. Sin embargo, en algunas situaciones es un signo importante de enfermedad, que si se detecta temprano podría ayudar a una persona.\n",
    "\n",
    "**Murmur** : Los soplos cardíacos suenan como si hubiera un ruido de \"silbido, rugido, estruendo o fluido turbulento\" en uno de los dos lugares temporales: (1) entre \"lub\" y \"dub\", o (2) entre \"dub\" y \"lub\" \". Pueden ser un síntoma de muchos trastornos cardíacos, algunos serios."
   ]
  },
  {
   "cell_type": "markdown",
   "metadata": {},
   "source": [
    "### b) Lectura de archivos .wav y Transformación en secuencias de tiempo"
   ]
  },
  {
   "cell_type": "code",
   "execution_count": 4,
   "metadata": {},
   "outputs": [
    {
     "name": "stdout",
     "output_type": "stream",
     "text": [
      "Series de tiempo\n",
      "0      [1.0, -3.0, -1.0, -7.0, -9.0, -2.0, -6.0, -5.0...\n",
      "1      [-2.0, 3.0, -4.0, 4.0, -3.0, 2.0, -1.0, 0.0, 0...\n",
      "2      [6.0, -4.0, -9.0, -1.0, -4.0, 1.0, -5.0, 2.0, ...\n",
      "3      [-85.0, -198.0, -214.0, -173.0, -177.0, -206.0...\n",
      "4      [53.0, -35.0, 47.0, 170.0, 340.0, 436.0, 535.0...\n",
      "5      [-2.0, 2.0, -2.0, 2.0, -2.0, 1.0, 1.0, -3.0, 3...\n",
      "6      [47.0, 70.0, 47.0, 58.0, 53.0, 45.0, 13.0, 21....\n",
      "7      [605.0, 648.0, 473.0, 171.0, -203.0, -512.0, -...\n",
      "8      [-49.0, 0.0, 17.0, -43.0, 30.0, 9.0, -29.0, 50...\n",
      "9      [52.0, -1291.0, -1116.0, 101.0, 2429.0, 3776.0...\n",
      "10     [-1.0, 0.0, 1.0, -2.0, 3.0, -3.0, 3.0, -3.0, 3...\n",
      "11     [97.0, 152.0, 167.0, 168.0, 140.0, 113.0, 75.0...\n",
      "12     [-1390.0, -1358.0, -1372.0, -1377.0, -1396.0, ...\n",
      "13     [19664.0, 22367.0, 24463.0, 25936.0, 26723.0, ...\n",
      "14     [-5.0, -5.0, 2.0, -2.0, -3.0, -16.0, -2.0, 20....\n",
      "15     [6.0, 86.0, 21.0, 73.0, 52.0, 25.0, -53.0, -24...\n",
      "16     [-15901.0, -16151.0, -16527.0, -16737.0, -1654...\n",
      "17     [71.0, 75.0, 73.0, 87.0, 90.0, 101.0, 109.0, 1...\n",
      "18     [2373.0, 2373.0, 2374.0, 2373.0, 2385.0, 2387....\n",
      "19     [90.0, 97.0, 93.0, 82.0, 62.0, 37.0, 22.0, 27....\n",
      "20     [-2169.0, -2661.0, -1605.0, 952.0, 4714.0, 910...\n",
      "21     [-23.0, -127.0, -189.0, -259.0, -301.0, -362.0...\n",
      "22     [-3542.0, -2833.0, -2493.0, -2330.0, -2260.0, ...\n",
      "23     [-26.0, -29.0, -54.0, -17.0, -41.0, -53.0, -11...\n",
      "24     [-10054.0, -12117.0, -14014.0, -15866.0, -1760...\n",
      "25     [-2915.0, -2290.0, -1801.0, -1705.0, -1743.0, ...\n",
      "26     [-3.0, 3.0, -2.0, 2.0, -1.0, 0.0, 0.0, -1.0, 2...\n",
      "27     [3028.0, 4305.0, 5549.0, 6776.0, 7968.0, 9128....\n",
      "28     [-3489.0, -4399.0, -5297.0, -6197.0, -7087.0, ...\n",
      "29     [-35.0, 15.0, 38.0, -48.0, 46.0, 35.0, -23.0, ...\n",
      "                             ...                        \n",
      "146    [46.0, 67.0, 103.0, 93.0, 112.0, 111.0, 123.0,...\n",
      "147    [-1818.0, -1599.0, -1370.0, -1145.0, -914.0, -...\n",
      "148    [-1347.0, 1814.0, 4634.0, 6989.0, 8742.0, 9591...\n",
      "149    [-1.0, 2.0, -3.0, 2.0, 0.0, -1.0, 1.0, -1.0, 1...\n",
      "150    [-3.0, -21.0, -28.0, -29.0, -27.0, -19.0, -19....\n",
      "151    [-877.0, -741.0, -644.0, -367.0, -359.0, -384....\n",
      "152    [27.0, 21.0, 21.0, 17.0, 11.0, 0.0, -17.0, -28...\n",
      "153    [-20.0, -12.0, -16.0, -17.0, -14.0, -21.0, -20...\n",
      "154    [581.0, 578.0, 572.0, 573.0, 565.0, 558.0, 551...\n",
      "155    [4.0, -3.0, 2.0, -2.0, 3.0, -4.0, 4.0, -3.0, 2...\n",
      "156    [170.0, 157.0, 162.0, 139.0, 150.0, 164.0, 158...\n",
      "157    [-2673.0, -109.0, 2185.0, 3466.0, 3446.0, 2443...\n",
      "158    [1.0, -1.0, 0.0, 1.0, -1.0, 1.0, 0.0, -2.0, 3....\n",
      "159    [-26297.0, -25721.0, -25059.0, -24314.0, -2345...\n",
      "160    [-93.0, -44.0, -62.0, 57.0, -8.0, 3.0, -71.0, ...\n",
      "161    [-414.0, -411.0, -412.0, -425.0, -419.0, -425....\n",
      "162    [-2.0, 1.0, 0.0, 0.0, -1.0, 2.0, -2.0, 1.0, 0....\n",
      "163    [-404.0, -442.0, -456.0, -482.0, -482.0, -494....\n",
      "164    [519.0, 563.0, 585.0, 611.0, 618.0, 622.0, 618...\n",
      "165    [280.0, 300.0, 317.0, 326.0, 332.0, 334.0, 328...\n",
      "166    [-240.0, -251.0, -270.0, -270.0, -279.0, -272....\n",
      "167    [-274.0, -287.0, -301.0, -295.0, -305.0, -289....\n",
      "168    [-501.0, -533.0, -558.0, -573.0, -580.0, -577....\n",
      "169    [591.0, 645.0, 693.0, 730.0, 765.0, 785.0, 808...\n",
      "170    [-175.0, -191.0, -199.0, -208.0, -211.0, -215....\n",
      "171    [-166.0, -173.0, -188.0, -184.0, -194.0, -185....\n",
      "172    [-14035.0, -15001.0, -15710.0, -16178.0, -1638...\n",
      "173    [376.0, 413.0, 429.0, 444.0, 456.0, 454.0, 454...\n",
      "174    [-690.0, -745.0, -782.0, -817.0, -831.0, -842....\n",
      "175    [704.0, 760.0, 788.0, 818.0, 825.0, 828.0, 817...\n",
      "Name: time_series, Length: 176, dtype: object\n"
     ]
    }
   ],
   "source": [
    "def padd_zeros(array,length):\n",
    "    aux = np.zeros(length)\n",
    "    aux[:array.shape[0]] = array\n",
    "    return aux\n",
    "\n",
    "new_df =pd.DataFrame({'file_name' : df['fname'].apply(clean_filename,string='Aunlabelledtest')})\n",
    "new_df['time_series'] = new_df['file_name'].apply(load_wav_file, path='./set_a/')\n",
    "new_df['len_series'] = new_df['time_series'].apply(len)\n",
    "new_df['time_series']=new_df['time_series'].apply(padd_zeros,length=max(new_df['len_series']))\n",
    "\n",
    "print \"Series de tiempo\"\n",
    "print new_df['time_series']\n"
   ]
  },
  {
   "cell_type": "markdown",
   "metadata": {},
   "source": [
    "El Padding consiste en rellenar un arreglo hasta un cierto valor con una cantidad de 0s para que todos queden con la misma cantidad de datos, en este caso (*padd_zeros*). Sirve para una estandarización de los datos, con esto son más fáciles de trabajar ( puede ser requerido para algún tipo de algoritmo) y es posible realizar comparaciones entre secuencias. Cabe destacar que se realiza el padding tomando en cuenta el mayor largo de las series de tiempo para así no perder información importante."
   ]
  },
  {
   "cell_type": "markdown",
   "metadata": {},
   "source": [
    "### c) Cambio de etiquetas"
   ]
  },
  {
   "cell_type": "markdown",
   "metadata": {},
   "source": [
    "A continuación, se cambian las etiquetas de los audios a otras según un docto experto:"
   ]
  },
  {
   "cell_type": "code",
   "execution_count": 5,
   "metadata": {},
   "outputs": [
    {
     "name": "stdout",
     "output_type": "stream",
     "text": [
      "Registros por clase con nuevas etiquetas: \n",
      "\n",
      "Clase:Normal/Extrahls  Registros:65\n",
      "\n",
      "Clase:Murmur  Registros:53\n",
      "\n",
      "Clase:Artifact  Registros:58\n",
      "\n"
     ]
    }
   ],
   "source": [
    "new_labels =[0, 0, 0, 0, 0, 0, 0, 0, 0, 0, 0, 0, 0, 0, 0, 0, 0, 0, 0, 0, 0, 0, 0, 0, 0,\n",
    "0, 0, 0, 0, 0, 0, 0, 0, 0, 0, 0, 0, 0, 0, 0, 2, 1, 1, 1, 1, 1, 1, 1, 1, 1,\n",
    "1, 1, 1, 1, 1, 2, 1, 1, 1, 2, 2, 2, 1, 1, 2, 1, 2, 2, 1, 2, 2, 2, 2, 2, 2,\n",
    "2, 2, 2, 2, 2, 2, 2, 2, 2, 2, 2, 2, 2, 2, 2, 2, 2, 2, 1, 1, 1, 1, 1, 1, 1,\n",
    "1, 2, 1, 1, 1, 1, 1, 2, 1, 1, 1, 1, 1, 1, 1, 2, 2, 1, 1, 1, 1, 1, 2, 1, 0,\n",
    "2, 2, 1, 1, 1, 1, 1, 0, 1, 0, 1, 1, 1, 2, 1, 0, 1, 1, 1, 1, 1, 2, 0, 0, 0,\n",
    "0, 0, 0, 0, 1, 0, 0, 0, 0, 0, 0, 1, 0, 2, 1, 2, 2, 2, 2, 2, 2, 2, 2, 2, 2,2]\n",
    "labels = ['artifact','normal/extrahls', 'murmur']\n",
    "new_df['target'] = [labels[i] for i in new_labels]\n",
    "nuevas_clases = clase_ocurrencia(new_df,'target')\n",
    "print \"Registros por clase con nuevas etiquetas: \\n\"\n",
    "for k,v in nuevas_clases.items():\n",
    "    print \"Clase:\"+str(k).title()+\"  Registros:\"+str(v)+\"\\n\" \n",
    "\n"
   ]
  },
  {
   "cell_type": "markdown",
   "metadata": {},
   "source": [
    "Los registros por clase se especifican a continuación:\n",
    "\n",
    "<table style=\"width:100%\">\n",
    "  <tr>\n",
    "    <th><center>Clase</center></th>\n",
    "    <th><center>Cantidad de registros</center></th> \n",
    "</tr>\n",
    "  <tr>\n",
    "    <td><center>Normal/Extrahls</center></td>\n",
    "    <td><center>65</center></td> \n",
    "  </tr>\n",
    "  <tr>\n",
    "    <td><center>Artifact</center></td>\n",
    "    <td><center>58</center></td> \n",
    "  </tr>\n",
    "  <tr>\n",
    "    <td><center>Murmur</center></td>\n",
    "    <td><center>53</center></td> \n",
    "  </tr>\n",
    "</table>\n"
   ]
  },
  {
   "cell_type": "markdown",
   "metadata": {},
   "source": [
    "La problemática de tener etiquetas mal asignadas radica en el momento del entrenamiento, dado que estaremos entregandole datos erroneos para la futura clasificación de un dato, por lo que lo más probable falle al momento de clasificar un nuevo ejemplo, en consecuencia se obtiene un mal clasificador.\n",
    "Considerando la pequeña cantidad de datos, que un solo dato esté mal asignado a su etiqueta puede generar problemas a la hora de la predicción con un conjunto de test.\n",
    "\n",
    "#### (No entendí la pregunta ¿Un solo dato puede afectar eso? => Problemas en entrenamiento / clasificación, lo que puse es lo que creo xd)"
   ]
  },
  {
   "cell_type": "markdown",
   "metadata": {},
   "source": [
    "### d) Codificación a valores numéricos"
   ]
  },
  {
   "cell_type": "markdown",
   "metadata": {},
   "source": [
    "A continuación se codifican los datos para que puedan ser trabajdos por los algoritmos clasificadores:"
   ]
  },
  {
   "cell_type": "code",
   "execution_count": 6,
   "metadata": {
    "collapsed": true
   },
   "outputs": [],
   "source": [
    "new_df[\"target\"] = new_df[\"target\"].astype('category')\n",
    "cat_columns = new_df.select_dtypes(['category']).columns\n",
    "new_df[cat_columns] = new_df[cat_columns].apply(lambda x: x.cat.codes)"
   ]
  },
  {
   "cell_type": "markdown",
   "metadata": {},
   "source": [
    "### e) Desorden de datos / Matriz de datos"
   ]
  },
  {
   "cell_type": "code",
   "execution_count": 7,
   "metadata": {},
   "outputs": [
    {
     "data": {
      "text/plain": [
       "(176L, 396900L)"
      ]
     },
     "execution_count": 7,
     "metadata": {},
     "output_type": "execute_result"
    }
   ],
   "source": [
    "new_df = new_df.sample(frac=1,random_state=44) # Hace un muestreo aleatorio\n",
    "X = np.stack(new_df['time_series'].values, axis=0)\n",
    "y = new_df.target.values\n",
    "X.shape"
   ]
  },
  {
   "cell_type": "markdown",
   "metadata": {},
   "source": [
    "Cada instante de tiempo es un atributo de cada ejemplo, en este caso son 396900, lo cual puede ser una complicación al momento del entrenamiento por el gran tamaño que poseen. Hay que tener en cuenta también la maldición de la dimensionalidad, es más complejo clasificar con una gran cantidad de atributos, por lo que se debe hacer una ingeniería de atributos."
   ]
  },
  {
   "cell_type": "markdown",
   "metadata": {},
   "source": [
    "### f) Pre-procesamiento - Transformada de Fourier discreta"
   ]
  },
  {
   "cell_type": "code",
   "execution_count": 8,
   "metadata": {
    "collapsed": true
   },
   "outputs": [],
   "source": [
    "X_fourier = np.abs(np.fft.fft(X))"
   ]
  },
  {
   "cell_type": "markdown",
   "metadata": {},
   "source": [
    "En esta línea de código se realiza una transformada de fourier discreta para pasar los datos desde el dominio de tiempos a un dominio de frecuencias."
   ]
  },
  {
   "cell_type": "markdown",
   "metadata": {},
   "source": [
    "### g) Muestreo representativo"
   ]
  },
  {
   "cell_type": "markdown",
   "metadata": {},
   "source": [
    "Para continuar el pre procesamiento, se realiza un muestreo representativo, a través de una técnica especial para seuencias:"
   ]
  },
  {
   "cell_type": "code",
   "execution_count": 9,
   "metadata": {},
   "outputs": [
    {
     "data": {
      "text/plain": [
       "(176L, 100000L)"
      ]
     },
     "execution_count": 9,
     "metadata": {},
     "output_type": "execute_result"
    }
   ],
   "source": [
    "from scipy import signal\n",
    "X_resampled = []\n",
    "for i in range(X_fourier.shape[0]):\n",
    "    sequence = X_fourier[i,:].copy()\n",
    "    resampled_sequence = signal.resample(sequence,100000) #Tecnica de muestreo especializado en secuencias\n",
    "    X_resampled.append(resampled_sequence)\n",
    "X_resampled = np.array(X_resampled)\n",
    "X_resampled.shape"
   ]
  },
  {
   "cell_type": "markdown",
   "metadata": {},
   "source": [
    "Este paso beneficia en reducir la dimensionalidad de los ejemplos. Dado de que luego de 396900, con el remuestreo quedó en 100000 atributos cada secuencia.\n",
    "Se podría determinar de manera práctica si el muestreo es representativo haciendo un clasificador con los ejemplos completos o con el muestreo y comparar los resultados."
   ]
  },
  {
   "cell_type": "markdown",
   "metadata": {},
   "source": [
    "### h) Conjuntos de pruebas / Hold-out validation"
   ]
  },
  {
   "cell_type": "code",
   "execution_count": 11,
   "metadata": {},
   "outputs": [
    {
     "name": "stdout",
     "output_type": "stream",
     "text": [
      "Tamaño de cada conjunto\n",
      "X_train => Ejemplos:132  Dimension de cada uno:100000\n",
      "X_test  => Ejemplos:44  Dimension de cada uno:100000\n",
      "y_train => (132L,)\n",
      "y_test => (44L,)\n",
      "set([0, 1, 2])\n",
      "set([0, 1, 2])\n"
     ]
    }
   ],
   "source": [
    "from sklearn.model_selection import train_test_split\n",
    "X_train, X_test, y_train, y_test = train_test_split(X_resampled,y,test_size=0.25,random_state=42)\n",
    "print \"Tamaño de cada conjunto\"\n",
    "print \"X_train => Ejemplos:\"+str(X_train.shape[0])+ \"  Dimension de cada uno:\"+str(X_train.shape[1])\n",
    "print \"X_test  => Ejemplos:\"+str(X_test.shape[0])+ \"  Dimension de cada uno:\"+str(X_test.shape[1])\n",
    "print \"y_train =>\", y_train.shape\n",
    "print \"y_test =>\", y_test.shape\n",
    "ytr = set()\n",
    "yts = set()\n",
    "for i in y_train:\n",
    "    ytr.add(i)\n",
    "for i in y_test:\n",
    "    yts.add(i)\n",
    "print ytr\n",
    "print yts"
   ]
  },
  {
   "cell_type": "markdown",
   "metadata": {},
   "source": [
    "Con las sugerencias del doctor experto, quedaron 3 clases, y cada una de ellas está en ambos conjuntos.\n",
    "El conjunto de entrenamiento queda con 132 audios, a su vez el conjunto de test con 44."
   ]
  },
  {
   "cell_type": "markdown",
   "metadata": {},
   "source": [
    "### i) Estandarización de datos "
   ]
  },
  {
   "cell_type": "markdown",
   "metadata": {},
   "source": [
    "Para seguir con la estandarización de datos( previamente se había realizado con el largo), se realiza ahora respecto a los datos, dejandolos centrados a una media 0 y a una distribución estándar unitaria."
   ]
  },
  {
   "cell_type": "code",
   "execution_count": 12,
   "metadata": {},
   "outputs": [
    {
     "name": "stdout",
     "output_type": "stream",
     "text": [
      "100000\n"
     ]
    }
   ],
   "source": [
    "from sklearn.preprocessing import StandardScaler\n",
    "std = StandardScaler(with_mean=True,with_std=True)\n",
    "std.fit(X_train)\n",
    "X_train = std.transform(X_train)\n",
    "X_test = std.transform(X_test)\n",
    "print len(X_test[0])"
   ]
  },
  {
   "cell_type": "markdown",
   "metadata": {},
   "source": [
    "Corroborar:\n",
    "    "
   ]
  },
  {
   "cell_type": "code",
   "execution_count": 13,
   "metadata": {},
   "outputs": [
    {
     "name": "stdout",
     "output_type": "stream",
     "text": [
      "-0.0937668471444\n"
     ]
    }
   ],
   "source": [
    "print np.mean(X_test) # Deberia ser 0 pero como es fiteado en base a X_Train, posiblemente no lo sea."
   ]
  },
  {
   "cell_type": "markdown",
   "metadata": {},
   "source": [
    "### j) Visualización a través de PCA\n"
   ]
  },
  {
   "cell_type": "code",
   "execution_count": 14,
   "metadata": {},
   "outputs": [
    {
     "data": {
      "text/plain": [
       "132"
      ]
     },
     "execution_count": 14,
     "metadata": {},
     "output_type": "execute_result"
    }
   ],
   "source": [
    "from sklearn.decomposition import PCA\n",
    "d=2\n",
    "pca_model = PCA(n_components=2)\n",
    "pca_model.fit(X_train)\n",
    "X_pca_train = pca_model.transform(X_train)\n",
    "X_pca_test = pca_model.transform(X_test)\n",
    "len(X_pca_train)"
   ]
  },
  {
   "cell_type": "code",
   "execution_count": 15,
   "metadata": {},
   "outputs": [
    {
     "data": {
      "image/png": "[encoded data removed]",
      "text/plain": [
       "<matplotlib.figure.Figure at 0x10e04400>"
      ]
     },
     "metadata": {},
     "output_type": "display_data"
    }
   ],
   "source": [
    "from sklearn.manifold import TSNE\n",
    "from matplotlib import pyplot as plt\n",
    "\n",
    "colors={0:'b',1:'g',2:'r'}\n",
    "markers={0:'o',1:'+',2: 'v'}\n",
    "labels = range(3)\n",
    "\n",
    "plt.figure(figsize=(20,10))\n",
    "for i in range(0,len(X_pca_train)):\n",
    "    label = y_train[i]\n",
    "    line = plt.plot(X_pca_train[i][0],X_pca_train[i][1],color=colors[label],marker=markers[label],markersize=10)\n",
    "plt.title(\"Representacion 2d de PCA\")\n",
    "plt.xlim((-100,500))\n",
    "plt.show()\n",
    "    \n",
    "\n"
   ]
  },
  {
   "cell_type": "markdown",
   "metadata": {},
   "source": [
    "Alguna observación?"
   ]
  },
  {
   "cell_type": "code",
   "execution_count": 16,
   "metadata": {
    "collapsed": true
   },
   "outputs": [],
   "source": [
    "#funcion utilizada para graficar el entrenamiento \n",
    "def plot_function(hist):\n",
    "    loss_values1 = hist['loss']\n",
    "    val_loss_values1 = hist['val_loss']\n",
    "    epochs1 = range(1, len(loss_values1) + 1)\n",
    "    f, axarr = plt.subplots(1,figsize=(14,6))\n",
    "    \n",
    "    axarr.plot(epochs1, loss_values1, 'bo-', label = \"Training set\")\n",
    "    axarr.plot(epochs1, val_loss_values1, 'g^-',label = \"Val set\")\n",
    "    axarr.set_title('Loss Autoencoder')\n",
    "    axarr.set_ylim(0,0.4)\n",
    "    axarr.set_xlabel('Epochs')\n",
    "    axarr.set_ylabel('Loss')\n",
    "    axarr.legend(loc=\"upper right\", fancybox= True)\n",
    "\n",
    "    plt.show()\n",
    "    \n",
    "# Graficar :\n",
    "\n"
   ]
  },
  {
   "cell_type": "markdown",
   "metadata": {},
   "source": [
    "### k) Modelo de Regresión Logística / SVM"
   ]
  },
  {
   "cell_type": "markdown",
   "metadata": {},
   "source": [
    "Hacer gráficos !! con Cs = [0.0001,0.01,0.1,1,10,100,1000]"
   ]
  },
  {
   "cell_type": "code",
   "execution_count": 17,
   "metadata": {
    "collapsed": true
   },
   "outputs": [],
   "source": [
    "from ipywidgets import interactive\n",
    "import matplotlib.pyplot as plt\n",
    "\n",
    "def visualize_border(model,x,y,title=\"\"):\n",
    "    fig = plt.figure(figsize=(12,6))\n",
    "    plt.scatter(x[:,0], x[:,1], s=50, c=y, cmap=plt.cm.winter)\n",
    "    h = .02 # step size in the mesh\n",
    "    x_min, x_max = x[:, 0].min() - 1, x[:, 0].max() + 1\n",
    "    y_min, y_max = x[:, 1].min() - 1, x[:, 1].max() + 1\n",
    "    xx, yy = np.meshgrid(np.arange(x_min, x_max, h),np.arange(y_min,y_max, h))\n",
    "    Z = model.predict(np.c_[xx.ravel(), yy.ravel()])\n",
    "    Z = Z.reshape(xx.shape)\n",
    "    plt.contour(xx, yy, Z, cmap=plt.cm.Paired)\n",
    "    plt.title(title)\n",
    "    plt.show()\n",
    "\n",
    "def visualize_border_interactive(param):\n",
    "    model = train_model(param)\n",
    "    visualize_border(model,X,y)\n",
    "\n",
    "from sklearn.linear_model import LogisticRegression as LR\n",
    "def train_model(param):\n",
    "    model = LR()\n",
    "    model.set_params(C=param)\n",
    "    model.fit(X_train,y_train)\n",
    "    return model\n",
    "#p_min = 1\n",
    "#p_max = 100\n",
    "#interactive(visualize_border_interactive,param=(p_min,p_max))\n"
   ]
  },
  {
   "cell_type": "code",
   "execution_count": 19,
   "metadata": {},
   "outputs": [
    {
     "data": {
      "image/png": "[encoded data removed]",
      "text/plain": [
       "<matplotlib.figure.Figure at 0xb5aeda0>"
      ]
     },
     "metadata": {},
     "output_type": "display_data"
    },
    {
     "name": "stdout",
     "output_type": "stream",
     "text": [
      "\n"
     ]
    }
   ],
   "source": [
    "Cs = [0.0001,0.01,0.1,1,10,100,1000]\n",
    "ln_Cs = np.log10(Cs)\n",
    "Error = []\n",
    "for c in Cs:\n",
    "    modelo = train_model(c)\n",
    "    Error.append(1-modelo.score(X_test,y_test))\n",
    "\n",
    "f,axarr = plt.subplots(1,figsize=(14,6))\n",
    "axarr.plot(ln_Cs,Error,'go-',label=\"Conjunto de test\")\n",
    "axarr.set_title(\"Regresion Logistica con distintos Cs\")\n",
    "axarr.set_xlabel('Parametro C')\n",
    "axarr.set_ylabel('Error')\n",
    "axarr.legend(loc=\"upper right\", fancybox= True)\n",
    "plt.show()\n",
    "\n",
    "    "
   ]
  },
  {
   "cell_type": "code",
   "execution_count": 20,
   "metadata": {},
   "outputs": [
    {
     "data": {
      "image/png": "[encoded data removed]",
      "text/plain": [
       "<matplotlib.figure.Figure at 0x6fe7f60>"
      ]
     },
     "metadata": {},
     "output_type": "display_data"
    }
   ],
   "source": [
    "# SVM\n",
    "from sklearn.svm import SVC as SVM #SVC is for classification\n",
    "error_svm = []\n",
    "def train_model_SVM(param):\n",
    "    model= SVM()\n",
    "    model.set_params(C=param,kernel='linear')\n",
    "    model.fit(X_train,y_train)\n",
    "    return model\n",
    "for c in Cs:\n",
    "    modelo_svm = train_model_SVM(c)\n",
    "    error_svm.append(1-modelo_svm.score(X_test,y_test))\n",
    "\n",
    "f,axarr = plt.subplots(1,figsize=(14,6))\n",
    "axarr.plot(ln_Cs,error_svm,'go-',label=\"Conjunto de test\")\n",
    "axarr.set_title(\"SVM con distintos Cs\")\n",
    "axarr.set_xlabel('Parametro C')\n",
    "axarr.set_ylabel('Error')\n",
    "axarr.legend(loc=\"upper right\", fancybox= True)\n",
    "plt.show()\n",
    "    "
   ]
  },
  {
   "cell_type": "markdown",
   "metadata": {},
   "source": [
    "### l) Árbol de Decisión"
   ]
  },
  {
   "cell_type": "code",
   "execution_count": 21,
   "metadata": {
    "collapsed": true
   },
   "outputs": [],
   "source": [
    "from sklearn.tree import DecisionTreeClassifier as Tree\n",
    "X_tree = range(1,31)\n",
    "Y_tree = []\n",
    "for i in range(1,31):\n",
    "    model = Tree()\n",
    "    model.set_params(max_depth=i,criterion='gini',splitter='best')\n",
    "    model.fit(X_train,y_train)\n",
    "    Y_tree.append(1-model.score(X_test,y_test))\n",
    "    "
   ]
  },
  {
   "cell_type": "code",
   "execution_count": 22,
   "metadata": {},
   "outputs": [
    {
     "data": {
      "image/png": "[encoded data removed]",
      "text/plain": [
       "<matplotlib.figure.Figure at 0xb5ae5f8>"
      ]
     },
     "metadata": {},
     "output_type": "display_data"
    }
   ],
   "source": [
    "f,axarr = plt.subplots(1,figsize=(14,6))\n",
    "axarr.plot(X_tree,Y_tree,'ro-',label=\"Conjunto de test\")\n",
    "axarr.set_title(\"Error en Arbol con criterio gini\")\n",
    "axarr.set_xlabel('Max Depth')\n",
    "axarr.set_ylabel('Error')\n",
    "axarr.legend(loc=\"upper right\", fancybox= True)\n",
    "plt.show()"
   ]
  },
  {
   "cell_type": "code",
   "execution_count": 23,
   "metadata": {},
   "outputs": [
    {
     "ename": "KeyboardInterrupt",
     "evalue": "",
     "output_type": "error",
     "traceback": [
      "\u001b[1;31m---------------------------------------------------------------------------\u001b[0m",
      "\u001b[1;31mKeyboardInterrupt\u001b[0m                         Traceback (most recent call last)",
      "\u001b[1;32m<ipython-input-23-2e46393ec6e8>\u001b[0m in \u001b[0;36m<module>\u001b[1;34m()\u001b[0m\n\u001b[0;32m      4\u001b[0m     \u001b[0mmodel\u001b[0m \u001b[1;33m=\u001b[0m \u001b[0mTree\u001b[0m\u001b[1;33m(\u001b[0m\u001b[1;33m)\u001b[0m\u001b[1;33m\u001b[0m\u001b[0m\n\u001b[0;32m      5\u001b[0m     \u001b[0mmodel\u001b[0m\u001b[1;33m.\u001b[0m\u001b[0mset_params\u001b[0m\u001b[1;33m(\u001b[0m\u001b[0mmax_depth\u001b[0m\u001b[1;33m=\u001b[0m\u001b[0mi\u001b[0m\u001b[1;33m,\u001b[0m\u001b[0mcriterion\u001b[0m\u001b[1;33m=\u001b[0m\u001b[1;34m'entropy'\u001b[0m\u001b[1;33m,\u001b[0m\u001b[0msplitter\u001b[0m\u001b[1;33m=\u001b[0m\u001b[1;34m'best'\u001b[0m\u001b[1;33m)\u001b[0m\u001b[1;33m\u001b[0m\u001b[0m\n\u001b[1;32m----> 6\u001b[1;33m     \u001b[0mmodel\u001b[0m\u001b[1;33m.\u001b[0m\u001b[0mfit\u001b[0m\u001b[1;33m(\u001b[0m\u001b[0mX_train\u001b[0m\u001b[1;33m,\u001b[0m\u001b[0my_train\u001b[0m\u001b[1;33m)\u001b[0m\u001b[1;33m\u001b[0m\u001b[0m\n\u001b[0m\u001b[0;32m      7\u001b[0m     \u001b[0mY_tree\u001b[0m\u001b[1;33m.\u001b[0m\u001b[0mappend\u001b[0m\u001b[1;33m(\u001b[0m\u001b[1;36m1\u001b[0m\u001b[1;33m-\u001b[0m\u001b[0mmodel\u001b[0m\u001b[1;33m.\u001b[0m\u001b[0mscore\u001b[0m\u001b[1;33m(\u001b[0m\u001b[0mX_test\u001b[0m\u001b[1;33m,\u001b[0m\u001b[0my_test\u001b[0m\u001b[1;33m)\u001b[0m\u001b[1;33m)\u001b[0m\u001b[1;33m\u001b[0m\u001b[0m\n\u001b[0;32m      8\u001b[0m \u001b[1;33m\u001b[0m\u001b[0m\n",
      "\u001b[1;32mC:\\Anaconda3\\envs\\py27\\lib\\site-packages\\sklearn\\tree\\tree.pyc\u001b[0m in \u001b[0;36mfit\u001b[1;34m(self, X, y, sample_weight, check_input, X_idx_sorted)\u001b[0m\n\u001b[0;32m    788\u001b[0m             \u001b[0msample_weight\u001b[0m\u001b[1;33m=\u001b[0m\u001b[0msample_weight\u001b[0m\u001b[1;33m,\u001b[0m\u001b[1;33m\u001b[0m\u001b[0m\n\u001b[0;32m    789\u001b[0m             \u001b[0mcheck_input\u001b[0m\u001b[1;33m=\u001b[0m\u001b[0mcheck_input\u001b[0m\u001b[1;33m,\u001b[0m\u001b[1;33m\u001b[0m\u001b[0m\n\u001b[1;32m--> 790\u001b[1;33m             X_idx_sorted=X_idx_sorted)\n\u001b[0m\u001b[0;32m    791\u001b[0m         \u001b[1;32mreturn\u001b[0m \u001b[0mself\u001b[0m\u001b[1;33m\u001b[0m\u001b[0m\n\u001b[0;32m    792\u001b[0m \u001b[1;33m\u001b[0m\u001b[0m\n",
      "\u001b[1;32mC:\\Anaconda3\\envs\\py27\\lib\\site-packages\\sklearn\\tree\\tree.pyc\u001b[0m in \u001b[0;36mfit\u001b[1;34m(self, X, y, sample_weight, check_input, X_idx_sorted)\u001b[0m\n\u001b[0;32m    360\u001b[0m                                            min_impurity_split)\n\u001b[0;32m    361\u001b[0m \u001b[1;33m\u001b[0m\u001b[0m\n\u001b[1;32m--> 362\u001b[1;33m         \u001b[0mbuilder\u001b[0m\u001b[1;33m.\u001b[0m\u001b[0mbuild\u001b[0m\u001b[1;33m(\u001b[0m\u001b[0mself\u001b[0m\u001b[1;33m.\u001b[0m\u001b[0mtree_\u001b[0m\u001b[1;33m,\u001b[0m \u001b[0mX\u001b[0m\u001b[1;33m,\u001b[0m \u001b[0my\u001b[0m\u001b[1;33m,\u001b[0m \u001b[0msample_weight\u001b[0m\u001b[1;33m,\u001b[0m \u001b[0mX_idx_sorted\u001b[0m\u001b[1;33m)\u001b[0m\u001b[1;33m\u001b[0m\u001b[0m\n\u001b[0m\u001b[0;32m    363\u001b[0m \u001b[1;33m\u001b[0m\u001b[0m\n\u001b[0;32m    364\u001b[0m         \u001b[1;32mif\u001b[0m \u001b[0mself\u001b[0m\u001b[1;33m.\u001b[0m\u001b[0mn_outputs_\u001b[0m \u001b[1;33m==\u001b[0m \u001b[1;36m1\u001b[0m\u001b[1;33m:\u001b[0m\u001b[1;33m\u001b[0m\u001b[0m\n",
      "\u001b[1;31mKeyboardInterrupt\u001b[0m: "
     ]
    }
   ],
   "source": [
    "X_tree = range(1,31)\n",
    "Y_tree = []\n",
    "for i in range(1,31):\n",
    "    model = Tree()\n",
    "    model.set_params(max_depth=i,criterion='entropy',splitter='best')\n",
    "    model.fit(X_train,y_train)\n",
    "    Y_tree.append(1-model.score(X_test,y_test))\n",
    "\n",
    "f,axarr = plt.subplots(1,figsize=(14,6))\n",
    "axarr.plot(X_tree,Y_tree,'ro-',label=\"Conjunto de test\")\n",
    "axarr.set_title(\"Error en Arbol con criterio entropy\")\n",
    "axarr.set_xlabel('Max Depth')\n",
    "axarr.set_ylabel('Error')\n",
    "axarr.legend(loc=\"upper right\", fancybox= True)\n",
    "plt.show()"
   ]
  },
  {
   "cell_type": "code",
   "execution_count": null,
   "metadata": {},
   "outputs": [],
   "source": [
    "#print \"Predicciones:\"\n",
    "#print model.predict(X_test)\n",
    "#print \"Etiquetas Reales:\"\n",
    "#print y_test\n",
    "#print model.score(X_test,y_test)\n",
    "print X_train"
   ]
  },
  {
   "cell_type": "markdown",
   "metadata": {},
   "source": [
    "La máxima profundidad del árbol no cumple alguna relación en cuanto al error del modelo a medida que va aumentando, no se observa una tendencia."
   ]
  },
  {
   "cell_type": "markdown",
   "metadata": {},
   "source": [
    "### m) Dimensiones d para PCA"
   ]
  },
  {
   "cell_type": "code",
   "execution_count": null,
   "metadata": {},
   "outputs": [],
   "source": [
    "d = range(2,10000,100)\n",
    "Y_d = []\n",
    "for i in d:\n",
    "    pca_model = PCA(n_components=i)\n",
    "    pca_model.fit(X_train)\n",
    "    X_pca_train = pca_model.transform(X_train)\n",
    "    X_pca_test = pca_model.transform(X_test)\n",
    "    model = Tree()\n",
    "    model.set_params(max_depth=3,criterion='gini',splitter='best') # Máxima profundidad 3 ya que dio el menor valor de error.\n",
    "    model.fit(X_pca_train,y_train)\n",
    "    Y_d.append(1-model.score(X_pca_test,y_test))\n",
    "\n",
    "f,axarr = plt.subplots(1,figsize=(14,6))\n",
    "axarr.plot(d,Y_d,'ro-',label=\"Conjunto de test\")\n",
    "axarr.set_title(\"Error en Arbol de Decision con d dimensiones a traves de PCA\")\n",
    "axarr.set_xlabel('Dimensiones')\n",
    "axarr.set_ylabel('Error')\n",
    "axarr.legend(loc=\"upper right\", fancybox= True)\n",
    "plt.show()    "
   ]
  },
  {
   "cell_type": "markdown",
   "metadata": {},
   "source": [
    "### n) Reducción a través de LDA"
   ]
  },
  {
   "cell_type": "code",
   "execution_count": null,
   "metadata": {},
   "outputs": [],
   "source": [
    "from sklearn.discriminant_analysis import LinearDiscriminantAnalysis as LDA\n",
    "model_lda = LDA(n_components=2)\n",
    "model_lda.fit(X_train,y_train)\n",
    "X_lda_train = model_lda.transform(X_train)\n",
    "X_lda_test = model_lda.transform(X_test)\n",
    "\n",
    "colors={0:'b',1:'g',2:'r'}\n",
    "markers={0:'o',1:'+',2: 'v'}\n",
    "labels = range(3)\n",
    "\n",
    "plt.figure(figsize=(20,10))\n",
    "for i in range(0,len(X_pca_train)):\n",
    "    label = y_train[i]\n",
    "    line = plt.plot(X_lda_train[i][0],X_lda_train[i][1],color=colors[label],marker=markers[label],markersize=10)\n",
    "plt.title(\"Reduccion de dimensionalidad con LDA\")\n",
    "plt.xlim((-10,10))\n",
    "plt.show()"
   ]
  },
  {
   "cell_type": "markdown",
   "metadata": {},
   "source": [
    "Warning: Variables are collinear,"
   ]
  },
  {
   "cell_type": "markdown",
   "metadata": {},
   "source": [
    "### o) El mejor modelo? PCA vs LDA "
   ]
  },
  {
   "cell_type": "code",
   "execution_count": null,
   "metadata": {},
   "outputs": [],
   "source": [
    "## Regresion Logistica\n",
    "def train_model_LDA(param):\n",
    "    model = LR()\n",
    "    model.set_params(C=param)\n",
    "    model.fit(X_lda_train,y_train)\n",
    "    return model\n",
    "\n",
    "error_lda = []\n",
    "for c in Cs:\n",
    "    modelo = train_model_LDA(c)\n",
    "    error_lda.append(1-modelo.score(X_lda_test,y_test))\n",
    "\n",
    "f,axarr = plt.subplots(1,figsize=(14,6))\n",
    "axarr.plot(ln_Cs,error_lda,'go-',label=\"Conjunto de test LDA\")\n",
    "axarr.plot(ln_Cs,Error,'ro-',label=\"Conjunto de test PCA\")\n",
    "\n",
    "axarr.set_title(\"Regresion Logistica con distintos Cs PCA vs LDA\")\n",
    "axarr.set_xlabel('Parametro C')\n",
    "axarr.set_ylabel('Error')\n",
    "axarr.legend(loc=\"upper right\", fancybox= True)\n",
    "plt.show()\n"
   ]
  },
  {
   "cell_type": "code",
   "execution_count": null,
   "metadata": {},
   "outputs": [],
   "source": [
    "## SVM kernel lineal\n",
    "def train_model_SVM_LDA(param):\n",
    "    model= SVM()\n",
    "    model.set_params(C=param,kernel='linear')\n",
    "    model.fit(X_lda_train,y_train)\n",
    "    return model\n",
    "\n",
    "error_svm_lda = []\n",
    "for c in Cs:\n",
    "    modelo_svm = train_model_SVM_LDA(c)\n",
    "    error_svm_lda.append(1-modelo_svm.score(X_lda_test,y_test))\n",
    "\n",
    "f,axarr = plt.subplots(1,figsize=(14,6))\n",
    "axarr.plot(ln_Cs,error_svm_lda,'go-',label=\"Conjunto de test LDA\")\n",
    "axarr.plot(ln_Cs,error_svm,'ro-',label=\"Conjunto de test PCA\")\n",
    "axarr.set_title(\"SVM con distintos Cs\")\n",
    "axarr.set_xlabel('Parametro C')\n",
    "axarr.set_ylabel('Error')\n",
    "axarr.legend(loc=\"upper right\", fancybox= True)\n",
    "plt.show()\n"
   ]
  },
  {
   "cell_type": "code",
   "execution_count": null,
   "metadata": {},
   "outputs": [],
   "source": [
    "from sklearn.tree import DecisionTreeClassifier as Tree\n",
    "pca_model_t = PCA(n_components=2)\n",
    "pca_model_t.fit(X_train)\n",
    "X_pca_train = pca_model_t.transform(X_train)\n",
    "X_pca_test = pca_model_t.transform(X_test)\n",
    "terror_pca = []\n",
    "terror_lda = []\n",
    "\n",
    "## Arbol de Decision Con Max depth = 13 ya que es el de menor error!\n",
    "X_tree = range(1,31)\n",
    "for i in range(1,31):\n",
    "    model = Tree()\n",
    "    model.set_params(max_depth=i,criterion='gini',splitter='best')\n",
    "    model.fit(X_pca_train,y_train)\n",
    "    terror_pca.append(1-model.score(X_pca_test,y_test))\n",
    "    model = Tree()\n",
    "    model.set_params(max_depth=i,criterion='gini',splitter='best')\n",
    "    model.fit(X_lda_train,y_train)\n",
    "    terror_lda.append(1-model.score(X_lda_test,y_test))\n",
    "\n",
    "f,axarr = plt.subplots(1,figsize=(15,10))\n",
    "axarr.plot(X_tree,terror_lda,'go-',label=\"Conjunto de test LDA\")\n",
    "axarr.plot(X_tree,terror_pca,label=\"Conjunto de test PCA\")\n",
    "axarr.set_title(\"Error en Arbol de Decision PCA vs LDA\")\n",
    "axarr.set_xlabel('Maxima Profundidad')\n",
    "axarr.set_ylabel('Error')\n",
    "axarr.legend(loc=\"upper right\", fancybox= True)\n",
    "plt.show()  \n"
   ]
  },
  {
   "cell_type": "markdown",
   "metadata": {},
   "source": [
    "Porqué se comporta así!?"
   ]
  },
  {
   "cell_type": "markdown",
   "metadata": {},
   "source": [
    "### p) Feature crafting"
   ]
  }
 ],
 "metadata": {
  "kernelspec": {
   "display_name": "Python 2",
   "language": "python",
   "name": "python2"
  },
  "language_info": {
   "codemirror_mode": {
    "name": "ipython",
    "version": 2
   },
   "file_extension": ".py",
   "mimetype": "text/x-python",
   "name": "python",
   "nbconvert_exporter": "python",
   "pygments_lexer": "ipython2",
   "version": "2.7.14"
  }
 },
 "nbformat": 4,
 "nbformat_minor": 2
}
