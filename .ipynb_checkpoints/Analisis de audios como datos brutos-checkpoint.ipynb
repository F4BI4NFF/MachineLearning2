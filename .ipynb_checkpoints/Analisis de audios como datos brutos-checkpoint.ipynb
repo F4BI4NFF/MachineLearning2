{
 "cells": [
  {
   "cell_type": "markdown",
   "metadata": {},
   "source": [
    "## 2.- Análisis de audios como datos brutos"
   ]
  },
  {
   "cell_type": "markdown",
   "metadata": {},
   "source": [
    "En este ejercicio, se calificarán sonidos de latidos cardíacos en las clases *(Murmur, Extra Heart Sound, Arti-\n",
    "fact)* , para trabajar con archivos de extensión .wav se utiliza el siguiente código:"
   ]
  },
  {
   "cell_type": "code",
   "execution_count": 1,
   "metadata": {
    "collapsed": true
   },
   "outputs": [],
   "source": [
    "from scipy.io import wavfile\n",
    "def clean_filename(fname,string):\n",
    "    file_name = fname.split('/')[1]\n",
    "    if file_name[:2] == '__':\n",
    "        file_name = string + file_name\n",
    "    return file_name\n",
    "SAMPLE_RATE = 44100\n",
    "def load_wav_file(name,path):\n",
    "    s,b = wavfile.read(path+name)\n",
    "    assert s == SAMPLE_RATE\n",
    "    return b\n"
   ]
  },
  {
   "cell_type": "markdown",
   "metadata": {},
   "source": [
    "###  a) Descripción de datos"
   ]
  },
  {
   "cell_type": "code",
   "execution_count": 57,
   "metadata": {},
   "outputs": [
    {
     "name": "stdout",
     "output_type": "stream",
     "text": [
      "Cantidad de datos: 176\n",
      "Cantidad de atributos: 4\n",
      "\n",
      " Cada ejemplo es de la forma: \n",
      "\n",
      "  dataset                             fname     label  sublabel\n",
      "0       a  set_a/artifact__201012172012.wav  artifact       NaN\n",
      "\n",
      " Registros por clase\n",
      "Clase:Nan  Registros:52\n",
      "\n",
      "Clase:Extrahls  Registros:19\n",
      "\n",
      "Clase:Murmur  Registros:34\n",
      "\n",
      "Clase:Artifact  Registros:40\n",
      "\n",
      "Clase:Normal  Registros:31\n",
      "\n"
     ]
    }
   ],
   "source": [
    "import pandas as pd\n",
    "import numpy as np\n",
    "df = pd.read_csv('set_a.csv')\n",
    "print \"Cantidad de datos:\", df.shape[0] \n",
    "print \"Cantidad de atributos:\", df.shape[1]\n",
    "print \"\\n Cada ejemplo es de la forma: \\n\"\n",
    "print df[:1]\n",
    "def clase_ocurrencia(df,campo):\n",
    "    clases = {}\n",
    "    for index,row in df.iterrows():\n",
    "        if row[campo] not in clases.keys():\n",
    "                clases[row[campo]] = 1\n",
    "        else:\n",
    "            clases[row[campo]] += 1\n",
    "    return clases\n",
    "\n",
    "clases = clase_ocurrencia(df,'label')\n",
    "print \"\\n Registros por clase\"\n",
    "\n",
    "for k,v in clases.items():\n",
    "    print \"Clase:\"+str(k).title()+\"  Registros:\"+str(v)+\"\\n\" "
   ]
  },
  {
   "cell_type": "markdown",
   "metadata": {},
   "source": [
    "### b) Lectura de archivos .wav y Transformación en secuencias de tiempo"
   ]
  },
  {
   "cell_type": "code",
   "execution_count": 51,
   "metadata": {},
   "outputs": [
    {
     "name": "stdout",
     "output_type": "stream",
     "text": [
      "Series de tiempo\n",
      "0      [1.0, -3.0, -1.0, -7.0, -9.0, -2.0, -6.0, -5.0...\n",
      "1      [-2.0, 3.0, -4.0, 4.0, -3.0, 2.0, -1.0, 0.0, 0...\n",
      "2      [6.0, -4.0, -9.0, -1.0, -4.0, 1.0, -5.0, 2.0, ...\n",
      "3      [-85.0, -198.0, -214.0, -173.0, -177.0, -206.0...\n",
      "4      [53.0, -35.0, 47.0, 170.0, 340.0, 436.0, 535.0...\n",
      "5      [-2.0, 2.0, -2.0, 2.0, -2.0, 1.0, 1.0, -3.0, 3...\n",
      "6      [47.0, 70.0, 47.0, 58.0, 53.0, 45.0, 13.0, 21....\n",
      "7      [605.0, 648.0, 473.0, 171.0, -203.0, -512.0, -...\n",
      "8      [-49.0, 0.0, 17.0, -43.0, 30.0, 9.0, -29.0, 50...\n",
      "9      [52.0, -1291.0, -1116.0, 101.0, 2429.0, 3776.0...\n",
      "10     [-1.0, 0.0, 1.0, -2.0, 3.0, -3.0, 3.0, -3.0, 3...\n",
      "11     [97.0, 152.0, 167.0, 168.0, 140.0, 113.0, 75.0...\n",
      "12     [-1390.0, -1358.0, -1372.0, -1377.0, -1396.0, ...\n",
      "13     [19664.0, 22367.0, 24463.0, 25936.0, 26723.0, ...\n",
      "14     [-5.0, -5.0, 2.0, -2.0, -3.0, -16.0, -2.0, 20....\n",
      "15     [6.0, 86.0, 21.0, 73.0, 52.0, 25.0, -53.0, -24...\n",
      "16     [-15901.0, -16151.0, -16527.0, -16737.0, -1654...\n",
      "17     [71.0, 75.0, 73.0, 87.0, 90.0, 101.0, 109.0, 1...\n",
      "18     [2373.0, 2373.0, 2374.0, 2373.0, 2385.0, 2387....\n",
      "19     [90.0, 97.0, 93.0, 82.0, 62.0, 37.0, 22.0, 27....\n",
      "20     [-2169.0, -2661.0, -1605.0, 952.0, 4714.0, 910...\n",
      "21     [-23.0, -127.0, -189.0, -259.0, -301.0, -362.0...\n",
      "22     [-3542.0, -2833.0, -2493.0, -2330.0, -2260.0, ...\n",
      "23     [-26.0, -29.0, -54.0, -17.0, -41.0, -53.0, -11...\n",
      "24     [-10054.0, -12117.0, -14014.0, -15866.0, -1760...\n",
      "25     [-2915.0, -2290.0, -1801.0, -1705.0, -1743.0, ...\n",
      "26     [-3.0, 3.0, -2.0, 2.0, -1.0, 0.0, 0.0, -1.0, 2...\n",
      "27     [3028.0, 4305.0, 5549.0, 6776.0, 7968.0, 9128....\n",
      "28     [-3489.0, -4399.0, -5297.0, -6197.0, -7087.0, ...\n",
      "29     [-35.0, 15.0, 38.0, -48.0, 46.0, 35.0, -23.0, ...\n",
      "                             ...                        \n",
      "146    [46.0, 67.0, 103.0, 93.0, 112.0, 111.0, 123.0,...\n",
      "147    [-1818.0, -1599.0, -1370.0, -1145.0, -914.0, -...\n",
      "148    [-1347.0, 1814.0, 4634.0, 6989.0, 8742.0, 9591...\n",
      "149    [-1.0, 2.0, -3.0, 2.0, 0.0, -1.0, 1.0, -1.0, 1...\n",
      "150    [-3.0, -21.0, -28.0, -29.0, -27.0, -19.0, -19....\n",
      "151    [-877.0, -741.0, -644.0, -367.0, -359.0, -384....\n",
      "152    [27.0, 21.0, 21.0, 17.0, 11.0, 0.0, -17.0, -28...\n",
      "153    [-20.0, -12.0, -16.0, -17.0, -14.0, -21.0, -20...\n",
      "154    [581.0, 578.0, 572.0, 573.0, 565.0, 558.0, 551...\n",
      "155    [4.0, -3.0, 2.0, -2.0, 3.0, -4.0, 4.0, -3.0, 2...\n",
      "156    [170.0, 157.0, 162.0, 139.0, 150.0, 164.0, 158...\n",
      "157    [-2673.0, -109.0, 2185.0, 3466.0, 3446.0, 2443...\n",
      "158    [1.0, -1.0, 0.0, 1.0, -1.0, 1.0, 0.0, -2.0, 3....\n",
      "159    [-26297.0, -25721.0, -25059.0, -24314.0, -2345...\n",
      "160    [-93.0, -44.0, -62.0, 57.0, -8.0, 3.0, -71.0, ...\n",
      "161    [-414.0, -411.0, -412.0, -425.0, -419.0, -425....\n",
      "162    [-2.0, 1.0, 0.0, 0.0, -1.0, 2.0, -2.0, 1.0, 0....\n",
      "163    [-404.0, -442.0, -456.0, -482.0, -482.0, -494....\n",
      "164    [519.0, 563.0, 585.0, 611.0, 618.0, 622.0, 618...\n",
      "165    [280.0, 300.0, 317.0, 326.0, 332.0, 334.0, 328...\n",
      "166    [-240.0, -251.0, -270.0, -270.0, -279.0, -272....\n",
      "167    [-274.0, -287.0, -301.0, -295.0, -305.0, -289....\n",
      "168    [-501.0, -533.0, -558.0, -573.0, -580.0, -577....\n",
      "169    [591.0, 645.0, 693.0, 730.0, 765.0, 785.0, 808...\n",
      "170    [-175.0, -191.0, -199.0, -208.0, -211.0, -215....\n",
      "171    [-166.0, -173.0, -188.0, -184.0, -194.0, -185....\n",
      "172    [-14035.0, -15001.0, -15710.0, -16178.0, -1638...\n",
      "173    [376.0, 413.0, 429.0, 444.0, 456.0, 454.0, 454...\n",
      "174    [-690.0, -745.0, -782.0, -817.0, -831.0, -842....\n",
      "175    [704.0, 760.0, 788.0, 818.0, 825.0, 828.0, 817...\n",
      "Name: time_series, Length: 176, dtype: object\n"
     ]
    }
   ],
   "source": [
    "def padd_zeros(array,length):\n",
    "    aux = np.zeros(length)\n",
    "    aux[:array.shape[0]] = array\n",
    "    return aux\n",
    "\n",
    "new_df =pd.DataFrame({'file_name' : df['fname'].apply(clean_filename,string='Aunlabelledtest')})\n",
    "new_df['time_series'] = new_df['file_name'].apply(load_wav_file, path='./set_a/')\n",
    "new_df['len_series'] = new_df['time_series'].apply(len)\n",
    "new_df['time_series']=new_df['time_series'].apply(padd_zeros,length=max(new_df['len_series']))\n",
    "\n",
    "print \"Series de tiempo\"\n",
    "print new_df['time_series']\n"
   ]
  },
  {
   "cell_type": "markdown",
   "metadata": {},
   "source": [
    "Padding sirve para una estandarización de los datos, con esto son más fáciles de trabajar ( puede ser requerido para algún tipo de algoritmo) , para realizar comparaciones en el tiempo.. etc."
   ]
  },
  {
   "cell_type": "markdown",
   "metadata": {},
   "source": [
    "### c) Cambio de etiquetas"
   ]
  },
  {
   "cell_type": "code",
   "execution_count": 60,
   "metadata": {},
   "outputs": [
    {
     "name": "stdout",
     "output_type": "stream",
     "text": [
      "Registros por clase con nuevas etiquetas: \n",
      "\n",
      "Clase:Normal/Extrahls  Registros:65\n",
      "\n",
      "Clase:Murmur  Registros:53\n",
      "\n",
      "Clase:Artifact  Registros:58\n",
      "\n"
     ]
    }
   ],
   "source": [
    "new_labels =[0, 0, 0, 0, 0, 0, 0, 0, 0, 0, 0, 0, 0, 0, 0, 0, 0, 0, 0, 0, 0, 0, 0, 0, 0,\n",
    "0, 0, 0, 0, 0, 0, 0, 0, 0, 0, 0, 0, 0, 0, 0, 2, 1, 1, 1, 1, 1, 1, 1, 1, 1,\n",
    "1, 1, 1, 1, 1, 2, 1, 1, 1, 2, 2, 2, 1, 1, 2, 1, 2, 2, 1, 2, 2, 2, 2, 2, 2,\n",
    "2, 2, 2, 2, 2, 2, 2, 2, 2, 2, 2, 2, 2, 2, 2, 2, 2, 2, 1, 1, 1, 1, 1, 1, 1,\n",
    "1, 2, 1, 1, 1, 1, 1, 2, 1, 1, 1, 1, 1, 1, 1, 2, 2, 1, 1, 1, 1, 1, 2, 1, 0,\n",
    "2, 2, 1, 1, 1, 1, 1, 0, 1, 0, 1, 1, 1, 2, 1, 0, 1, 1, 1, 1, 1, 2, 0, 0, 0,\n",
    "0, 0, 0, 0, 1, 0, 0, 0, 0, 0, 0, 1, 0, 2, 1, 2, 2, 2, 2, 2, 2, 2, 2, 2, 2,2]\n",
    "labels = ['artifact','normal/extrahls', 'murmur']\n",
    "new_df['target'] = [labels[i] for i in new_labels]\n",
    "nuevas_clases = clase_ocurrencia(new_df,'target')\n",
    "print \"Registros por clase con nuevas etiquetas: \\n\"\n",
    "for k,v in nuevas_clases.items():\n",
    "    print \"Clase:\"+str(k).title()+\"  Registros:\"+str(v)+\"\\n\" \n",
    "\n"
   ]
  },
  {
   "cell_type": "markdown",
   "metadata": {},
   "source": [
    "La problemática de tener etiquetas mal asignadas radica en el momento del entrenamiento, dado que estaremos entregandole datos erroneos para la futura clasificación de un dato, por lo que lo más probable falle al momento de clasificar un nuevo ejemplo, en consecuencia se obtiene un mal clasificador.\n",
    "No entendí la pregunta ¿Un solo dato puede afectar eso? => Problemas en entrenamiento / clasificación."
   ]
  },
  {
   "cell_type": "markdown",
   "metadata": {},
   "source": [
    "### d) Codificación a valores numéricos"
   ]
  },
  {
   "cell_type": "code",
   "execution_count": 62,
   "metadata": {
    "collapsed": true
   },
   "outputs": [],
   "source": [
    "new_df[\"target\"] = new_df[\"target\"].astype('category')\n",
    "cat_columns = new_df.select_dtypes(['category']).columns\n",
    "new_df[cat_columns] = new_df[cat_columns].apply(lambda x: x.cat.codes)"
   ]
  },
  {
   "cell_type": "markdown",
   "metadata": {},
   "source": [
    "### e) Desorden de datos / Matriz de datos"
   ]
  },
  {
   "cell_type": "code",
   "execution_count": 70,
   "metadata": {},
   "outputs": [
    {
     "data": {
      "text/plain": [
       "(176L, 396900L)"
      ]
     },
     "execution_count": 70,
     "metadata": {},
     "output_type": "execute_result"
    }
   ],
   "source": [
    "new_df = new_df.sample(frac=1,random_state=44) # Hace un muestreo aleatorio\n",
    "X = np.stack(new_df['time_series'].values, axis=0)\n",
    "y = new_df.target.values\n",
    "X.shape"
   ]
  },
  {
   "cell_type": "markdown",
   "metadata": {},
   "source": [
    "Cada instante de tiempo es un atributo de cada ejemplo, en este caso son 396900, lo cual puede ser una complicación al momento del entrenamiento por el gran tamaño que poseen. Hay que tener en cuenta también la maldición de la dimensionalidad, es más complejo clasificar con una gran cantidad de atributos, por lo que se debe hacer una ingeniería de atributos... ( Aún salen esas L >:c )"
   ]
  },
  {
   "cell_type": "markdown",
   "metadata": {},
   "source": [
    "### f) Pre-procesamiento - Transformada de Fourier discreta"
   ]
  },
  {
   "cell_type": "code",
   "execution_count": 72,
   "metadata": {},
   "outputs": [
    {
     "data": {
      "text/plain": [
       "array([ 359477.        ,  377325.15218072,  339834.16175701, ...,\n",
       "        229163.55471422,  339834.161757  ,  377325.15218072])"
      ]
     },
     "execution_count": 72,
     "metadata": {},
     "output_type": "execute_result"
    }
   ],
   "source": [
    "X_fourier = np.abs(np.fft.fft(X))"
   ]
  },
  {
   "cell_type": "markdown",
   "metadata": {},
   "source": [
    "### g) Muestreo representativo"
   ]
  },
  {
   "cell_type": "code",
   "execution_count": 82,
   "metadata": {},
   "outputs": [
    {
     "data": {
      "text/plain": [
       "(176L, 100000L)"
      ]
     },
     "execution_count": 82,
     "metadata": {},
     "output_type": "execute_result"
    }
   ],
   "source": [
    "from scipy import signal\n",
    "X_resampled = []\n",
    "for i in range(X_fourier.shape[0]):\n",
    "    sequence = X_fourier[i,:].copy()\n",
    "    resampled_sequence = signal.resample(sequence,100000) #Tecnica de muestreo especializado en secuencias\n",
    "    X_resampled.append(resampled_sequence)\n",
    "X_resampled = np.array(X_resampled)\n",
    "X_resampled.shape"
   ]
  },
  {
   "cell_type": "markdown",
   "metadata": {},
   "source": [
    "Este paso beneficia en reducir la dimensionalidad de los ejemplos.\n",
    "(Se podría determinar de manera práctica si el muestreo es representativo haciendo un clasificador con los ejemplos completos o con el muestreo y comparar los resultados.) Buscar otra manera"
   ]
  },
  {
   "cell_type": "markdown",
   "metadata": {},
   "source": [
    "### h) Conjuntos de pruebas / Hold-out validation"
   ]
  },
  {
   "cell_type": "code",
   "execution_count": 102,
   "metadata": {},
   "outputs": [
    {
     "name": "stdout",
     "output_type": "stream",
     "text": [
      "Tamaño de cada conjunto\n",
      "X_train => Ejemplos:132  Dimension de cada uno:100000\n",
      "X_test  => Ejemplos:44  Dimension de cada uno:100000\n",
      "y_train => (132L,)\n",
      "y_test => (44L,)\n",
      "set([0, 1, 2])\n"
     ]
    }
   ],
   "source": [
    "from sklearn.model_selection import train_test_split\n",
    "X_train, X_test, y_train, y_test = train_test_split(X_resampled,y,test_size=0.25,random_state=42)\n",
    "print \"Tamaño de cada conjunto\"\n",
    "print \"X_train => Ejemplos:\"+str(X_train.shape[0])+ \"  Dimension de cada uno:\"+str(X_train.shape[1])\n",
    "print \"X_test  => Ejemplos:\"+str(X_test.shape[0])+ \"  Dimension de cada uno:\"+str(X_test.shape[1])\n",
    "print \"y_train =>\", y_train.shape\n",
    "print \"y_test =>\", y_test.shape\n",
    "ys = set()\n",
    "for i in y_train:\n",
    "    ys.add(i)\n",
    "print ys"
   ]
  },
  {
   "cell_type": "markdown",
   "metadata": {},
   "source": [
    "Hay 3 clases..."
   ]
  },
  {
   "cell_type": "markdown",
   "metadata": {},
   "source": [
    "### i) Estandarización de datos "
   ]
  },
  {
   "cell_type": "code",
   "execution_count": 107,
   "metadata": {
    "collapsed": true
   },
   "outputs": [],
   "source": [
    "from sklearn.preprocessing import StandardScaler\n",
    "std = StandardScaler(with_mean=True,with_std=True)\n",
    "std.fit(X_train)\n",
    "X_train = std.transform(X_train)\n",
    "X_test = std.transform(X_test)"
   ]
  },
  {
   "cell_type": "markdown",
   "metadata": {},
   "source": [
    "### j) Visualización a través de PCA\n"
   ]
  },
  {
   "cell_type": "code",
   "execution_count": 127,
   "metadata": {},
   "outputs": [
    {
     "data": {
      "text/plain": [
       "132"
      ]
     },
     "execution_count": 127,
     "metadata": {},
     "output_type": "execute_result"
    }
   ],
   "source": [
    "from sklearn.decomposition import PCA\n",
    "d=2\n",
    "pca_model = PCA(n_components=2)\n",
    "pca_model.fit(X_train)\n",
    "X_pca_train = pca_model.transform(X_train)\n",
    "X_pca_test = pca_model.transform(X_test)\n",
    "len(X_pca_train)"
   ]
  },
  {
   "cell_type": "code",
   "execution_count": 165,
   "metadata": {},
   "outputs": [
    {
     "data": {
      "image/png": "[encoded data removed]",
      "text/plain": [
       "<matplotlib.figure.Figure at 0x106e8be0>"
      ]
     },
     "metadata": {},
     "output_type": "display_data"
    }
   ],
   "source": [
    "from sklearn.manifold import TSNE\n",
    "\n",
    "colors={0:'b',1:'g',2:'r'}\n",
    "markers={0:'o',1:'+',2: 'v'}\n",
    "labels = range(3)\n",
    "\n",
    "plt.figure(figsize=(20,10))\n",
    "for i in range(0,len(X_pca_train)):\n",
    "    label = y_train[i]\n",
    "    line = plt.plot(X_pca_train[i][0],X_pca_train[i][1],color=colors[label],marker=markers[label],markersize=10)\n",
    "plt.title(\"Representacion 2d de PCA\")\n",
    "plt.xlim((12,17))\n",
    "plt.show()\n",
    "    \n",
    "\n"
   ]
  },
  {
   "cell_type": "markdown",
   "metadata": {},
   "source": [
    "Alguna observación?"
   ]
  },
  {
   "cell_type": "code",
   "execution_count": null,
   "metadata": {
    "collapsed": true
   },
   "outputs": [],
   "source": [
    "#funcion utilizada para graficar el entrenamiento \n",
    "def plot_function(hist):\n",
    "    loss_values1 = hist['loss']\n",
    "    val_loss_values1 = hist['val_loss']\n",
    "    epochs1 = range(1, len(loss_values1) + 1)\n",
    "    f, axarr = plt.subplots(1,figsize=(14,6))\n",
    "    \n",
    "    axarr.plot(epochs1, loss_values1, 'bo-', label = \"Training set\")\n",
    "    axarr.plot(epochs1, val_loss_values1, 'g^-',label = \"Val set\")\n",
    "    axarr.set_title('Loss Autoencoder')\n",
    "    axarr.set_ylim(0,0.4)\n",
    "    axarr.set_xlabel('Epochs')\n",
    "    axarr.set_ylabel('Loss')\n",
    "    axarr.legend(loc=\"upper right\", fancybox= True)\n",
    "\n",
    "    plt.show()"
   ]
  },
  {
   "cell_type": "markdown",
   "metadata": {},
   "source": [
    "### k) Modelo de Regresión Logística / SVM"
   ]
  },
  {
   "cell_type": "code",
   "execution_count": null,
   "metadata": {
    "collapsed": true
   },
   "outputs": [],
   "source": [
    "from ipywidgets import interactive\n",
    "def visualize_border_interactive(param):\n",
    "    model = train_model(param)\n",
    "    visualize_border(model,X,y)\n",
    "\n",
    "from sklearn.linear_model import LogisticRegression as LR\n",
    "def train_model(param):\n",
    "    model = LR()\n",
    "    model.set_params(C=param)\n",
    "    model.fit(X_train,y_train)\n",
    "    return model\n",
    "p_min = \n",
    "p_max = \n",
    "interactive"
   ]
  },
  {
   "cell_type": "markdown",
   "metadata": {},
   "source": [
    "### l) Árbol de Decisión"
   ]
  },
  {
   "cell_type": "markdown",
   "metadata": {},
   "source": [
    "### m) Dimensiones d para PCA"
   ]
  },
  {
   "cell_type": "markdown",
   "metadata": {},
   "source": [
    "### n) Reducción a través de LDA"
   ]
  }
 ],
 "metadata": {
  "kernelspec": {
   "display_name": "Python 2",
   "language": "python",
   "name": "python2"
  },
  "language_info": {
   "codemirror_mode": {
    "name": "ipython",
    "version": 2
   },
   "file_extension": ".py",
   "mimetype": "text/x-python",
   "name": "python",
   "nbconvert_exporter": "python",
   "pygments_lexer": "ipython2",
   "version": "2.7.14"
  }
 },
 "nbformat": 4,
 "nbformat_minor": 2
}
