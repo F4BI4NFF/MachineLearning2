{
 "cells": [
  {
   "cell_type": "markdown",
   "metadata": {
    "collapsed": true
   },
   "source": [
    "### a) Construcción de Dataframe"
   ]
  },
  {
   "cell_type": "code",
   "execution_count": 1,
   "metadata": {},
   "outputs": [
    {
     "name": "stdout",
     "output_type": "stream",
     "text": [
      "     tweet_id   sentiment       author  \\\n",
      "0  1956967341       empty   xoshayzers   \n",
      "1  1956967666     sadness    wannamama   \n",
      "2  1956967696     sadness    coolfunky   \n",
      "3  1956967789  enthusiasm  czareaquino   \n",
      "4  1956968416     neutral    xkilljoyx   \n",
      "\n",
      "                                             content  \n",
      "0  @tiffanylue i know  i was listenin to bad habi...  \n",
      "1  Layin n bed with a headache  ughhhh...waitin o...  \n",
      "2                Funeral ceremony...gloomy friday...  \n",
      "3               wants to hang out with friends SOON!  \n",
      "4  @dannycastillo We want to trade with someone w...  \n",
      "['tweet_id', 'sentiment', 'author', 'content']\n",
      "Cantidad de registros 40000\n",
      "Cantidad de atributos 4\n"
     ]
    }
   ],
   "source": [
    "import pandas as pd\n",
    "df = pd.read_csv('text_emotion.csv')\n",
    "print df.head()\n",
    "\n",
    "print list(df.columns.values)\n",
    "registros,atributos = df.shape\n",
    "print \"Cantidad de registros\",registros\n",
    "print \"Cantidad de atributos\",atributos"
   ]
  },
  {
   "cell_type": "markdown",
   "metadata": {},
   "source": [
    "Este dataset consta de 40000 tweets, cada tweet tiene una id asociada,  una emoción mutuamente excluyente con las demás, el autor y el texto."
   ]
  },
  {
   "cell_type": "code",
   "execution_count": 2,
   "metadata": {},
   "outputs": [
    {
     "name": "stdout",
     "output_type": "stream",
     "text": [
      "Clases y la cantidad de registros por clases\n",
      "{'love': 3842, 'relief': 1526, 'neutral': 8638, 'anger': 110, 'sadness': 5165, 'empty': 827, 'surprise': 2187, 'fun': 1776, 'enthusiasm': 759, 'happiness': 5209, 'hate': 1323, 'worry': 8459, 'boredom': 179}\n"
     ]
    }
   ],
   "source": [
    "def clase_ocurrencia(df,campo):\n",
    "    clases = {}\n",
    "    for index,row in df.iterrows():\n",
    "        if row[campo] not in clases.keys():\n",
    "                clases[row[campo]] = 1\n",
    "        else:\n",
    "            clases[row[campo]] += 1\n",
    "    return clases\n",
    "\n",
    "emotions = clase_ocurrencia(df,'sentiment')\n",
    "print \"Clases y la cantidad de registros por clases\"\n",
    "print emotions\n",
    "\n",
    "\n"
   ]
  },
  {
   "cell_type": "markdown",
   "metadata": {},
   "source": [
    "### b) Construcción de conjuntos"
   ]
  },
  {
   "cell_type": "code",
   "execution_count": 4,
   "metadata": {},
   "outputs": [
    {
     "name": "stdout",
     "output_type": "stream",
     "text": [
      "[ True  True False ...,  True  True  True]\n",
      "32093\n",
      "7907\n"
     ]
    }
   ],
   "source": [
    "import numpy as np\n",
    "msk = np.random.rand(len(df)) < 0.8\n",
    "print msk\n",
    "df_train = df[msk]\n",
    "df_test = df[~msk]\n",
    "print(len(df_train))\n",
    "print(len(df_test))"
   ]
  },
  {
   "cell_type": "markdown",
   "metadata": {},
   "source": [
    "### c) Pre procesamiento \n",
    "\n",
    "Para aumentar la eficacia de las caracterı́sticas extraı́das es conveniente ejecutar algunas técnicas de pre-\n",
    "procesamiento básicas como: pasar todo el texto a minúsculas (lower-casing), eliminar signos de puntuación\n",
    "y eliminar palabras sin significado como artı́culos, pronombres y preposiciones (stop word removal [9]). Otra\n",
    "técnica que suele ser útil para obtener buenas caracterı́sticas (features) es la lematización [11], es decir la\n",
    "reducción de todas las palabras a su tronco léxico base. Una técnica similar y más utilizada en la práctica es\n",
    "el stemming [10]. Varias de éstas están implementadas en la libreria nltk [13] para python."
   ]
  },
  {
   "cell_type": "code",
   "execution_count": 5,
   "metadata": {},
   "outputs": [],
   "source": [
    "X_train = np.array(df_train['content'])\n",
    "y_train = np.array(df_train['sentiment'])\n",
    "X_test = np.array(df_test['content'])\n",
    "y_test = np.array(df_test['sentiment'])\n",
    "\n",
    "from nltk.tokenize import TweetTokenizer\n",
    "from nltk.corpus import stopwords\n",
    "import re \n",
    "other_stopwords = ['...','.','!',' ',';',',']\n",
    "stoplist = np.concatenate((stopwords.words('english'),other_stopwords),axis=0)\n",
    "tknzr = TweetTokenizer(strip_handles=True, reduce_len=True)\n",
    "\n",
    "#Preprocesamiento\n",
    "\n",
    "for i in range(len(X_train)):\n",
    "    X_train[i] = tknzr.tokenize(X_train[i]) \n",
    "    X_train[i] = [token.lower() for token in X_train[i]] \n",
    "    X_train[i] = [re.sub(r'http\\S+', '',token) for token in X_train[i] if token not in stoplist]\n",
    "    X_train[i] = [token for token in X_train[i] if len(token)>2]\n",
    "\n",
    "\n",
    "for i in range(len(X_test)):\n",
    "    X_test[i] = tknzr.tokenize(X_test[i]) \n",
    "    X_test[i] = [token.lower() for token in X_test[i]] \n",
    "    X_test[i] = [re.sub(r'http\\S+', '',token) for token in X_test[i] if token not in stoplist]\n",
    "    X_test[i] = [token for token in X_test[i] if len(token)>2]\n",
    "    \n",
    "\n",
    "\n"
   ]
  },
  {
   "cell_type": "code",
   "execution_count": 6,
   "metadata": {
    "collapsed": true
   },
   "outputs": [],
   "source": [
    "palabras = {}\n",
    "for tweet in X_train:\n",
    "    for word in tweet:\n",
    "        if word not in palabras.keys():\n",
    "            palabras[word] = 1\n",
    "        else:\n",
    "            palabras[word] += 1"
   ]
  },
  {
   "cell_type": "code",
   "execution_count": 7,
   "metadata": {},
   "outputs": [
    {
     "data": {
      "image/png": "[encoded data removed]",
      "text/plain": [
       "<matplotlib.figure.Figure at 0xf60add8>"
      ]
     },
     "metadata": {},
     "output_type": "display_data"
    }
   ],
   "source": [
    "import nltk\n",
    "import matplotlib.pyplot as plt\n",
    "fdist = nltk.FreqDist(palabras)\n",
    "plt.figure(figsize=(12,6))\n",
    "fdist.plot(50)"
   ]
  },
  {
   "cell_type": "markdown",
   "metadata": {},
   "source": [
    "### d ) Criterio para un problema binario"
   ]
  },
  {
   "cell_type": "code",
   "execution_count": 9,
   "metadata": {},
   "outputs": [
    {
     "name": "stdout",
     "output_type": "stream",
     "text": [
      "21750\n",
      "18250\n",
      "['anger' 'sadness' 'hate' 'worry' 'boredom' 'empty' 'surprise' 'love'\n",
      " 'relief' 'fun' 'enthusiasm' 'happiness' 'neutral']\n",
      "{'love': '1', 'neutral': '6', 'fun': '3', 'sadness': '-5', 'boredom': '-2', 'worry': '-3', 'enthusiasm': '4', 'anger': '-6', 'surprise': '0', 'happiness': '5', 'hate': '-4', 'empty': '-1', 'relief': '2'}\n"
     ]
    }
   ],
   "source": [
    "# Criterio por ahora, neutral positivo,\n",
    "# empty y surprise negativo, ( Para dejar medianamente balanceado los datos)\n",
    "\n",
    "positivas = ['love','relief','fun','enthusiasm','happiness','neutral']\n",
    "negativas = ['anger','sadness','hate','worry','boredom','empty','surprise']\n",
    "\n",
    "pos = 0\n",
    "for key in emotions:\n",
    "    if key in positivas:\n",
    "        pos += emotions[key]\n",
    "print pos \n",
    "\n",
    "neg = 0\n",
    "for key in emotions:\n",
    "    if key in negativas:\n",
    "        neg += emotions[key]\n",
    "print neg\n",
    "\n",
    "emotions_l = np.concatenate((negativas,positivas),axis=0)\n",
    "print emotions_l\n",
    "#6,-6\n",
    "emotions = {}\n",
    "count = -7\n",
    "for em in range(len(emotions_l)):\n",
    "    emotions[emotions_l[em]] = str(count+1)\n",
    "    count += 1\n",
    "print emotions"
   ]
  },
  {
   "cell_type": "code",
   "execution_count": 12,
   "metadata": {},
   "outputs": [],
   "source": [
    "def codificar_emotions(arreglo):\n",
    "    nuevo_arreglo = []\n",
    "    for i in range(len(arreglo)):\n",
    "        nuevo_arreglo.append(emotions[arreglo[i]])\n",
    "    return nuevo_arreglo\n",
    "\n",
    "#Arreglos decodificados\n",
    "y_train_em = codificar_emotions(y_train)\n",
    "y_test_em =  codificar_emotions(y_test)\n"
   ]
  },
  {
   "cell_type": "code",
   "execution_count": 13,
   "metadata": {},
   "outputs": [],
   "source": [
    "def codificar(arreglo):\n",
    "    for i in range(len(arreglo)):\n",
    "        if arreglo[i] in positivas:\n",
    "            arreglo[i] = \"1\"\n",
    "        else:\n",
    "            arreglo[i] = \"-1\"\n",
    "    return arreglo\n",
    "y_train = codificar(y_train)\n",
    "y_test = codificar(y_test)"
   ]
  },
  {
   "cell_type": "markdown",
   "metadata": {},
   "source": [
    "### e) Representación de documentos"
   ]
  },
  {
   "cell_type": "code",
   "execution_count": 14,
   "metadata": {},
   "outputs": [
    {
     "name": "stdout",
     "output_type": "stream",
     "text": [
      "[ list([u'know', u'listenin', u'bad', u'habit', u'earlier', u'started', u'freakin', u'part'])\n",
      " list([u'layin', u'bed', u'headache', u'ughhh', u'waitin', u'call'])]\n"
     ]
    }
   ],
   "source": [
    "print X_train[:2]"
   ]
  },
  {
   "cell_type": "code",
   "execution_count": 15,
   "metadata": {
    "collapsed": true
   },
   "outputs": [],
   "source": [
    "from sklearn.feature_extraction.text import TfidfVectorizer\n",
    "# Usando TfidfVectorizer\n",
    "vectorizer = TfidfVectorizer()\n",
    "X_tweets1 = []\n",
    "X_tweets2 = []\n",
    "for i in range(len(X_train)):\n",
    "    X_tweets1.append((\" \").join(X_train[i]))\n",
    "for i in range(len(X_test)):\n",
    "    X_tweets2.append((\" \").join(X_test[i]))\n",
    "X_train_tfidf = vectorizer.fit_transform(X_tweets1) # Le damos el vocabulario de entrenamiento!\n",
    "X_test_tfidf = vectorizer.transform(X_tweets2)"
   ]
  },
  {
   "cell_type": "markdown",
   "metadata": {},
   "source": [
    "Aquí entrenamos con el conjunto de entrenamiento y luego transformamos el conjunto de test en base al diccionario generado."
   ]
  },
  {
   "cell_type": "markdown",
   "metadata": {},
   "source": [
    "Ojo, hay que tener un buen diccionario para poder generalizar futuras palabras, si el diccionario generado es pobre, las predicciones serán pobres, es el problema eterno de generar un diccionario suficientemente grande para todas las palabras."
   ]
  },
  {
   "cell_type": "code",
   "execution_count": 16,
   "metadata": {},
   "outputs": [
    {
     "name": "stdout",
     "output_type": "stream",
     "text": [
      "  (0, 12531)\t0.211542945111\n",
      "  (0, 13161)\t0.444393270956\n",
      "  (0, 2203)\t0.243499360154\n",
      "  (0, 10022)\t0.458144396397\n",
      "  (0, 7178)\t0.35874765178\n",
      "  (0, 21112)\t0.333150024576\n",
      "  (0, 8814)\t0.376657897563\n",
      "  (0, 16428)\t0.327132982787\n",
      "test\n",
      "  (0, 9485)\t0.500611175224\n",
      "  (0, 9024)\t0.548250568252\n",
      "  (0, 8890)\t0.352329851132\n",
      "  (0, 4230)\t0.569801229951\n"
     ]
    }
   ],
   "source": [
    "\n",
    "print X_train_tfidf[0]\n",
    "print \"test\"\n",
    "print X_test_tfidf[0]"
   ]
  },
  {
   "cell_type": "code",
   "execution_count": 18,
   "metadata": {
    "collapsed": true
   },
   "outputs": [],
   "source": [
    "from sklearn.feature_extraction.text import CountVectorizer\n",
    "from sklearn.discriminant_analysis import LinearDiscriminantAnalysis as LDA\n",
    "count_vect = CountVectorizer()\n",
    "X_train_counts = count_vect.fit_transform(X_tweets1)\n",
    "X_test_counts = count_vect.transform(X_tweets2)"
   ]
  },
  {
   "cell_type": "markdown",
   "metadata": {},
   "source": [
    "### f) Entrenar con 5 modelos clasificadores"
   ]
  },
  {
   "cell_type": "code",
   "execution_count": 19,
   "metadata": {},
   "outputs": [
    {
     "name": "stdout",
     "output_type": "stream",
     "text": [
      "Accuracy Bernoulli Naive Bayes train: 0.817000592029\n",
      "Accuracy Bernoulli Naive Bayes test: 0.687997976477\n",
      " \n",
      "Accuracy Multinomial Naive Bayes train: 0.822079581217\n",
      "Accuracy Multinomial Naive Bayes test: 0.681168584798\n",
      " \n",
      "Accuracy SVM train kernel lineal: 0.876577446795\n",
      "Accuracy SVMs test kernel lineal: 0.677880359175\n",
      " \n",
      "Accuracy SVM train kernel rbf: 0.54398155361\n",
      "Accuracy SVMs test kernel rbf: 0.542810168205\n",
      " \n",
      "Accuracy SVM train kernel sigmoidal: 0.54398155361\n",
      "Accuracy SVMs test kernel sigmoidal: 0.542810168205\n"
     ]
    }
   ],
   "source": [
    "\n",
    "# Naive Bayes\n",
    "from sklearn.naive_bayes import BernoulliNB\n",
    "from sklearn.metrics import accuracy_score\n",
    "clf_bnb = BernoulliNB().fit(X_train_tfidf,y_train)\n",
    "predicted = clf_bnb.predict(X_test_tfidf)\n",
    "predicted_train = clf_bnb.predict(X_train_tfidf)\n",
    "print \"Accuracy Bernoulli Naive Bayes train tfidf:\",(accuracy_score(y_train,predicted_train))   \n",
    "print \"Accuracy Bernoulli Naive Bayes test tfidf:\",(accuracy_score(y_test,predicted))   \n",
    "\n",
    "print \" \"\n",
    "#Multi Naive Bayes == Bernoulli NB\n",
    "from sklearn.naive_bayes import MultinomialNB\n",
    "clf_mnb = MultinomialNB().fit(X_train_tfidf,y_train)\n",
    "predicted = clf_mnb.predict(X_test_tfidf)\n",
    "predicted_train = clf_mnb.predict(X_train_tfidf)\n",
    "print \"Accuracy Multinomial Naive Bayes train tfidf:\",(accuracy_score(y_train,predicted_train))   \n",
    "print \"Accuracy Multinomial Naive Bayes test tfidf:\",(accuracy_score(y_test,predicted)) \n",
    "print \" \"\n",
    "\n",
    "#SVM con kernel lineal\n",
    "from sklearn.svm import SVC as SVM #SVC is for classification\n",
    "clf_svm_lineal= SVM()\n",
    "clf_svm_lineal.set_params(kernel='linear')\n",
    "clf_svm_lineal.fit(X_train_counts,y_train)\n",
    "predicted = clf_svm_lineal.predict(X_test_counts)\n",
    "predicted_train = clf_svm_lineal.predict(X_train_counts)\n",
    "print \"Accuracy SVM train kernel lineal:\",(accuracy_score(y_train,predicted_train))   \n",
    "print \"Accuracy SVMs test kernel lineal:\",(accuracy_score(y_test,predicted)) \n",
    "print \" \"\n",
    "#SVM con kernel rbf\n",
    "from sklearn.svm import SVC as SVM #SVC is for classification\n",
    "clf_svm_rbf= SVM()\n",
    "clf_svm_rbf.set_params(kernel='rbf')\n",
    "clf_svm_rbf.fit(X_train_counts,y_train)\n",
    "predicted = clf_svm_rbf.predict(X_test_counts)\n",
    "predicted_train = clf_svm_rbf.predict(X_train_counts)\n",
    "print \"Accuracy SVM train kernel rbf:\",(accuracy_score(y_train,predicted_train))   \n",
    "print \"Accuracy SVMs test kernel rbf:\",(accuracy_score(y_test,predicted)) \n",
    "print \" \"\n",
    "\n",
    "\n"
   ]
  },
  {
   "cell_type": "code",
   "execution_count": null,
   "metadata": {},
   "outputs": [
    {
     "name": "stdout",
     "output_type": "stream",
     "text": [
      "Accuracy SVM train kernel poly 3: 0.54398155361\n",
      "Accuracy SVMs test kernel poly 3: 0.542810168205\n"
     ]
    }
   ],
   "source": [
    "\n",
    "#SVM con kernel plot\n",
    "from sklearn.svm import SVC as SVM #SVC is for classification\n",
    "clf_svm_sig= SVM()\n",
    "clf_svm_sig.set_params(kernel='poly')\n",
    "clf_svm_sig.fit(X_train_counts,y_train)\n",
    "predicted = clf_svm_sig.predict(X_test_counts)\n",
    "predicted_train = clf_svm_sig.predict(X_train_counts)\n",
    "print \"Accuracy SVM train kernel poly 3:\",(accuracy_score(y_train,predicted_train))   \n",
    "print \"Accuracy SVMs test kernel poly 3:\",(accuracy_score(y_test,predicted)) \n"
   ]
  },
  {
   "cell_type": "code",
   "execution_count": null,
   "metadata": {
    "collapsed": true
   },
   "outputs": [],
   "source": [
    "#SVM con kernel lineal\n",
    "from sklearn.svm import SVC as SVM #SVC is for classification\n",
    "clf_svm_lineal_tfidf= SVM()\n",
    "clf_svm_lineal_tfidf.set_params(kernel='linear')\n",
    "clf_svm_lineal_tfidf.fit(X_train_tfidf,y_train)\n",
    "predicted = clf_svm_lineal_tfidf.predict(X_test_tfidf)\n",
    "predicted_train = clf_svm_lineal_tfidf.predict(X_train_tfidf)\n",
    "print \"Accuracy SVM train kernel lineal tfidf:\",(accuracy_score(y_train,predicted_train))   \n",
    "print \"Accuracy SVMs test kernel lineal tfidf:\",(accuracy_score(y_test,predicted)) \n",
    "print \" \""
   ]
  },
  {
   "cell_type": "code",
   "execution_count": null,
   "metadata": {
    "collapsed": true
   },
   "outputs": [],
   "source": [
    "#SVM con kernel rbf\n",
    "from sklearn.svm import SVC as SVM #SVC is for classification\n",
    "clf_svm_rbf_tfidf= SVM()\n",
    "clf_svm_rbf_tfidf.set_params(kernel='rbf')\n",
    "clf_svm_rbf_tfidf.fit(X_train_tfidf,y_train)\n",
    "predicted = clf_svm_rbf_tfidf.predict(X_test_tfidf)\n",
    "predicted_train = clf_svm_rbf_tfidf.predict(X_train_tfidf)\n",
    "print \"Accuracy SVM train kernel rbf tfidf:\",(accuracy_score(y_train,predicted_train))   \n",
    "print \"Accuracy SVMs test kernel rbf tfidf:\",(accuracy_score(y_test,predicted)) \n",
    "print \" \""
   ]
  },
  {
   "cell_type": "code",
   "execution_count": null,
   "metadata": {
    "collapsed": true
   },
   "outputs": [],
   "source": [
    "#SVM con kernel poliniomial tfidf\n",
    "from sklearn.svm import SVC as SVM #SVC is for classification\n",
    "clf_svm_sig_tfidf= SVM()\n",
    "clf_svm_sig_tfidf.set_params(kernel='poly')\n",
    "clf_svm_sig_tfidf.fit(X_train_tfidf,y_train)\n",
    "predicted = clf_svm_sig_tfidf.predict(X_test_tfidf)\n",
    "predicted_train = clf_svm_sig_tfidf.predict(X_train_tfidf)\n",
    "print \"Accuracy SVM train kernel poly 3 tfidf:\",(accuracy_score(y_train,predicted_train))   \n",
    "print \"Accuracy SVMs test kernel poly 3 tfidf:\",(accuracy_score(y_test,predicted)) "
   ]
  },
  {
   "cell_type": "markdown",
   "metadata": {},
   "source": [
    "LDA y QDA explotan con la dimensionalidad por eso no lo ocuparemos"
   ]
  },
  {
   "cell_type": "code",
   "execution_count": null,
   "metadata": {
    "collapsed": true
   },
   "outputs": [],
   "source": [
    "## NO EJECUTAR! PROBLEMAS DE MEMORIA!\n",
    "\n",
    "\n",
    "from sklearn.discriminant_analysis import LinearDiscriminantAnalysis as LDA\n",
    "model = LDA()\n",
    "\n",
    "print X_train_counts[0]\n",
    "\n",
    "model.fit(X_train_counts.toarray(),y_train) # Memory Error .toarray\n",
    "predicted = model.predict(X_test_counts)\n"
   ]
  },
  {
   "cell_type": "markdown",
   "metadata": {},
   "source": [
    "### g) Classification Report"
   ]
  },
  {
   "cell_type": "code",
   "execution_count": 29,
   "metadata": {
    "collapsed": true
   },
   "outputs": [],
   "source": [
    "from sklearn.metrics import classification_report\n",
    "def score_the_model(model,x,y,xt,yt):\n",
    "    acc_tr = model.score(x,y)\n",
    "    acc_test = model.score(xt[:-1],yt[:-1])\n",
    "    print \"Training Accuracy: %f\"%(acc_tr)\n",
    "    print \"Test Accuracy: %f\"%(acc_test)\n",
    "    print \"Detailed Analysis Testing Results ...\"\n",
    "    print (classification_report(yt,model.predict(xt)))"
   ]
  },
  {
   "cell_type": "code",
   "execution_count": 31,
   "metadata": {},
   "outputs": [
    {
     "name": "stdout",
     "output_type": "stream",
     "text": [
      "Training Accuracy: 0.819573\n",
      "Test Accuracy: 0.695843\n",
      "Detailed Analysis Testing Results ...\n",
      "             precision    recall  f1-score   support\n",
      "\n",
      "         -1       0.70      0.60      0.65      3703\n",
      "          1       0.69      0.78      0.73      4284\n",
      "\n",
      "avg / total       0.70      0.70      0.69      7987\n",
      "\n",
      "Training Accuracy: 0.821291\n",
      "Test Accuracy: 0.685575\n",
      "Detailed Analysis Testing Results ...\n",
      "             precision    recall  f1-score   support\n",
      "\n",
      "         -1       0.70      0.57      0.63      3703\n",
      "          1       0.68      0.78      0.73      4284\n",
      "\n",
      "avg / total       0.69      0.69      0.68      7987\n",
      "\n",
      "Training Accuracy: 0.876363\n",
      "Test Accuracy: 0.683446\n",
      "Detailed Analysis Testing Results ...\n",
      "             precision    recall  f1-score   support\n",
      "\n",
      "         -1       0.68      0.60      0.64      3703\n",
      "          1       0.69      0.75      0.72      4284\n",
      "\n",
      "avg / total       0.68      0.68      0.68      7987\n",
      "\n"
     ]
    }
   ],
   "source": [
    "print \"tf-idf: \\n \\n\"\n",
    "print \"Bernoulli Naive Bayes \\n\"\n",
    "score_the_model(clf_bnb,X_train_tfidf,y_train,X_test_tfidf,y_test)\n",
    "print \"Multinomial Naive Bayes \\n\"\n",
    "score_the_model(clf_mnb,X_train_tfidf,y_train,X_test_tfidf,y_test)\n",
    "print \"Multinomial SVM kernel lineal \\n\"\n",
    "score_the_model(clf_svm_lineal_tfidf,X_train_counts,y_train,X_test_counts,y_test)\n",
    "print \"Multinomial SVM kernel RBF \\n\"\n",
    "score_the_model(clf_svm_rbf_tfidf,X_train_counts,y_train,X_test_counts,y_test)\n",
    "print \"Multinomial SVM kernel sigmoidal \\n\"\n",
    "score_the_model(clf_svm_sig_tfidf,X_train_counts,y_train,X_test_counts,y_test)"
   ]
  },
  {
   "cell_type": "markdown",
   "metadata": {},
   "source": [
    "###  h) [Opcional]"
   ]
  },
  {
   "cell_type": "markdown",
   "metadata": {},
   "source": [
    "### i) Multilabel"
   ]
  },
  {
   "cell_type": "code",
   "execution_count": 71,
   "metadata": {},
   "outputs": [
    {
     "name": "stdout",
     "output_type": "stream",
     "text": [
      "Accuracy Bernoulli Naive Bayes train: 0.461781151407\n",
      "Accuracy Bernoulli Naive Bayes test: 0.30925253537\n",
      " \n",
      "Accuracy Multinomial Naive Bayes train: 0.456127198326\n",
      "Accuracy Multinomial Naive Bayes test: 0.308501314636\n",
      "Accuracy SVM train: 0.790553837504\n",
      "Accuracy SVMs test: 0.320020032553\n"
     ]
    }
   ],
   "source": [
    "# Naive Bayes\n",
    "from sklearn.naive_bayes import BernoulliNB\n",
    "from sklearn.metrics import accuracy_score\n",
    "clf_bnb = BernoulliNB().fit(X_train_tfidf,y_train_em)\n",
    "predicted = clf_bnb.predict(X_test_tfidf)\n",
    "predicted_train = clf_bnb.predict(X_train_tfidf)\n",
    "print \"Accuracy Bernoulli Naive Bayes train:\",(accuracy_score(y_train_em,predicted_train))   \n",
    "print \"Accuracy Bernoulli Naive Bayes test:\",(accuracy_score(y_test_em,predicted))   \n",
    "\n",
    "print \" \"\n",
    "#Multi Naive Bayes == Bernoulli NB\n",
    "from sklearn.naive_bayes import MultinomialNB\n",
    "clf_mnb = MultinomialNB().fit(X_train_tfidf,y_train_em)\n",
    "predicted = clf_mnb.predict(X_test_tfidf)\n",
    "predicted_train = clf_mnb.predict(X_train_tfidf)\n",
    "print \"Accuracy Multinomial Naive Bayes train:\",(accuracy_score(y_train_em,predicted_train))   \n",
    "print \"Accuracy Multinomial Naive Bayes test:\",(accuracy_score(y_test_em,predicted))\n",
    "\n",
    "\n",
    "from sklearn.svm import SVC as SVM #SVC is for classification\n",
    "model= SVM()\n",
    "model.set_params(kernel='linear')\n",
    "model.fit(X_train_counts,y_train_em)\n",
    "\n",
    "predicted = model.predict(X_test_counts)\n",
    "predicted_train = model.predict(X_train_counts)\n",
    "\n",
    "print \"Accuracy SVM train:\",(accuracy_score(y_train_em,predicted_train))   \n",
    "print \"Accuracy SVMs test:\",(accuracy_score(y_test_em,predicted)) "
   ]
  },
  {
   "cell_type": "markdown",
   "metadata": {},
   "source": [
    "(j) Utilice los clasi\f",
    "cadores que son extendidos por defecto a m\u0013ultiples clases para detectar emociones en\n",
    "cada tweet, muestre sus desempe~nos a trav\u0013es del error de pruebas en un gr\u0013a\f",
    "co resumen."
   ]
  },
  {
   "cell_type": "markdown",
   "metadata": {},
   "source": [
    "k) Utilice clasi\f",
    "cadores binarios que pueden ser extendidos a trav\u0013es de otras t\u0013ecnicas, tal como One vs\n",
    "One y One vs All/Rest [14]"
   ]
  },
  {
   "cell_type": "code",
   "execution_count": null,
   "metadata": {
    "collapsed": true
   },
   "outputs": [],
   "source": []
  },
  {
   "cell_type": "markdown",
   "metadata": {},
   "source": [
    "l) Para el caso de la Regresi\u0013on Log\u0013\u0010stica compare sus dos m\u0013etodos para ser extendidos a m\u0013ultiples clases.\n",
    "Uno a trav\u0013es de One vs Rest y otro de\f",
    "niendo que la variable a predecir se distribuye Multinomial."
   ]
  },
  {
   "cell_type": "markdown",
   "metadata": {},
   "source": [
    "m) Compare los resultados entre los clasi\f",
    "cadores extendidos por defecto y los binarios que son extendidos\n",
    "mediante otras t\u0013ecnicas, construya una tabla o gr\u0013a\f",
    "co resumen. Los clasi\f",
    "cadores que mejor se\n",
    "comportan en el caso binario >Siguen teniendo ese desempe~no en m\u0013ultiples clases?"
   ]
  }
 ],
 "metadata": {
  "kernelspec": {
   "display_name": "Python 2",
   "language": "python",
   "name": "python2"
  },
  "language_info": {
   "codemirror_mode": {
    "name": "ipython",
    "version": 2
   },
   "file_extension": ".py",
   "mimetype": "text/x-python",
   "name": "python",
   "nbconvert_exporter": "python",
   "pygments_lexer": "ipython2",
   "version": "2.7.14"
  }
 },
 "nbformat": 4,
 "nbformat_minor": 2
}
