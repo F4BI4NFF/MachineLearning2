{
 "cells": [
  {
   "cell_type": "markdown",
   "metadata": {
    "collapsed": true,
    "deletable": true,
    "editable": true
   },
   "source": [
    "### a) Construcción de Dataframe"
   ]
  },
  {
   "cell_type": "code",
   "execution_count": 1,
   "metadata": {
    "collapsed": false,
    "deletable": true,
    "editable": true
   },
   "outputs": [
    {
     "name": "stdout",
     "output_type": "stream",
     "text": [
      "     tweet_id   sentiment       author  \\\n",
      "0  1956967341       empty   xoshayzers   \n",
      "1  1956967666     sadness    wannamama   \n",
      "2  1956967696     sadness    coolfunky   \n",
      "3  1956967789  enthusiasm  czareaquino   \n",
      "4  1956968416     neutral    xkilljoyx   \n",
      "\n",
      "                                             content  \n",
      "0  @tiffanylue i know  i was listenin to bad habi...  \n",
      "1  Layin n bed with a headache  ughhhh...waitin o...  \n",
      "2                Funeral ceremony...gloomy friday...  \n",
      "3               wants to hang out with friends SOON!  \n",
      "4  @dannycastillo We want to trade with someone w...  \n",
      "['tweet_id', 'sentiment', 'author', 'content']\n",
      "Cantidad de registros 40000\n",
      "Cantidad de atributos 4\n"
     ]
    }
   ],
   "source": [
    "import pandas as pd\n",
    "df = pd.read_csv('text_emotion.csv')\n",
    "print df.head()\n",
    "\n",
    "print list(df.columns.values)\n",
    "registros,atributos = df.shape\n",
    "print \"Cantidad de registros\",registros\n",
    "print \"Cantidad de atributos\",atributos\n"
   ]
  },
  {
   "cell_type": "markdown",
   "metadata": {
    "deletable": true,
    "editable": true
   },
   "source": [
    "Este dataset consta de 40000 tweets, cada tweet tiene una id asociada,  una emoción mutuamente excluyente con las demás, el autor y el texto."
   ]
  },
  {
   "cell_type": "code",
   "execution_count": 2,
   "metadata": {
    "collapsed": false,
    "deletable": true,
    "editable": true
   },
   "outputs": [
    {
     "name": "stdout",
     "output_type": "stream",
     "text": [
      "Clases y la cantidad de registros por clases\n",
      "{'love': 3842, 'relief': 1526, 'neutral': 8638, 'anger': 110, 'sadness': 5165, 'empty': 827, 'surprise': 2187, 'fun': 1776, 'enthusiasm': 759, 'happiness': 5209, 'hate': 1323, 'worry': 8459, 'boredom': 179}\n"
     ]
    }
   ],
   "source": [
    "def clase_ocurrencia(df,campo):\n",
    "    clases = {}\n",
    "    for index,row in df.iterrows():\n",
    "        if row[campo] not in clases.keys():\n",
    "                clases[row[campo]] = 1\n",
    "        else:\n",
    "            clases[row[campo]] += 1\n",
    "    return clases\n",
    "\n",
    "emotions = clase_ocurrencia(df,'sentiment')\n",
    "print \"Clases y la cantidad de registros por clases\"\n",
    "print emotions\n",
    "\n",
    "\n"
   ]
  },
  {
   "cell_type": "markdown",
   "metadata": {
    "deletable": true,
    "editable": true
   },
   "source": [
    "### b) Construcción de conjuntos"
   ]
  },
  {
   "cell_type": "code",
   "execution_count": 3,
   "metadata": {
    "collapsed": false,
    "deletable": true,
    "editable": true
   },
   "outputs": [
    {
     "name": "stdout",
     "output_type": "stream",
     "text": [
      "[False False  True ..., False  True  True]\n",
      "31987\n",
      "8013\n"
     ]
    }
   ],
   "source": [
    "import numpy as np\n",
    "msk = np.random.rand(len(df)) < 0.8\n",
    "print msk\n",
    "df_train = df[msk]\n",
    "df_test = df[~msk]\n",
    "print(len(df_train))\n",
    "print(len(df_test))"
   ]
  },
  {
   "cell_type": "markdown",
   "metadata": {
    "deletable": true,
    "editable": true
   },
   "source": [
    "### c) Pre procesamiento \n",
    "\n",
    "Para aumentar la eficacia de las caracterı́sticas extraı́das es conveniente ejecutar algunas técnicas de pre-\n",
    "procesamiento básicas como: pasar todo el texto a minúsculas (lower-casing), eliminar signos de puntuación\n",
    "y eliminar palabras sin significado como artı́culos, pronombres y preposiciones (stop word removal [9]). Otra\n",
    "técnica que suele ser útil para obtener buenas caracterı́sticas (features) es la lematización [11], es decir la\n",
    "reducción de todas las palabras a su tronco léxico base. Una técnica similar y más utilizada en la práctica es\n",
    "el stemming [10]. Varias de éstas están implementadas en la libreria nltk [13] para python."
   ]
  },
  {
   "cell_type": "code",
   "execution_count": 4,
   "metadata": {
    "collapsed": false,
    "deletable": true,
    "editable": true
   },
   "outputs": [],
   "source": [
    "tweets = []\n",
    "for index,row in df.iterrows():\n",
    "    tweets.append(row['content'])\n",
    "    \n",
    "from nltk.tokenize import TweetTokenizer\n",
    "\n",
    "tknzr = TweetTokenizer()\n",
    "tweet_index = 0\n",
    "for i in tweets:\n",
    "    tweets[tweet_index] = tknzr.tokenize(i)\n",
    "    tweet_index += 1\n",
    "    \n",
    "# tweets => lista con tweets tokenizados\n",
    "\n",
    "    \n"
   ]
  },
  {
   "cell_type": "code",
   "execution_count": 17,
   "metadata": {
    "collapsed": false,
    "scrolled": true
   },
   "outputs": [],
   "source": [
    "import re\n",
    "stoplist = stopwords.words('english')\n",
    "tweet_index = 0\n",
    "for tweet in tweets:\n",
    "    token_sin_stopwords = [ token for token in tweet  if token not in stoplist and len(token) != 1] \n",
    "    token_sin_stopwords = [ re.sub('([\\W_]+)', '', token) for token in token_sin_stopwords ]  \n",
    "    tweets[tweet_index] = token_sin_stopwords\n",
    "    tweet_index += 1\n",
    "    \n",
    "\n"
   ]
  },
  {
   "cell_type": "markdown",
   "metadata": {},
   "source": [
    "### d ) Criterio para un problema binario"
   ]
  },
  {
   "cell_type": "markdown",
   "metadata": {},
   "source": [
    "definir:neutral y empty, surprise \n",
    "+1 => love, relief,fun,enthusiasm,happiness,\n",
    "-1 => anger,sadness,hate,worry,boredom"
   ]
  }
 ],
 "metadata": {
  "kernelspec": {
   "display_name": "Python 2",
   "language": "python",
   "name": "python2"
  },
  "language_info": {
   "codemirror_mode": {
    "name": "ipython",
    "version": 2
   },
   "file_extension": ".py",
   "mimetype": "text/x-python",
   "name": "python",
   "nbconvert_exporter": "python",
   "pygments_lexer": "ipython2",
   "version": "2.7.12"
  }
 },
 "nbformat": 4,
 "nbformat_minor": 2
}
