{
 "cells": [
  {
   "cell_type": "markdown",
   "metadata": {},
   "source": [
    "# Análisis de sentimientos en Twitter"
   ]
  },
  {
   "cell_type": "markdown",
   "metadata": {},
   "source": [
    "Con las redes sociales como Twitter, a cada instante se están produciendo nuevas opiniones sobre distintos tópicos por diferentes personas a través del mundo. Cada una de estas opiniones están asociadas a distintas emociones que son expresadas hacia el tema en opinión.\n",
    "\n",
    "Para el siguiente estudio se trabajará con un datasets de tweets ofrecidos por CrowdFlower. Cada tweet está\n",
    "asociado a una emoción en particular."
   ]
  },
  {
   "cell_type": "markdown",
   "metadata": {
    "collapsed": true,
    "deletable": true,
    "editable": true
   },
   "source": [
    "### a) Construcción de Dataframe"
   ]
  },
  {
   "cell_type": "code",
   "execution_count": 1,
   "metadata": {
    "collapsed": false,
    "deletable": true,
    "editable": true
   },
   "outputs": [
    {
     "name": "stdout",
     "output_type": "stream",
     "text": [
      "     tweet_id   sentiment       author  \\\n",
      "0  1956967341       empty   xoshayzers   \n",
      "1  1956967666     sadness    wannamama   \n",
      "2  1956967696     sadness    coolfunky   \n",
      "3  1956967789  enthusiasm  czareaquino   \n",
      "4  1956968416     neutral    xkilljoyx   \n",
      "\n",
      "                                             content  \n",
      "0  @tiffanylue i know  i was listenin to bad habi...  \n",
      "1  Layin n bed with a headache  ughhhh...waitin o...  \n",
      "2                Funeral ceremony...gloomy friday...  \n",
      "3               wants to hang out with friends SOON!  \n",
      "4  @dannycastillo We want to trade with someone w...  \n",
      "['tweet_id', 'sentiment', 'author', 'content']\n",
      "Cantidad de registros 40000\n",
      "Cantidad de atributos 4\n"
     ]
    }
   ],
   "source": [
    "import pandas as pd\n",
    "df = pd.read_csv('text_emotion.csv')\n",
    "print df.head()\n",
    "\n",
    "print list(df.columns.values)\n",
    "registros,atributos = df.shape\n",
    "print \"Cantidad de registros\",registros\n",
    "print \"Cantidad de atributos\",atributos"
   ]
  },
  {
   "cell_type": "markdown",
   "metadata": {
    "deletable": true,
    "editable": true
   },
   "source": [
    "Este dataset consta de 40000 tweets, donde cada tweet tiene:\n",
    "* id \n",
    "* emoción mutuamente excluyente con las demás\n",
    "* autor \n",
    "* texto."
   ]
  },
  {
   "cell_type": "code",
   "execution_count": 2,
   "metadata": {
    "collapsed": false,
    "deletable": true,
    "editable": true
   },
   "outputs": [
    {
     "name": "stdout",
     "output_type": "stream",
     "text": [
      "Clases y la cantidad de registros por clases\n",
      "{'love': 3842, 'relief': 1526, 'neutral': 8638, 'anger': 110, 'sadness': 5165, 'empty': 827, 'surprise': 2187, 'fun': 1776, 'enthusiasm': 759, 'happiness': 5209, 'hate': 1323, 'worry': 8459, 'boredom': 179}\n",
      "Cantidad de clases 13\n"
     ]
    }
   ],
   "source": [
    "def clase_ocurrencia(df,campo):\n",
    "    clases = {}\n",
    "    for index,row in df.iterrows():\n",
    "        if row[campo] not in clases.keys():\n",
    "                clases[row[campo]] = 1\n",
    "        else:\n",
    "            clases[row[campo]] += 1\n",
    "    return clases\n",
    "\n",
    "emotions_origen = clase_ocurrencia(df,'sentiment')\n",
    "print \"Clases y la cantidad de registros por clases\"\n",
    "print emotions_origen\n",
    "print \"Cantidad de clases \" + str(len(emotions_origen))\n",
    "\n",
    "\n"
   ]
  },
  {
   "cell_type": "markdown",
   "metadata": {},
   "source": [
    "En el dataset se tienen 13 clases, las cuales corresponden a las distintas emociones mutuamente excluyentes con las que están clasificados los tweets. Dentro de cada clase se tienen las siguientes cantidades de datos/tweets:\n",
    "* Love - Amor: 3842\n",
    "* Relief - Alivio: 1526\n",
    "* Neutral - Neutral: 8638\n",
    "* Anger - Enojo: 110\n",
    "* Sadness - Tristeza: 5165\n",
    "* Empty - Vacío: 827\n",
    "* Surprise - Sorpresa: 2187\n",
    "* Fun - Divertido: 1776\n",
    "* Enthusiasm - Entusiasmo: 759\n",
    "* Happiness - Felicidad: 5209\n",
    "* Hate - Odio: 1323\n",
    "* Worry - Preocupación: 8459\n",
    "* Boredom - Aburrimiento: 179"
   ]
  },
  {
   "cell_type": "markdown",
   "metadata": {
    "deletable": true,
    "editable": true
   },
   "source": [
    "### b) Construcción de conjuntos"
   ]
  },
  {
   "cell_type": "markdown",
   "metadata": {},
   "source": [
    "Se construyen dos conjuntos de datos, uno de entrenamiento y otro de pruebas, mediante una máscara aleatoria. Con estos dos conjuntos de datos se podrán aplicar y verificar los modelos."
   ]
  },
  {
   "cell_type": "code",
   "execution_count": 3,
   "metadata": {
    "collapsed": false,
    "deletable": true,
    "editable": true
   },
   "outputs": [
    {
     "name": "stdout",
     "output_type": "stream",
     "text": [
      "[False  True  True ...,  True False False]\n",
      "31973\n",
      "8027\n"
     ]
    }
   ],
   "source": [
    "import numpy as np\n",
    "msk = np.random.rand(len(df)) < 0.8\n",
    "print msk\n",
    "df_train = df[msk]\n",
    "df_test = df[~msk]\n",
    "print(len(df_train))\n",
    "print(len(df_test))"
   ]
  },
  {
   "cell_type": "markdown",
   "metadata": {
    "deletable": true,
    "editable": true
   },
   "source": [
    "### c) Pre procesamiento \n",
    "\n",
    "**Para aumentar la eficacia de las caracterı́sticas extraı́das es conveniente ejecutar algunas técnicas de pre- procesamiento básicas como: pasar todo el texto a minúsculas (lower-casing), eliminar signos de puntuación\n",
    "y eliminar palabras sin significado como artı́culos, pronombres y preposiciones (stop word removal [9]). Otra\n",
    "técnica que suele ser útil para obtener buenas caracterı́sticas (features) es la lematización [11], es decir la\n",
    "reducción de todas las palabras a su tronco léxico base. Una técnica similar y más utilizada en la práctica es\n",
    "el stemming [10]. Varias de éstas están implementadas en la libreria nltk [13] para python.**"
   ]
  },
  {
   "cell_type": "markdown",
   "metadata": {},
   "source": [
    "La dificultad de este estudio radica en el carácter altamente ambiguo e informal del lenguaje que utilizan naturalmente las personas en las redes sociales, es por esto que es importante realizar un pre-procesamiento de los tweets para dejarlos más tratables en términos de análisis."
   ]
  },
  {
   "cell_type": "markdown",
   "metadata": {},
   "source": [
    "Este pre-procesamiento consta de los siguientes pasos:\n",
    "* Tokenización: Este proceso consiste en dividir el texto en tokens. Generalmente y para este caso, será divido por palabras, pero también puede ser divido por oración u otra determinación. Para esta tarea se utilizó TweetTokenizer, un tokenizador especial para tweets, ya que la estructura que tiene un tweet no es como la de un texto normal, pues puede contener hashtag, menciones, links, entre otros que con un tokenizador de texto normal no sería tan sencillos de separar.\n",
    "* Minúsculas: Todos los tweets son pasados a minúscula, pues una misma palabra en mayúscula y minúscula son consideradas diferentes.\n",
    "* Stop words removal: Se eliminan todas las palabras que estén dentro de la lista determinada. Esta lista contiene palabras sin significado como artı́culos, pronombres y preposiciones, que siempre son las más utilizadas en los textos y producen ruido al momento de análisis.\n",
    "* Short words: Las palabras muy cortas son eliminadas, para este caso se consideran palabras con largo uno."
   ]
  },
  {
   "cell_type": "code",
   "execution_count": 4,
   "metadata": {
    "collapsed": false,
    "deletable": true,
    "editable": true
   },
   "outputs": [],
   "source": [
    "X_train = np.array(df_train['content'])\n",
    "y_train = np.array(df_train['sentiment'])\n",
    "X_test = np.array(df_test['content'])\n",
    "y_test = np.array(df_test['sentiment'])\n",
    "\n",
    "from nltk.tokenize import TweetTokenizer\n",
    "from nltk.corpus import stopwords\n",
    "import re \n",
    "other_stopwords = ['...','.','!',' ',';',',']\n",
    "stoplist = np.concatenate((stopwords.words('english'),other_stopwords),axis=0)\n",
    "tknzr = TweetTokenizer(strip_handles=True, reduce_len=True)\n",
    "\n",
    "#Preprocesamiento\n",
    "\n",
    "for i in range(len(X_train)):\n",
    "    X_train[i] = tknzr.tokenize(X_train[i]) \n",
    "    X_train[i] = [token.lower() for token in X_train[i]] \n",
    "    X_train[i] = [re.sub(r'http\\S+', '',token) for token in X_train[i] if token not in stoplist]\n",
    "    X_train[i] = [token for token in X_train[i] if len(token)>2]\n",
    "\n",
    "\n",
    "for i in range(len(X_test)):\n",
    "    X_test[i] = tknzr.tokenize(X_test[i]) \n",
    "    X_test[i] = [token.lower() for token in X_test[i]] \n",
    "    X_test[i] = [re.sub(r'http\\S+', '',token) for token in X_test[i] if token not in stoplist]\n",
    "    X_test[i] = [token for token in X_test[i] if len(token)>2]\n"
   ]
  },
  {
   "cell_type": "code",
   "execution_count": 5,
   "metadata": {
    "collapsed": false
   },
   "outputs": [
    {
     "name": "stdout",
     "output_type": "stream",
     "text": [
      "[ [u'know', u'listenin', u'bad', u'habit', u'earlier', u'started', u'freakin', u'part']\n",
      " [u'want', u'trade', u'someone', u'houston', u'tickets', u'one']\n",
      " [u'charlene', u'love', u'miss'] [u'choked', u'retainers']\n",
      " [u'watch', u'hills', u'london', u'realise', u'tourture', u'weeks', u'weeks', u'late', u'watch', u'itonlinelol']\n",
      " [u'storm', u'electricity', u'gone'] [u'agreed']\n",
      " [u'topic', u'maps', u'talks', u'balisage', u'markup', u'conference', u'2009', u'program', u'online', u'via', u'#topicmaps']\n",
      " [u'annoying', u'starts', u'typing', u'computer', u'middle', u'night']\n",
      " [u'cant', u'sleep']]\n"
     ]
    }
   ],
   "source": [
    "print X_test[:10]"
   ]
  },
  {
   "cell_type": "markdown",
   "metadata": {},
   "source": [
    "Además se obtiene la frecuencia de cada palabra en el corpus (todos los tweets) y se gráfica."
   ]
  },
  {
   "cell_type": "code",
   "execution_count": 6,
   "metadata": {
    "collapsed": false
   },
   "outputs": [],
   "source": [
    "from nltk.probability import FreqDist  \n",
    "fdist = FreqDist()\n",
    "for tweet in X_train:\n",
    "    for word in tweet:\n",
    "        fdist[word] += 1"
   ]
  },
  {
   "cell_type": "code",
   "execution_count": 7,
   "metadata": {
    "collapsed": false,
    "deletable": true,
    "editable": true
   },
   "outputs": [
    {
     "data": {
      "image/png": "[encoded data removed]",
      "text/plain": [
       "<matplotlib.figure.Figure at 0x7f2980e314d0>"
      ]
     },
     "metadata": {},
     "output_type": "display_data"
    }
   ],
   "source": [
    "import matplotlib.pyplot as plt\n",
    "plt.figure(figsize=(12,6))\n",
    "fdist.plot(50)"
   ]
  },
  {
   "cell_type": "markdown",
   "metadata": {},
   "source": [
    "Es posible observar que existen palabras que se repiten más como \"i'm\", que muchas otras palabras que tienen una frecuencia mucho menor. Este comportamiento está explicado a través de la Ley de Zipf. "
   ]
  },
  {
   "cell_type": "markdown",
   "metadata": {
    "deletable": true,
    "editable": true
   },
   "source": [
    "### d ) Criterio para un problema binario"
   ]
  },
  {
   "cell_type": "markdown",
   "metadata": {},
   "source": [
    "A continuación se realiza una reducción binaria, con el fin de trabajar con un problema de clasificación de dos clases. Para esto, se agrupan las distintas emociones del dataset como positivas y negativas, +1 y −1 respectivamente. Dicha separación de emociones en las dos clases se realiza según la rueda de emociones de Robert Plutchik, presentada a continuación:\n",
    "\n",
    "![Plutchik](https://upload.wikimedia.org/wikipedia/commons/thumb/f/f3/Rueda-Plutchik.svg/1200px-Rueda-Plutchik.svg.png \"Rueda de emociones\")\n",
    "\n"
   ]
  },
  {
   "cell_type": "markdown",
   "metadata": {},
   "source": [
    "Se puede ver que cada hoja de la flor está opuesta con otra, siendo una positiva y la otra negativa. Así, se realizó la siguiente clasificación:\n",
    "\n",
    "* positivas = amor, alivio, divertido, entusiasmo, felicidad\n",
    "* negativas = enojo, tristeza, odio, preocupación, aburrimiento, sorpresa\n",
    "\n",
    "Sin embargo quedan dos emociones por clasificar: nautral y vacío. Para determinar en que clase quedarán se verifica la cantidad de datos que ya existe en cada clase, para así balancear los datos de tal forma de no afectar al modelo.\n"
   ]
  },
  {
   "cell_type": "code",
   "execution_count": 14,
   "metadata": {
    "collapsed": false
   },
   "outputs": [
    {
     "name": "stdout",
     "output_type": "stream",
     "text": [
      "Cantidad de tweets positivos: 13112\n",
      "Cantidad de tweets negativos: 17423\n",
      "Cantidad neutral:8638\n",
      "Cantidad vacio:827\n"
     ]
    }
   ],
   "source": [
    "positivas = ['love','relief','fun','enthusiasm','happiness']\n",
    "negativas = ['anger','sadness','hate','worry','boredom','surprise']\n",
    "\n",
    "#print emotions_origen\n",
    "\n",
    "pos = 0\n",
    "for key in emotions_origen:\n",
    "    if key in positivas:\n",
    "        #print emotions[key]\n",
    "        pos += emotions_origen[key]\n",
    "print \"Cantidad de tweets positivos: \" + str(pos)\n",
    "\n",
    "neg = 0\n",
    "for key in emotions_origen:\n",
    "    if key in negativas:\n",
    "        neg += emotions_origen[key]\n",
    "print \"Cantidad de tweets negativos: \" + str(neg)\n",
    "\n",
    "print \"Cantidad neutral:\" + str(emotions_origen['neutral'])\n",
    "\n",
    "print \"Cantidad vacio:\" + str(emotions_origen['empty'])"
   ]
  },
  {
   "cell_type": "markdown",
   "metadata": {},
   "source": [
    "Se puede ver que existen muchos mas datos negativos que positivos, que hay muchos mas datos neutrales que vacio y que existe una diferencia de aproximadamente unos 5000 datos. Es por esto que se decide dejar los datos de los tweets neutrales como positivos, para que la diferencia de datos entre las clases no sea de tantos datos y los pocos datos de vacío se añaden a la clase negativa para disminuir un poco el desbalanceo producido."
   ]
  },
  {
   "cell_type": "code",
   "execution_count": 13,
   "metadata": {
    "collapsed": false,
    "deletable": true,
    "editable": true
   },
   "outputs": [
    {
     "name": "stdout",
     "output_type": "stream",
     "text": [
      "Cantidad de tweets positivos: 21750\n",
      "Cantidad de tweets negativos: 18250\n",
      "['anger' 'sadness' 'hate' 'worry' 'boredom' 'empty' 'surprise' 'love'\n",
      " 'relief' 'fun' 'enthusiasm' 'happiness' 'neutral']\n",
      "{'love': '1', 'neutral': '6', 'fun': '3', 'sadness': '-5', 'boredom': '-2', 'worry': '-3', 'enthusiasm': '4', 'anger': '-6', 'surprise': '0', 'happiness': '5', 'hate': '-4', 'empty': '-1', 'relief': '2'}\n"
     ]
    }
   ],
   "source": [
    "# Criterio por ahora, neutral positivo,\n",
    "# empty y surprise negativo, ( Para dejar medianamente balanceado los datos)\n",
    "\n",
    "positivas = ['love','relief','fun','enthusiasm','happiness','neutral']\n",
    "negativas = ['anger','sadness','hate','worry','boredom','empty','surprise']\n",
    "\n",
    "#print emotions_origen\n",
    "\n",
    "pos = 0\n",
    "for key in emotions_origen:\n",
    "    if key in positivas:\n",
    "        #print emotions[key]\n",
    "        pos += emotions_origen[key]\n",
    "print \"Cantidad de tweets positivos: \" + str(pos)\n",
    "\n",
    "neg = 0\n",
    "for key in emotions_origen:\n",
    "    if key in negativas:\n",
    "        neg += emotions_origen[key]\n",
    "print \"Cantidad de tweets negativos: \" + str(neg)\n",
    "\n",
    "emotions_l = np.concatenate((negativas,positivas),axis=0)\n",
    "print emotions_l\n",
    "#6,-6\n",
    "emotions = {}\n",
    "count = -7\n",
    "for em in range(len(emotions_l)):\n",
    "    emotions[emotions_l[em]] = str(count+1)\n",
    "    count += 1\n",
    "print emotions"
   ]
  },
  {
   "cell_type": "code",
   "execution_count": 15,
   "metadata": {
    "collapsed": true,
    "deletable": true,
    "editable": true
   },
   "outputs": [],
   "source": [
    "def codificar_emotions(arreglo):\n",
    "    nuevo_arreglo = []\n",
    "    for i in range(len(arreglo)):\n",
    "        nuevo_arreglo.append(emotions[arreglo[i]])\n",
    "    return nuevo_arreglo\n",
    "\n",
    "#Arreglos decodificados\n",
    "y_train_em = codificar_emotions(y_train)\n",
    "y_test_em =  codificar_emotions(y_test)\n"
   ]
  },
  {
   "cell_type": "code",
   "execution_count": 16,
   "metadata": {
    "collapsed": true,
    "deletable": true,
    "editable": true
   },
   "outputs": [],
   "source": [
    "def codificar(arreglo):\n",
    "    for i in range(len(arreglo)):\n",
    "        if arreglo[i] in positivas:\n",
    "            arreglo[i] = \"1\"\n",
    "        else:\n",
    "            arreglo[i] = \"-1\"\n",
    "    return arreglo\n",
    "y_train = codificar(y_train)\n",
    "y_test = codificar(y_test)"
   ]
  },
  {
   "cell_type": "markdown",
   "metadata": {
    "deletable": true,
    "editable": true
   },
   "source": [
    "### e) Representación de documentos"
   ]
  },
  {
   "cell_type": "markdown",
   "metadata": {},
   "source": [
    "**Para construir un clasificador que determine autom´aticamente la polaridad de un trozo de texto, ser´a\n",
    "necesario representar los tweets {ti}\n",
    "n\n",
    "i=1 disponibles como vectores de caracter´ısticas (features). El tipo\n",
    "de caracter´ısticas m´as utilizado consiste en contar cu´antas veces aparecen ciertos t´erminos/palabras en\n",
    "el texto. Para esto, es necesario un vocabulario que, por lo general, se construye mediante la uni´on de\n",
    "todas las palabras que se observen en los tweets.\n",
    "Se recomienda utilizar las librer´ıas ofrecidas por sklearn de feature extraction in text [12] (CountVectorizer\n",
    "y TfidfVectorizer ). Recuerde realizar el ajuste (fit) ´unicamente con el conjunto de entrenamiento,\n",
    "para luego transformar el conjunto de pruebas (con el m´etodo transform).**"
   ]
  },
  {
   "cell_type": "markdown",
   "metadata": {},
   "source": [
    "A continuación se reprenta cada documento/tweet como una matriz que indica cuántas veces aparecen las palabras en dicho tweet. Para determinar dichas palabras, se construye un vocabulario del corpus, que corresponde a todas las palabras observadas a través de los tweets."
   ]
  },
  {
   "cell_type": "code",
   "execution_count": 17,
   "metadata": {
    "collapsed": false,
    "deletable": true,
    "editable": true
   },
   "outputs": [
    {
     "name": "stdout",
     "output_type": "stream",
     "text": [
      "[[u'layin', u'bed', u'headache', u'ughhh', u'waitin', u'call']\n",
      " [u'funeral', u'ceremony', u'gloomy', u'friday']]\n"
     ]
    }
   ],
   "source": [
    "print X_train[:2]"
   ]
  },
  {
   "cell_type": "code",
   "execution_count": 18,
   "metadata": {
    "collapsed": true,
    "deletable": true,
    "editable": true
   },
   "outputs": [],
   "source": [
    "from sklearn.feature_extraction.text import TfidfVectorizer\n",
    "# Usando TfidfVectorizer\n",
    "vectorizer = TfidfVectorizer()\n",
    "X_tweets1 = []\n",
    "X_tweets2 = []\n",
    "for i in range(len(X_train)):\n",
    "    X_tweets1.append((\" \").join(X_train[i]))\n",
    "for i in range(len(X_test)):\n",
    "    X_tweets2.append((\" \").join(X_test[i]))\n",
    "X_train_tfidf = vectorizer.fit_transform(X_tweets1) # Le damos el vocabulario de entrenamiento!\n",
    "X_test_tfidf = vectorizer.transform(X_tweets2)"
   ]
  },
  {
   "cell_type": "markdown",
   "metadata": {
    "deletable": true,
    "editable": true
   },
   "source": [
    "Así, se entregan los datos de entrenamientos separados anteriormente para poder determinar el vocabulario con el que se trabajará. Y luego, se transforma el conjunto de prueba en base al vocabulario generado."
   ]
  },
  {
   "cell_type": "markdown",
   "metadata": {
    "deletable": true,
    "editable": true
   },
   "source": [
    "Es importante mencionar que hay que tener un buen diccionario para poder generalizar futuras palabras. Si el diccionario generado es pobre, las predicciones serán pobres. Este problema se enfrenta en todo análisis de texto, siendo el eterno dilema de generar un diccionario suficientemente grande para todas las palabras."
   ]
  },
  {
   "cell_type": "code",
   "execution_count": 19,
   "metadata": {
    "collapsed": false,
    "deletable": true,
    "editable": true
   },
   "outputs": [
    {
     "name": "stdout",
     "output_type": "stream",
     "text": [
      "  (0, 12886)\t0.541669135243\n",
      "  (0, 2558)\t0.282535165935\n",
      "  (0, 10361)\t0.347184095756\n",
      "  (0, 23545)\t0.432036853849\n",
      "  (0, 24288)\t0.464360937382\n",
      "  (0, 3880)\t0.322404572454\n",
      "test\n",
      "  (0, 21186)\t0.335210725324\n",
      "  (0, 16494)\t0.328442034342\n",
      "  (0, 13210)\t0.439184532801\n",
      "  (0, 12561)\t0.211561585378\n",
      "  (0, 10035)\t0.458592183741\n",
      "  (0, 8825)\t0.379986695837\n",
      "  (0, 7188)\t0.357105437311\n",
      "  (0, 2200)\t0.244739183799\n"
     ]
    }
   ],
   "source": [
    "print X_train_tfidf[0]\n",
    "print \"test\"\n",
    "print X_test_tfidf[0]"
   ]
  },
  {
   "cell_type": "code",
   "execution_count": 20,
   "metadata": {
    "collapsed": true,
    "deletable": true,
    "editable": true
   },
   "outputs": [],
   "source": [
    "from sklearn.feature_extraction.text import CountVectorizer\n",
    "from sklearn.discriminant_analysis import LinearDiscriminantAnalysis as LDA\n",
    "count_vect = CountVectorizer()\n",
    "X_train_counts = count_vect.fit_transform(X_tweets1)\n",
    "X_test_counts = count_vect.transform(X_tweets2)"
   ]
  },
  {
   "cell_type": "markdown",
   "metadata": {
    "deletable": true,
    "editable": true
   },
   "source": [
    "### f) Entrenar con 5 modelos clasificadores"
   ]
  },
  {
   "cell_type": "markdown",
   "metadata": {},
   "source": [
    "A continuación se procede a entrenar cinco modelos de clasificación, los cuales finalmente se resumirán en un gráfico comparativo"
   ]
  },
  {
   "cell_type": "code",
   "execution_count": 26,
   "metadata": {
    "collapsed": false,
    "deletable": true,
    "editable": true
   },
   "outputs": [
    {
     "name": "stdout",
     "output_type": "stream",
     "text": [
      "Accuracy Bernoulli Naive Bayes train tfidf: 0.821912238451\n",
      "Accuracy Bernoulli Naive Bayes test tfidf: 0.737760059798\n",
      " \n",
      "Accuracy Multinomial Naive Bayes train tfidf: 0.774591061208\n",
      "Accuracy Multinomial Naive Bayes test tfidf: 0.71869938956\n",
      " \n",
      "Accuracy SVM train kernel lineal: 0.898289181497\n",
      "Accuracy SVMs test kernel lineal: 0.740251650679\n",
      " \n",
      "Accuracy SVM train kernel rbf: 0.670909830169\n",
      "Accuracy SVMs test kernel rbf: 0.677338980939\n",
      " \n",
      "Accuracy SVM train kernel poly 3: 0.670909830169\n",
      "Accuracy SVMs test kernel poly 3: 0.677338980939\n"
     ]
    }
   ],
   "source": [
    "\n",
    "# Naive Bayes\n",
    "from sklearn.naive_bayes import BernoulliNB\n",
    "from sklearn.metrics import accuracy_score\n",
    "clf_bnb = BernoulliNB().fit(X_train_tfidf,y_train)\n",
    "predicted = clf_bnb.predict(X_test_tfidf)\n",
    "predicted_train = clf_bnb.predict(X_train_tfidf)\n",
    "print \"Accuracy Bernoulli Naive Bayes train tfidf:\",(accuracy_score(y_train,predicted_train))   \n",
    "print \"Accuracy Bernoulli Naive Bayes test tfidf:\",(accuracy_score(y_test,predicted))   \n",
    "\n",
    "print \" \"\n",
    "#Multi Naive Bayes == Bernoulli NB\n",
    "from sklearn.naive_bayes import MultinomialNB\n",
    "clf_mnb = MultinomialNB().fit(X_train_tfidf,y_train)\n",
    "predicted = clf_mnb.predict(X_test_tfidf)\n",
    "predicted_train = clf_mnb.predict(X_train_tfidf)\n",
    "print \"Accuracy Multinomial Naive Bayes train tfidf:\",(accuracy_score(y_train,predicted_train))   \n",
    "print \"Accuracy Multinomial Naive Bayes test tfidf:\",(accuracy_score(y_test,predicted)) \n",
    "print \" \"\n",
    "\n",
    "#SVM con kernel lineal\n",
    "from sklearn.svm import SVC as SVM #SVC is for classification\n",
    "clf_svm_lineal= SVM()\n",
    "clf_svm_lineal.set_params(kernel='linear')\n",
    "clf_svm_lineal.fit(X_train_counts,y_train)\n",
    "predicted = clf_svm_lineal.predict(X_test_counts)\n",
    "predicted_train = clf_svm_lineal.predict(X_train_counts)\n",
    "print \"Accuracy SVM train kernel lineal:\",(accuracy_score(y_train,predicted_train))   \n",
    "print \"Accuracy SVMs test kernel lineal:\",(accuracy_score(y_test,predicted)) \n",
    "print \" \"\n",
    "#SVM con kernel rbf\n",
    "from sklearn.svm import SVC as SVM #SVC is for classification\n",
    "clf_svm_rbf= SVM()\n",
    "clf_svm_rbf.set_params(kernel='rbf')\n",
    "clf_svm_rbf.fit(X_train_counts,y_train)\n",
    "predicted = clf_svm_rbf.predict(X_test_counts)\n",
    "predicted_train = clf_svm_rbf.predict(X_train_counts)\n",
    "print \"Accuracy SVM train kernel rbf:\",(accuracy_score(y_train,predicted_train))   \n",
    "print \"Accuracy SVMs test kernel rbf:\",(accuracy_score(y_test,predicted)) \n",
    "print \" \"\n",
    "\n",
    "#SVM con kernel plot\n",
    "from sklearn.svm import SVC as SVM #SVC is for classification\n",
    "clf_svm_sig= SVM()\n",
    "clf_svm_sig.set_params(kernel='poly')\n",
    "clf_svm_sig.fit(X_train_counts,y_train)\n",
    "predicted = clf_svm_sig.predict(X_test_counts)\n",
    "predicted_train = clf_svm_sig.predict(X_train_counts)\n",
    "print \"Accuracy SVM train kernel poly 3:\",(accuracy_score(y_train,predicted_train))   \n",
    "print \"Accuracy SVMs test kernel poly 3:\",(accuracy_score(y_test,predicted)) \n",
    "\n",
    "\n",
    "\n"
   ]
  },
  {
   "cell_type": "code",
   "execution_count": 27,
   "metadata": {
    "collapsed": false,
    "deletable": true,
    "editable": true
   },
   "outputs": [
    {
     "name": "stdout",
     "output_type": "stream",
     "text": [
      "Accuracy train Regresion Logistica : 0.859662840522\n",
      "Accuracy test Regresion Logistica: 0.750591752834\n"
     ]
    }
   ],
   "source": [
    "## Regresion Logistica\n",
    "from sklearn.linear_model import LogisticRegression as LR\n",
    "clf_lr = LR()\n",
    "clf_lr.set_params(penalty='l2')\n",
    "clf_lr.fit(X_train_counts,y_train)\n",
    "predicted = clf_lr.predict(X_test_counts)\n",
    "predicted_train = clf_lr.predict(X_train_counts)\n",
    "print \"Accuracy train Regresion Logistica :\",(accuracy_score(y_train,predicted_train))   \n",
    "print \"Accuracy test Regresion Logistica:\",(accuracy_score(y_test,predicted)) \n",
    "\n",
    "\n"
   ]
  },
  {
   "cell_type": "code",
   "execution_count": 28,
   "metadata": {
    "collapsed": false,
    "deletable": true,
    "editable": true
   },
   "outputs": [
    {
     "name": "stdout",
     "output_type": "stream",
     "text": [
      "Accuracy train Arbol : 0.991680480405\n",
      "Accuracy test Arbol: 0.698517503426\n"
     ]
    }
   ],
   "source": [
    "## Arbol de Clasificacion \n",
    "from sklearn.tree import DecisionTreeClassifier as Tree\n",
    "clf_tree = Tree() #edit the train_model function\n",
    "clf_tree.set_params(criterion=\"entropy\",splitter=\"best\")\n",
    "clf_tree.fit(X_train_counts,y_train)\n",
    "predicted = clf_tree.predict(X_test_counts)\n",
    "predicted_train = clf_tree.predict(X_train_counts)\n",
    "print \"Accuracy train Arbol :\",(accuracy_score(y_train,predicted_train))   \n",
    "print \"Accuracy test Arbol:\",(accuracy_score(y_test,predicted)) "
   ]
  },
  {
   "cell_type": "code",
   "execution_count": 60,
   "metadata": {
    "collapsed": false,
    "scrolled": true
   },
   "outputs": [
    {
     "data": {
      "image/png": "[encoded data removed]",
      "text/plain": [
       "<matplotlib.figure.Figure at 0x7f294600ddd0>"
      ]
     },
     "metadata": {},
     "output_type": "display_data"
    }
   ],
   "source": [
    "plt.figure(figsize=(12,6))  # Comenzamos un nuevo gráfico (figura)\n",
    "lista1 = [1-0.821912238451,1-0.774591061208,1-0.898289181497,1-0.670909830169,1-0.670909830169,1-0.859662840522,1-0.991680480405]\n",
    "lista2 =[1-0.737760059798,1-0.71869938956,1-0.740251650679,1-0.677338980939,1-0.677338980939,1-0.750591752834,1-0.698517503426]\n",
    "plt.title(\"Error de Clasificacion\")\n",
    "plt.xlabel(\"Clasificador\")\n",
    "plt.ylabel(\"Error\")\n",
    "indice = np.arange(7)   # Declara un array\n",
    "plt.xticks(indice, (\"Bern NB\", \"Multi NB\", \"SVM lineal\", \"SVM rbf\", \"SVM poly\", \"Reg Log\", \"Arbol\"))   \n",
    "plt.yticks(np.arange(0.0,1.0,0.1))\n",
    "plt.plot(lista1, marker='x', linestyle='--', color='b', label = \"Entrenamiento\")\n",
    "plt.plot(lista2, marker='*', linestyle='-', color='g', label = \"Test\")\n",
    "plt.legend(loc=\"lower left\")\n",
    "plt.show()"
   ]
  },
  {
   "cell_type": "markdown",
   "metadata": {},
   "source": [
    "Mediante el gráfico es posible observar que la tendencia a ser bastante diferentes los errores de entrenamiento y test no es seguida por las SVM con kernel RBF (Radial Basis Function) ni Poly, pues estos tienen un menor error de test que de entrenamiento, aunque la diferencia entre ellos es muy pequeña.\n",
    "\n",
    "Del resto de los clasificadores, Naive Bayes Multinomial tiene un comportamiento bastante bueno, ya que a pesa que el error de entrenamiento no sea muy bajo, su error de test está muy cercano a este, por lo que se podría decir que tiene una buena capacidad de generalización.\n",
    "\n",
    "Es posible ver que de los error de test, los clasificadoes que tienen un mejor comportamiento son Naive Bayes Bernoulli, SVM lineal y regresión logistica. \n",
    "\n",
    "El árbol de clasificación tiene overfitting, ya que su error de entrenamiento, es prácticamente cero, es decir se ajusta muy bien a esos ejemplos, pero su error de test es más alto. A pesar de esto su error de test no es tan alto como tal vez se hubiese esperado. De hecho, está muy acorde a los otros clasificadores"
   ]
  },
  {
   "cell_type": "markdown",
   "metadata": {
    "deletable": true,
    "editable": true
   },
   "source": [
    "**Obs, Naive Bayes es super rápido para ejecutarse!**"
   ]
  },
  {
   "cell_type": "markdown",
   "metadata": {
    "collapsed": true,
    "deletable": true,
    "editable": true
   },
   "source": [
    "## SOLO CON UN PC RÁPIDO EJECUTAR, TF-IDF\n",
    "#SVM con kernel lineal\n",
    "from sklearn.svm import SVC as SVM #SVC is for classification\n",
    "clf_svm_lineal_tfidf= SVM()\n",
    "clf_svm_lineal_tfidf.set_params(kernel='linear')\n",
    "clf_svm_lineal_tfidf.fit(X_train_tfidf,y_train)\n",
    "predicted = clf_svm_lineal_tfidf.predict(X_test_tfidf)\n",
    "predicted_train = clf_svm_lineal_tfidf.predict(X_train_tfidf)\n",
    "print \"Accuracy SVM train kernel lineal tfidf:\",(accuracy_score(y_train,predicted_train))   \n",
    "print \"Accuracy SVMs test kernel lineal tfidf:\",(accuracy_score(y_test,predicted)) \n",
    "print \" \"\n",
    "\n",
    "#SVM con kernel rbf\n",
    "from sklearn.svm import SVC as SVM #SVC is for classification\n",
    "clf_svm_rbf_tfidf= SVM()\n",
    "clf_svm_rbf_tfidf.set_params(kernel='rbf')\n",
    "clf_svm_rbf_tfidf.fit(X_train_tfidf,y_train)\n",
    "predicted = clf_svm_rbf_tfidf.predict(X_test_tfidf)\n",
    "predicted_train = clf_svm_rbf_tfidf.predict(X_train_tfidf)\n",
    "print \"Accuracy SVM train kernel rbf tfidf:\",(accuracy_score(y_train,predicted_train))   \n",
    "print \"Accuracy SVMs test kernel rbf tfidf:\",(accuracy_score(y_test,predicted)) \n",
    "print \" \"\n",
    "\n",
    "#SVM con kernel poliniomial tfidf\n",
    "from sklearn.svm import SVC as SVM #SVC is for classification\n",
    "clf_svm_sig_tfidf= SVM()\n",
    "clf_svm_sig_tfidf.set_params(kernel='poly')\n",
    "clf_svm_sig_tfidf.fit(X_train_tfidf,y_train)\n",
    "predicted = clf_svm_sig_tfidf.predict(X_test_tfidf)\n",
    "predicted_train = clf_svm_sig_tfidf.predict(X_train_tfidf)\n",
    "print \"Accuracy SVM train kernel poly 3 tfidf:\",(accuracy_score(y_train,predicted_train))   \n",
    "print \"Accuracy SVMs test kernel poly 3 tfidf:\",(accuracy_score(y_test,predicted))"
   ]
  },
  {
   "cell_type": "markdown",
   "metadata": {
    "deletable": true,
    "editable": true
   },
   "source": [
    "LDA y QDA explotan con la dimensionalidad por eso no lo ocuparemos"
   ]
  },
  {
   "cell_type": "markdown",
   "metadata": {
    "collapsed": true,
    "deletable": true,
    "editable": true
   },
   "source": [
    "## NO EJECUTAR! PROBLEMAS DE MEMORIA!\n",
    "\n",
    "\n",
    "from sklearn.discriminant_analysis import LinearDiscriminantAnalysis as LDA\n",
    "model = LDA()\n",
    "\n",
    "print X_train_counts[0]\n",
    "\n",
    "model.fit(X_train_counts.toarray(),y_train) # Memory Error .toarray\n",
    "predicted = model.predict(X_test_counts)\n"
   ]
  },
  {
   "cell_type": "markdown",
   "metadata": {
    "deletable": true,
    "editable": true
   },
   "source": [
    "### g) Classification Report"
   ]
  },
  {
   "cell_type": "markdown",
   "metadata": {},
   "source": [
    "**Utilice y explique las m´etricas que calcula la funci´on classification report de la librer´ıa sklearn. En base\n",
    "a las distintas m´etricas calculadas ¿Cu´ales clasificadores son los que mejor se comportan?**\n",
    "\n",
    "Se procedió a crear la función de evaluación de desempeño para los clasificadores. Las métricas que utiliza la función classification_report de la librería sklearn son tres:\n",
    "* Precision: Capacidad del clasificador de no etiquetar como positiva una muestra que es negativa, y viceversa. \n",
    "* Recall: Capacidad del clasificador para encontrar todas las muestras positivas/relevantes.\n",
    "* F1-Score: Puede interpretarse como una media armónica ponderada de precision y recall.\n",
    "* Support: Cantidad de ocurrencias de cada clase."
   ]
  },
  {
   "cell_type": "code",
   "execution_count": 56,
   "metadata": {
    "collapsed": true,
    "deletable": true,
    "editable": true
   },
   "outputs": [],
   "source": [
    "from sklearn.metrics import classification_report\n",
    "def score_the_model(model,x,y,xt,yt):\n",
    "    acc_tr = model.score(x,y)\n",
    "    acc_test = model.score(xt[:-1],yt[:-1])\n",
    "    print \"Training Accuracy: %f\"%(acc_tr)\n",
    "    print \"Test Accuracy: %f\"%(acc_test)\n",
    "    print \"Detailed Analysis Testing Results ...\"\n",
    "    print (classification_report(yt,model.predict(xt)))"
   ]
  },
  {
   "cell_type": "code",
   "execution_count": 57,
   "metadata": {
    "collapsed": false,
    "deletable": true,
    "editable": true
   },
   "outputs": [
    {
     "name": "stdout",
     "output_type": "stream",
     "text": [
      "tf-idf: \n",
      " \n",
      "\n",
      "Bernoulli Naive Bayes \n",
      "\n",
      "Training Accuracy: 0.821912\n",
      "Test Accuracy: 0.737852\n",
      "Detailed Analysis Testing Results ...\n",
      "             precision    recall  f1-score   support\n",
      "\n",
      "         -1       0.75      0.92      0.83      5437\n",
      "          1       0.69      0.35      0.46      2590\n",
      "\n",
      "avg / total       0.73      0.74      0.71      8027\n",
      "\n",
      "Multinomial Naive Bayes \n",
      "\n",
      "Training Accuracy: 0.774591\n",
      "Test Accuracy: 0.718789\n",
      "Detailed Analysis Testing Results ...\n",
      "             precision    recall  f1-score   support\n",
      "\n",
      "         -1       0.72      0.97      0.82      5437\n",
      "          1       0.75      0.19      0.31      2590\n",
      "\n",
      "avg / total       0.73      0.72      0.66      8027\n",
      "\n",
      "Multinomial SVM kernel lineal \n",
      "\n",
      "Training Accuracy: 0.898289\n",
      "Test Accuracy: 0.740344\n",
      "Detailed Analysis Testing Results ...\n",
      "             precision    recall  f1-score   support\n",
      "\n",
      "         -1       0.78      0.85      0.82      5437\n",
      "          1       0.62      0.51      0.56      2590\n",
      "\n",
      "avg / total       0.73      0.74      0.73      8027\n",
      "\n",
      "Multinomial SVM kernel RBF \n",
      "\n",
      "Training Accuracy: 0.670910\n",
      "Test Accuracy: 0.677423\n",
      "Detailed Analysis Testing Results ...\n"
     ]
    },
    {
     "name": "stderr",
     "output_type": "stream",
     "text": [
      "/usr/local/lib/python2.7/dist-packages/sklearn/metrics/classification.py:1113: UndefinedMetricWarning: Precision and F-score are ill-defined and being set to 0.0 in labels with no predicted samples.\n",
      "  'precision', 'predicted', average, warn_for)\n"
     ]
    },
    {
     "name": "stdout",
     "output_type": "stream",
     "text": [
      "             precision    recall  f1-score   support\n",
      "\n",
      "         -1       0.68      1.00      0.81      5437\n",
      "          1       0.00      0.00      0.00      2590\n",
      "\n",
      "avg / total       0.46      0.68      0.55      8027\n",
      "\n",
      "Multinomial SVM kernel sigmoidal \n",
      "\n",
      "Training Accuracy: 0.670910\n",
      "Test Accuracy: 0.677423\n",
      "Detailed Analysis Testing Results ...\n",
      "             precision    recall  f1-score   support\n",
      "\n",
      "         -1       0.68      1.00      0.81      5437\n",
      "          1       0.00      0.00      0.00      2590\n",
      "\n",
      "avg / total       0.46      0.68      0.55      8027\n",
      "\n",
      "Logistic Regression \n",
      "\n",
      "Training Accuracy: 0.859663\n",
      "Test Accuracy: 0.750685\n",
      "Detailed Analysis Testing Results ...\n",
      "             precision    recall  f1-score   support\n",
      "\n",
      "         -1       0.78      0.88      0.83      5437\n",
      "          1       0.65      0.49      0.56      2590\n",
      "\n",
      "avg / total       0.74      0.75      0.74      8027\n",
      "\n",
      "Clasification tree \n",
      "\n",
      "Training Accuracy: 0.991680\n",
      "Test Accuracy: 0.698605\n",
      "Detailed Analysis Testing Results ...\n",
      "             precision    recall  f1-score   support\n",
      "\n",
      "         -1       0.77      0.80      0.78      5437\n",
      "          1       0.54      0.49      0.51      2590\n",
      "\n",
      "avg / total       0.69      0.70      0.69      8027\n",
      "\n"
     ]
    }
   ],
   "source": [
    "print \"tf-idf: \\n \\n\"\n",
    "print \"Bernoulli Naive Bayes \\n\"\n",
    "score_the_model(clf_bnb,X_train_tfidf,y_train,X_test_tfidf,y_test)\n",
    "print \"Multinomial Naive Bayes \\n\"\n",
    "score_the_model(clf_mnb,X_train_tfidf,y_train,X_test_tfidf,y_test)\n",
    "print \"Multinomial SVM kernel lineal \\n\"\n",
    "score_the_model(clf_svm_lineal,X_train_counts,y_train,X_test_counts,y_test)\n",
    "print \"Multinomial SVM kernel RBF \\n\"\n",
    "score_the_model(clf_svm_rbf,X_train_counts,y_train,X_test_counts,y_test)\n",
    "print \"Multinomial SVM kernel sigmoidal \\n\"\n",
    "score_the_model(clf_svm_sig,X_train_counts,y_train,X_test_counts,y_test)\n",
    "print \"Logistic Regression \\n\"\n",
    "score_the_model(clf_lr,X_train_counts,y_train,X_test_counts,y_test)\n",
    "print \"Clasification tree \\n\"\n",
    "score_the_model(clf_tree,X_train_counts,y_train,X_test_counts,y_test)"
   ]
  },
  {
   "cell_type": "markdown",
   "metadata": {},
   "source": [
    "En base a las métricas anteriormente explicadas y comparando resultados entre los clasificadores, es posible observar que la regresión logística es la que mejor se comporta, teniendo un mejor desempeño en las métricas. Luego, el que mejor se comporta es Naive Bayes Bernoulli, que quizás era la opción que se pensaría a priori que funciona bien, ya que es el clasificador comúnmente usado para clasificación de texto.\n",
    "\n",
    "Otra cosa importante de notar es que de las SVM aplicadas, la que mejor se comporta es la lineal, los otros dos kernels implementados, tienen un mal rendimiento respecto a los otros casificadores.\n",
    "\n"
   ]
  },
  {
   "cell_type": "markdown",
   "metadata": {
    "deletable": true,
    "editable": true
   },
   "source": [
    "###  h) [Opcional]"
   ]
  },
  {
   "cell_type": "code",
   "execution_count": 65,
   "metadata": {
    "collapsed": false
   },
   "outputs": [
    {
     "name": "stdout",
     "output_type": "stream",
     "text": [
      "SVC(C=1.0, cache_size=200, class_weight=None, coef0=0.0,\n",
      "  decision_function_shape=None, degree=3, gamma='auto', kernel='linear',\n",
      "  max_iter=-1, probability=False, random_state=None, shrinking=True,\n",
      "  tol=0.001, verbose=False)\n"
     ]
    },
    {
     "ename": "AttributeError",
     "evalue": "predict_proba is not available when  probability=False",
     "output_type": "error",
     "traceback": [
      "\u001b[0;31m---------------------------------------------------------------------------\u001b[0m",
      "\u001b[0;31mAttributeError\u001b[0m                            Traceback (most recent call last)",
      "\u001b[0;32m<ipython-input-65-4f72307796b4>\u001b[0m in \u001b[0;36m<module>\u001b[0;34m()\u001b[0m\n\u001b[1;32m      1\u001b[0m \u001b[0;32mprint\u001b[0m \u001b[0mmodel\u001b[0m\u001b[0;34m\u001b[0m\u001b[0m\n\u001b[0;32m----> 2\u001b[0;31m \u001b[0mtest_pred\u001b[0m \u001b[0;34m=\u001b[0m \u001b[0mmodel\u001b[0m\u001b[0;34m.\u001b[0m\u001b[0mpredict_proba\u001b[0m\u001b[0;34m(\u001b[0m\u001b[0mX_test\u001b[0m\u001b[0;34m)\u001b[0m\u001b[0;34m\u001b[0m\u001b[0m\n\u001b[0m\u001b[1;32m      3\u001b[0m \u001b[0mspl\u001b[0m \u001b[0;34m=\u001b[0m \u001b[0mrandom\u001b[0m\u001b[0;34m.\u001b[0m\u001b[0msample\u001b[0m\u001b[0;34m(\u001b[0m\u001b[0mxrange\u001b[0m\u001b[0;34m(\u001b[0m\u001b[0mlen\u001b[0m\u001b[0;34m(\u001b[0m\u001b[0mtest_pred\u001b[0m\u001b[0;34m)\u001b[0m\u001b[0;34m)\u001b[0m\u001b[0;34m,\u001b[0m \u001b[0;36m15\u001b[0m\u001b[0;34m)\u001b[0m\u001b[0;34m\u001b[0m\u001b[0m\n\u001b[1;32m      4\u001b[0m \u001b[0;32mfor\u001b[0m \u001b[0mtext\u001b[0m\u001b[0;34m,\u001b[0m \u001b[0msentiment\u001b[0m \u001b[0;32min\u001b[0m \u001b[0mzip\u001b[0m\u001b[0;34m(\u001b[0m\u001b[0mdf_test\u001b[0m\u001b[0;34m.\u001b[0m\u001b[0mcontent\u001b[0m\u001b[0;34m[\u001b[0m\u001b[0mspl\u001b[0m\u001b[0;34m]\u001b[0m\u001b[0;34m,\u001b[0m \u001b[0mtest_pred\u001b[0m\u001b[0;34m[\u001b[0m\u001b[0mspl\u001b[0m\u001b[0;34m]\u001b[0m\u001b[0;34m)\u001b[0m\u001b[0;34m:\u001b[0m\u001b[0;34m\u001b[0m\u001b[0m\n\u001b[1;32m      5\u001b[0m     \u001b[0;32mprint\u001b[0m \u001b[0msentiment\u001b[0m\u001b[0;34m,\u001b[0m \u001b[0mtext\u001b[0m\u001b[0;34m\u001b[0m\u001b[0m\n",
      "\u001b[0;32m/usr/local/lib/python2.7/dist-packages/sklearn/svm/base.pyc\u001b[0m in \u001b[0;36mpredict_proba\u001b[0;34m(self)\u001b[0m\n\u001b[1;32m    613\u001b[0m         \u001b[0mdatasets\u001b[0m\u001b[0;34m.\u001b[0m\u001b[0;34m\u001b[0m\u001b[0m\n\u001b[1;32m    614\u001b[0m         \"\"\"\n\u001b[0;32m--> 615\u001b[0;31m         \u001b[0mself\u001b[0m\u001b[0;34m.\u001b[0m\u001b[0m_check_proba\u001b[0m\u001b[0;34m(\u001b[0m\u001b[0;34m)\u001b[0m\u001b[0;34m\u001b[0m\u001b[0m\n\u001b[0m\u001b[1;32m    616\u001b[0m         \u001b[0;32mreturn\u001b[0m \u001b[0mself\u001b[0m\u001b[0;34m.\u001b[0m\u001b[0m_predict_proba\u001b[0m\u001b[0;34m\u001b[0m\u001b[0m\n\u001b[1;32m    617\u001b[0m \u001b[0;34m\u001b[0m\u001b[0m\n",
      "\u001b[0;32m/usr/local/lib/python2.7/dist-packages/sklearn/svm/base.pyc\u001b[0m in \u001b[0;36m_check_proba\u001b[0;34m(self)\u001b[0m\n\u001b[1;32m    580\u001b[0m     \u001b[0;32mdef\u001b[0m \u001b[0m_check_proba\u001b[0m\u001b[0;34m(\u001b[0m\u001b[0mself\u001b[0m\u001b[0;34m)\u001b[0m\u001b[0;34m:\u001b[0m\u001b[0;34m\u001b[0m\u001b[0m\n\u001b[1;32m    581\u001b[0m         \u001b[0;32mif\u001b[0m \u001b[0;32mnot\u001b[0m \u001b[0mself\u001b[0m\u001b[0;34m.\u001b[0m\u001b[0mprobability\u001b[0m\u001b[0;34m:\u001b[0m\u001b[0;34m\u001b[0m\u001b[0m\n\u001b[0;32m--> 582\u001b[0;31m             raise AttributeError(\"predict_proba is not available when \"\n\u001b[0m\u001b[1;32m    583\u001b[0m                                  \" probability=False\")\n\u001b[1;32m    584\u001b[0m         \u001b[0;32mif\u001b[0m \u001b[0mself\u001b[0m\u001b[0;34m.\u001b[0m\u001b[0m_impl\u001b[0m \u001b[0;32mnot\u001b[0m \u001b[0;32min\u001b[0m \u001b[0;34m(\u001b[0m\u001b[0;34m'c_svc'\u001b[0m\u001b[0;34m,\u001b[0m \u001b[0;34m'nu_svc'\u001b[0m\u001b[0;34m)\u001b[0m\u001b[0;34m:\u001b[0m\u001b[0;34m\u001b[0m\u001b[0m\n",
      "\u001b[0;31mAttributeError\u001b[0m: predict_proba is not available when  probability=False"
     ]
    }
   ],
   "source": [
    "print model\n",
    "test_pred = model.predict_proba(X_test)\n",
    "spl = random.sample(xrange(len(test_pred)), 15)\n",
    "for text, sentiment in zip(df_test.content[spl], test_pred[spl]):\n",
    "    print sentiment, text"
   ]
  },
  {
   "cell_type": "markdown",
   "metadata": {
    "deletable": true,
    "editable": true
   },
   "source": [
    "### i) Multilabel\n",
    "\n",
    "**Ahora deber´a extender el problema a las m´ultiples clases que tiene presente (las distintas emociones),\n",
    "es decir, su trabajo ser´a el de predecir una de las distintas emociones de cada tweet. Para esto utilice el\n",
    "mismo pre-procesamiento realizado en el punto c) y las caracter´ısticas generadas mediante las t´ecnicas\n",
    "en el punto e). Recuerde que tendr´a que codificar las distintas clases como valores num´ericos enteros.**"
   ]
  },
  {
   "cell_type": "markdown",
   "metadata": {},
   "source": [
    "Ahora, el problema de clasificación será extendido a múltiples clases. Así, la tarea del nuevo clasificador será predecir una de las distintas emociones de cada tweet. Para esto cada clase fue asignada a un valor, el cual ya fue codificado con anterioridad."
   ]
  },
  {
   "cell_type": "code",
   "execution_count": 69,
   "metadata": {
    "collapsed": false,
    "deletable": true,
    "editable": true
   },
   "outputs": [
    {
     "name": "stdout",
     "output_type": "stream",
     "text": [
      "Accuracy Bernoulli Naive Bayes train: 0.459731648578\n",
      "Accuracy Bernoulli Naive Bayes test: 0.312320916905\n",
      " \n",
      "Accuracy Multinomial Naive Bayes train: 0.450911706753\n",
      "Accuracy Multinomial Naive Bayes test: 0.30783605332\n",
      "Accuracy SVM train: 0.788978200357\n",
      "Accuracy SVMs test: 0.333873178024\n",
      " \n",
      "Accuracy train Regresion Logistica : 0.672411096863\n",
      "Accuracy test Regresion Logistica: 0.350317677837\n",
      " \n",
      "Accuracy train Arbol : 0.977324617646\n",
      "Accuracy test Arbol: 0.269714712844\n",
      " \n"
     ]
    }
   ],
   "source": [
    "# Naive Bayes\n",
    "from sklearn.naive_bayes import BernoulliNB\n",
    "from sklearn.metrics import accuracy_score\n",
    "clf_bnb = BernoulliNB().fit(X_train_tfidf,y_train_em)\n",
    "predicted = clf_bnb.predict(X_test_tfidf)\n",
    "predicted_train = clf_bnb.predict(X_train_tfidf)\n",
    "print \"Accuracy Bernoulli Naive Bayes train:\",(accuracy_score(y_train_em,predicted_train))   \n",
    "print \"Accuracy Bernoulli Naive Bayes test:\",(accuracy_score(y_test_em,predicted))   \n",
    "\n",
    "print \" \"\n",
    "#Multi Naive Bayes == Bernoulli NB\n",
    "from sklearn.naive_bayes import MultinomialNB\n",
    "clf_mnb = MultinomialNB().fit(X_train_tfidf,y_train_em)\n",
    "predicted = clf_mnb.predict(X_test_tfidf)\n",
    "predicted_train = clf_mnb.predict(X_train_tfidf)\n",
    "print \"Accuracy Multinomial Naive Bayes train:\",(accuracy_score(y_train_em,predicted_train))   \n",
    "print \"Accuracy Multinomial Naive Bayes test:\",(accuracy_score(y_test_em,predicted))\n",
    "\n",
    "\n",
    "from sklearn.svm import SVC as SVM #SVC is for classification\n",
    "model= SVM()\n",
    "model.set_params(kernel='linear')\n",
    "model.fit(X_train_counts,y_train_em)\n",
    "\n",
    "predicted = model.predict(X_test_counts)\n",
    "predicted_train = model.predict(X_train_counts)\n",
    "\n",
    "print \"Accuracy SVM train:\",(accuracy_score(y_train_em,predicted_train))   \n",
    "print \"Accuracy SVMs test:\",(accuracy_score(y_test_em,predicted)) \n",
    "\n",
    "print \" \"\n",
    "## Regresion Logistica\n",
    "from sklearn.linear_model import LogisticRegression as LR\n",
    "clf_lr = LR()\n",
    "clf_lr.set_params(penalty='l2')\n",
    "clf_lr.fit(X_train_counts,y_train_em)\n",
    "predicted = clf_lr.predict(X_test_counts)\n",
    "predicted_train = clf_lr.predict(X_train_counts)\n",
    "print \"Accuracy train Regresion Logistica :\",(accuracy_score(y_train_em,predicted_train))   \n",
    "print \"Accuracy test Regresion Logistica:\",(accuracy_score(y_test_em,predicted)) \n",
    "print \" \"\n",
    "## Arbol de Clasificacion \n",
    "from sklearn.tree import DecisionTreeClassifier as Tree\n",
    "clf_tree = Tree() #edit the train_model function\n",
    "clf_tree.set_params(criterion=\"entropy\",splitter=\"best\")\n",
    "clf_tree.fit(X_train_counts,y_train_em)\n",
    "predicted = clf_tree.predict(X_test_counts)\n",
    "predicted_train = clf_tree.predict(X_train_counts)\n",
    "print \"Accuracy train Arbol :\",(accuracy_score(y_train_em,predicted_train))   \n",
    "print \"Accuracy test Arbol:\",(accuracy_score(y_test_em,predicted)) \n",
    "print \" \"\n"
   ]
  },
  {
   "cell_type": "code",
   "execution_count": 62,
   "metadata": {
    "collapsed": false,
    "scrolled": true
   },
   "outputs": [
    {
     "data": {
      "image/png": "[encoded data removed]",
      "text/plain": [
       "<matplotlib.figure.Figure at 0x7f294098aad0>"
      ]
     },
     "metadata": {},
     "output_type": "display_data"
    }
   ],
   "source": [
    "plt.figure(figsize=(12,6))  # Comenzamos un nuevo gráfico (figura)\n",
    "lista1 = [1-0.459731648578,1-0.450911706753,1-0.788978200357,1-0.672411096863,1-0.977324617646]\n",
    "lista2 =[1-0.312320916905,1-0.30783605332,1-0.333873178024,1-0.350317677837,1-0.267472281051]\n",
    "plt.title(\"Error de Clasificacion\")\n",
    "plt.xlabel(\"Clasificador\")\n",
    "plt.ylabel(\"Error\")\n",
    "indice = np.arange(5)   # Declara un array\n",
    "plt.xticks(indice, (\"Bern NB\", \"Multi NB\", \"SVM lineal\", \"Reg Log\", \"Arbol\"))   \n",
    "plt.yticks(np.arange(0.0,1.0,0.1))\n",
    "plt.plot(lista1, marker='x', linestyle='--', color='b', label = \"Entrenamiento\")\n",
    "plt.plot(lista2, marker='*', linestyle='-', color='g', label = \"Test\")\n",
    "plt.legend(loc=\"lower left\")\n",
    "plt.show()"
   ]
  },
  {
   "cell_type": "markdown",
   "metadata": {},
   "source": [
    "Para este nuevo caso de estudio es posiblever que los resultados empeoraron bastante. De hecho si se observa el eje Y del gráfico se puede ver que ahora tiene un rango más amplio, llegando hasta el 0.7 en vez del 0.3.\n",
    "\n",
    "Para estos casos ve una tendencia al overfitting sobre todos los clasificadores, pues se tine un bajo error de entrenamiento, es decir la clasificasión se ajusta bien a los ejemplos entregados, pero a la hora de probar con nuevos ejemplos, estos clasificadores se comportan bastante mal rodeando un error de 0.7. Al igual que en el caso de dos clases se puede ver que el clasificador que sufre mayor overfitting es el árbol de clasificación. \n",
    "\n",
    "Este mal comportamiento general, es obtenido por la poca cantidad de ejemplos para entrenamiento que se tienen por clase, teniendo algunas con un orden de los cientos de ejemplos y otros de los cientos."
   ]
  },
  {
   "cell_type": "markdown",
   "metadata": {
    "deletable": true,
    "editable": true
   },
   "source": [
    "### j) Clasificadores extendidos por defecto\n",
    "\n",
    "Utilice los clasi\f",
    "cadores que son extendidos por defecto a m\u0013ultiples clases para detectar emociones en\n",
    "cada tweet, muestre sus desempe~nos a trav\u0013es del error de pruebas en un gr\u0013a\f",
    "co resumen."
   ]
  },
  {
   "cell_type": "code",
   "execution_count": 68,
   "metadata": {
    "collapsed": false,
    "scrolled": true
   },
   "outputs": [
    {
     "name": "stdout",
     "output_type": "stream",
     "text": [
      "Accuracy train Regresion Logistica : 0.704531948832\n",
      "Accuracy test Regresion Logistica: 0.343714962003\n",
      " \n",
      "Accuracy train Regresion Logistica : 0.977324617646\n",
      "Accuracy test Regresion Logistica: 0.267223121963\n",
      " \n",
      "Accuracy train Regresion Logistica : 0.459731648578\n",
      "Accuracy test Regresion Logistica: 0.312320916905\n"
     ]
    }
   ],
   "source": [
    "#Regresión Logistica\n",
    "from sklearn.linear_model import LogisticRegression\n",
    "clf_lr_def = LogisticRegression()\n",
    "clf_lr_def.set_params(multi_class='multinomial', solver='newton-cg')\n",
    "clf_lr_def.fit(X_train_counts,y_train_em)\n",
    "predicted = clf_lr_def.predict(X_test_counts)\n",
    "predicted_train = clf_lr_def.predict(X_train_counts)\n",
    "print \"Accuracy train Regresion Logistica :\",(accuracy_score(y_train_em,predicted_train))   \n",
    "print \"Accuracy test Regresion Logistica:\",(accuracy_score(y_test_em,predicted)) \n",
    "print \" \"\n",
    "\n",
    "\n",
    "\n",
    "from sklearn.tree import DecisionTreeClassifier as DTC\n",
    "clf_dtc_def = DTC()\n",
    "clf_dtc_def.fit(X_train_counts,y_train_em)\n",
    "predicted = clf_dtc_def.predict(X_test_counts)\n",
    "predicted_train = clf_dtc_def.predict(X_train_counts)\n",
    "print \"Accuracy train Árbol de decisión :\",(accuracy_score(y_train_em,predicted_train))   \n",
    "print \"Accuracy test Árbol de decisión :\",(accuracy_score(y_test_em,predicted)) \n",
    "print \" \"\n",
    "\n",
    "from sklearn.naive_bayes import BernoulliNB\n",
    "clf_bnb_def = BernoulliNB()\n",
    "clf_bnb_def.fit(X_train_counts,y_train_em)\n",
    "predicted = clf_bnb_def.predict(X_test_counts)\n",
    "predicted_train = clf_bnb_def.predict(X_train_counts)\n",
    "print \"Accuracy train NB Bernoulli :\",(accuracy_score(y_train_em,predicted_train))   \n",
    "print \"Accuracy test NB Bernoulli:\",(accuracy_score(y_test_em,predicted)) "
   ]
  },
  {
   "cell_type": "code",
   "execution_count": 73,
   "metadata": {
    "collapsed": false
   },
   "outputs": [
    {
     "data": {
      "image/png": "[encoded data removed]",
      "text/plain": [
       "<matplotlib.figure.Figure at 0x7f29402894d0>"
      ]
     },
     "metadata": {},
     "output_type": "display_data"
    }
   ],
   "source": [
    "plt.figure(figsize=(12,6))  # Comenzamos un nuevo gráfico (figura)\n",
    "lista1 = [1-0.704531948832,1-0.977324617646,1-0.459731648578]\n",
    "lista2 =[1-0.343714962003,1-0.267223121963,1-0.312320916905]\n",
    "plt.title(\"Error de Clasificacion\")\n",
    "plt.xlabel(\"Clasificador\")\n",
    "plt.ylabel(\"Error\")\n",
    "indice = np.arange(5)   # Declara un array\n",
    "plt.xticks(indice, (\"Reg Log\", \"Arbol\",\"Bern NB\" ))   \n",
    "plt.yticks(np.arange(0.0,1.0,0.1))\n",
    "plt.plot(lista1, marker='x', linestyle='--', color='b', label = \"Entrenamiento\")\n",
    "plt.plot(lista2, marker='*', linestyle='-', color='g', label = \"Test\")\n",
    "plt.legend(loc=\"lower left\")\n",
    "plt.show()"
   ]
  },
  {
   "cell_type": "markdown",
   "metadata": {},
   "source": [
    "bern> logis > arbol test"
   ]
  },
  {
   "cell_type": "markdown",
   "metadata": {
    "deletable": true,
    "editable": true
   },
   "source": [
    "### k) Clasificadores binarios extendidos mediante One vs One y One vs All"
   ]
  },
  {
   "cell_type": "code",
   "execution_count": 70,
   "metadata": {
    "collapsed": false,
    "deletable": true,
    "editable": true
   },
   "outputs": [
    {
     "name": "stdout",
     "output_type": "stream",
     "text": [
      "Accuracy One vs All Bernoulli Naive Bayes train: 0.497795014544\n",
      "Accuracy One vs All Bernoulli Naive Bayes test: 0.317428678211\n",
      "Accuracy One vs One Bernoulli Naive Bayes train: 0.459731648578\n",
      "Accuracy One vs One Bernoulli Naive Bayes test: 0.312320916905\n"
     ]
    }
   ],
   "source": [
    "from sklearn.multiclass import OneVsRestClassifier\n",
    "from sklearn.multiclass import OneVsOneClassifier\n",
    "# Extension de Bernoulli Naive\n",
    "clf_multibnb_1va = OneVsRestClassifier(clf_bnb)\n",
    "clf_multibnb_1va.fit(X_train_tfidf,y_train_em)\n",
    "predicted = clf_multibnb_1va.predict(X_test_tfidf)\n",
    "predicted_train = clf_multibnb_1va.predict(X_train_tfidf)\n",
    "print \"Accuracy One vs All Bernoulli Naive Bayes train:\",(accuracy_score(y_train_em,predicted_train))   \n",
    "print \"Accuracy One vs All Bernoulli Naive Bayes test:\",(accuracy_score(y_test_em,predicted))  \n",
    "\n",
    "clf_multibnb_1v1 = OneVsOneClassifier(clf_bnb)\n",
    "clf_multibnb_1v1.fit(X_train_tfidf,y_train_em)\n",
    "predicted = clf_multibnb_1v1.predict(X_test_tfidf)\n",
    "predicted_train = clf_multibnb_1v1.predict(X_train_tfidf)\n",
    "print \"Accuracy One vs One Bernoulli Naive Bayes train:\",(accuracy_score(y_train_em,predicted_train))   \n",
    "print \"Accuracy One vs One Bernoulli Naive Bayes test:\",(accuracy_score(y_test_em,predicted))  "
   ]
  },
  {
   "cell_type": "code",
   "execution_count": 71,
   "metadata": {
    "collapsed": false,
    "deletable": true,
    "editable": true
   },
   "outputs": [
    {
     "name": "stdout",
     "output_type": "stream",
     "text": [
      "Accuracy One vs All SVM lineal train: 0.795765176868\n",
      "Accuracy One vs All SVM lineal test: 0.306341098792\n",
      "Accuracy One vs One SVM lineal train: 0.783786319707\n",
      "Accuracy One vs One SVM lineal test: 0.335617291641\n"
     ]
    }
   ],
   "source": [
    "#Extension de SVM Lineal\n",
    "clf_svm_1va = OneVsRestClassifier(model)\n",
    "clf_svm_1va.fit(X_train_counts,y_train_em)\n",
    "predicted = clf_svm_1va.predict(X_test_counts)\n",
    "predicted_train = clf_svm_1va.predict(X_train_counts)\n",
    "print \"Accuracy One vs All SVM lineal train:\",(accuracy_score(y_train_em,predicted_train))   \n",
    "print \"Accuracy One vs All SVM lineal test:\",(accuracy_score(y_test_em,predicted))  \n",
    "\n",
    "clf_svm_1v1 = OneVsOneClassifier(model)\n",
    "clf_svm_1v1.fit(X_train_counts,y_train_em)\n",
    "predicted = clf_svm_1v1.predict(X_test_counts)\n",
    "predicted_train = clf_svm_1v1.predict(X_train_counts)\n",
    "print \"Accuracy One vs One SVM lineal train:\",(accuracy_score(y_train_em,predicted_train))   \n",
    "print \"Accuracy One vs One SVM lineal test:\",(accuracy_score(y_test_em,predicted)) "
   ]
  },
  {
   "cell_type": "code",
   "execution_count": 75,
   "metadata": {
    "collapsed": false
   },
   "outputs": [
    {
     "data": {
      "image/png": "[encoded data removed]",
      "text/plain": [
       "<matplotlib.figure.Figure at 0x7f29407b1090>"
      ]
     },
     "metadata": {},
     "output_type": "display_data"
    }
   ],
   "source": [
    "plt.figure(figsize=(12,6))  # Comenzamos un nuevo gráfico (figura)\n",
    "lista1 = [1-0.497795014544,1-0.795765176868]\n",
    "lista2 =[1-0.317428678211,1-0.306341098792]\n",
    "plt.title(\"Error de Clasificacion One vs All\")\n",
    "plt.xlabel(\"Clasificador\")\n",
    "plt.ylabel(\"Error\")\n",
    "indice = np.arange(3)   # Declara un array\n",
    "plt.xticks(indice, (\"Bern NB\", \"SVM linal\" ))   \n",
    "plt.yticks(np.arange(0.0,1.0,0.1))\n",
    "plt.plot(lista1, marker='x', linestyle='--', color='b', label = \"Entrenamiento\")\n",
    "plt.plot(lista2, marker='*', linestyle='-', color='g', label = \"Test\")\n",
    "plt.legend(loc=\"lower left\")\n",
    "plt.show()"
   ]
  },
  {
   "cell_type": "code",
   "execution_count": 76,
   "metadata": {
    "collapsed": false,
    "scrolled": true
   },
   "outputs": [
    {
     "data": {
      "image/png": "[encoded data removed]",
      "text/plain": [
       "<matplotlib.figure.Figure at 0x7f29407a43d0>"
      ]
     },
     "metadata": {},
     "output_type": "display_data"
    }
   ],
   "source": [
    "plt.figure(figsize=(12,6))  # Comenzamos un nuevo gráfico (figura)\n",
    "lista1 = [1-0.459731648578,1- 0.783786319707]\n",
    "lista2 =[1-0.312320916905,1-0.335617291641]\n",
    "plt.title(\"Error de Clasificacion One vs One\")\n",
    "plt.xlabel(\"Clasificador\")\n",
    "plt.ylabel(\"Error\")\n",
    "indice = np.arange(3)   # Declara un array\n",
    "plt.xticks(indice, (\"Bern NB\", \"SVM linal\" ))   \n",
    "plt.yticks(np.arange(0.0,1.0,0.1))\n",
    "plt.plot(lista1, marker='x', linestyle='--', color='b', label = \"Entrenamiento\")\n",
    "plt.plot(lista2, marker='*', linestyle='-', color='g', label = \"Test\")\n",
    "plt.legend(loc=\"lower left\")\n",
    "plt.show()"
   ]
  },
  {
   "cell_type": "markdown",
   "metadata": {
    "deletable": true,
    "editable": true
   },
   "source": [
    "###  l) Regresión Logística extendido One vs Rest y Multinomial"
   ]
  },
  {
   "cell_type": "code",
   "execution_count": 72,
   "metadata": {
    "collapsed": false,
    "deletable": true,
    "editable": true
   },
   "outputs": [
    {
     "name": "stdout",
     "output_type": "stream",
     "text": [
      "Accuracy train Regresion Logistica OVR : 0.672411096863\n",
      "Accuracy test Regresion Logistica OVR: 0.350317677837\n",
      "Accuracy train Regresion Logistica Multinomial : 0.704531948832\n",
      "Accuracy test Regresion Logistica Multinomial: 0.343714962003\n"
     ]
    }
   ],
   "source": [
    "clf_lr_ovr = LR(multi_class=\"ovr\")\n",
    "clf_lr_mn  = LR(multi_class=\"multinomial\",solver=\"newton-cg\")\n",
    "\n",
    "clf_lr_ovr.fit(X_train_counts,y_train_em)\n",
    "clf_lr_mn.fit(X_train_counts,y_train_em)\n",
    "\n",
    "\n",
    "predicted = clf_lr_ovr.predict(X_test_counts)\n",
    "predicted_train = clf_lr_ovr.predict(X_train_counts)\n",
    "print \"Accuracy train Regresion Logistica OVR :\",(accuracy_score(y_train_em,predicted_train))   \n",
    "print \"Accuracy test Regresion Logistica OVR:\",(accuracy_score(y_test_em,predicted)) \n",
    "\n",
    "predicted = clf_lr_mn.predict(X_test_counts)\n",
    "predicted_train = clf_lr_mn.predict(X_train_counts)\n",
    "print \"Accuracy train Regresion Logistica Multinomial :\",(accuracy_score(y_train_em,predicted_train))   \n",
    "print \"Accuracy test Regresion Logistica Multinomial:\",(accuracy_score(y_test_em,predicted)) "
   ]
  },
  {
   "cell_type": "markdown",
   "metadata": {
    "deletable": true,
    "editable": true
   },
   "source": [
    "### m) Comparacion entre clasificadores!"
   ]
  },
  {
   "cell_type": "markdown",
   "metadata": {},
   "source": [
    "**Compare los resultados entre los clasificadores extendidos por defecto y los binarios que son extendidos\n",
    "mediante otras t´ecnicas, construya una tabla o gr´afico resumen. Los clasificadores que mejor se\n",
    "comportan en el caso binario ¿Siguen teniendo ese desempe˜no en m´ultiples clases?**"
   ]
  },
  {
   "cell_type": "markdown",
   "metadata": {},
   "source": [
    "Se puede ver que los mejores clasificadores obtenidos son Naive Bayes Bernoulli y Regresión logística."
   ]
  },
  {
   "cell_type": "markdown",
   "metadata": {},
   "source": [
    "A través de los resultados mostrados en este estudio, es posible observar que los clasificadores funcionan mucho mejor cuando solo tienen que decidir entre dos clases. Este comportamiento se debe a que para el caso binario hay aproximadamente 20.000 datos para entrenar cada clase, mientras que para el caso en que el clasificador debe decidir entre varias clases, existen poco datos para entrenar cada una de estas clses. Así, con pocos datos de entrenamientos no se puede alcanzar una capacidad de generalización para nuevos datos."
   ]
  }
 ],
 "metadata": {
  "kernelspec": {
   "display_name": "Python 2",
   "language": "python",
   "name": "python2"
  },
  "language_info": {
   "codemirror_mode": {
    "name": "ipython",
    "version": 2
   },
   "file_extension": ".py",
   "mimetype": "text/x-python",
   "name": "python",
   "nbconvert_exporter": "python",
   "pygments_lexer": "ipython2",
   "version": "2.7.12"
  }
 },
 "nbformat": 4,
 "nbformat_minor": 2
}
