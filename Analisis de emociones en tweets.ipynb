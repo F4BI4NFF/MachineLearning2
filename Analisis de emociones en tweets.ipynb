{
 "cells": [
  {
   "cell_type": "markdown",
   "metadata": {
    "collapsed": true
   },
   "source": [
    "### a) Construcción de Dataframe"
   ]
  },
  {
   "cell_type": "code",
   "execution_count": 1,
   "metadata": {},
   "outputs": [
    {
     "name": "stdout",
     "output_type": "stream",
     "text": [
      "     tweet_id   sentiment       author  \\\n",
      "0  1956967341       empty   xoshayzers   \n",
      "1  1956967666     sadness    wannamama   \n",
      "2  1956967696     sadness    coolfunky   \n",
      "3  1956967789  enthusiasm  czareaquino   \n",
      "4  1956968416     neutral    xkilljoyx   \n",
      "\n",
      "                                             content  \n",
      "0  @tiffanylue i know  i was listenin to bad habi...  \n",
      "1  Layin n bed with a headache  ughhhh...waitin o...  \n",
      "2                Funeral ceremony...gloomy friday...  \n",
      "3               wants to hang out with friends SOON!  \n",
      "4  @dannycastillo We want to trade with someone w...  \n",
      "['tweet_id', 'sentiment', 'author', 'content']\n",
      "Cantidad de registros 40000\n",
      "Cantidad de atributos 4\n"
     ]
    }
   ],
   "source": [
    "import pandas as pd\n",
    "df = pd.read_csv('text_emotion.csv')\n",
    "print df.head()\n",
    "\n",
    "print list(df.columns.values)\n",
    "registros,atributos = df.shape\n",
    "print \"Cantidad de registros\",registros\n",
    "print \"Cantidad de atributos\",atributos"
   ]
  },
  {
   "cell_type": "markdown",
   "metadata": {},
   "source": [
    "Este dataset consta de 40000 tweets, cada tweet tiene una id asociada,  una emoción mutuamente excluyente con las demás, el autor y el texto."
   ]
  },
  {
   "cell_type": "code",
   "execution_count": 2,
   "metadata": {},
   "outputs": [
    {
     "name": "stdout",
     "output_type": "stream",
     "text": [
      "Clases y la cantidad de registros por clases\n",
      "{'love': 3842, 'relief': 1526, 'neutral': 8638, 'anger': 110, 'sadness': 5165, 'empty': 827, 'surprise': 2187, 'fun': 1776, 'enthusiasm': 759, 'happiness': 5209, 'hate': 1323, 'worry': 8459, 'boredom': 179}\n"
     ]
    }
   ],
   "source": [
    "def clase_ocurrencia(df,campo):\n",
    "    clases = {}\n",
    "    for index,row in df.iterrows():\n",
    "        if row[campo] not in clases.keys():\n",
    "                clases[row[campo]] = 1\n",
    "        else:\n",
    "            clases[row[campo]] += 1\n",
    "    return clases\n",
    "\n",
    "emotions = clase_ocurrencia(df,'sentiment')\n",
    "print \"Clases y la cantidad de registros por clases\"\n",
    "print emotions\n",
    "\n",
    "\n"
   ]
  },
  {
   "cell_type": "markdown",
   "metadata": {},
   "source": [
    "### b) Construcción de conjuntos"
   ]
  },
  {
   "cell_type": "code",
   "execution_count": 3,
   "metadata": {},
   "outputs": [
    {
     "name": "stdout",
     "output_type": "stream",
     "text": [
      "[ True  True  True ...,  True False  True]\n",
      "31866\n",
      "8134\n"
     ]
    }
   ],
   "source": [
    "import numpy as np\n",
    "msk = np.random.rand(len(df)) < 0.8\n",
    "print msk\n",
    "df_train = df[msk]\n",
    "df_test = df[~msk]\n",
    "print(len(df_train))\n",
    "print(len(df_test))"
   ]
  },
  {
   "cell_type": "markdown",
   "metadata": {},
   "source": [
    "### c) Pre procesamiento \n",
    "\n",
    "Para aumentar la eficacia de las caracterı́sticas extraı́das es conveniente ejecutar algunas técnicas de pre-\n",
    "procesamiento básicas como: pasar todo el texto a minúsculas (lower-casing), eliminar signos de puntuación\n",
    "y eliminar palabras sin significado como artı́culos, pronombres y preposiciones (stop word removal [9]). Otra\n",
    "técnica que suele ser útil para obtener buenas caracterı́sticas (features) es la lematización [11], es decir la\n",
    "reducción de todas las palabras a su tronco léxico base. Una técnica similar y más utilizada en la práctica es\n",
    "el stemming [10]. Varias de éstas están implementadas en la libreria nltk [13] para python."
   ]
  },
  {
   "cell_type": "code",
   "execution_count": 4,
   "metadata": {
    "collapsed": true
   },
   "outputs": [],
   "source": [
    "X_train = np.array(df_train['content'])\n",
    "y_train = np.array(df_train['sentiment'])\n",
    "X_test = np.array(df_test['content'])\n",
    "y_test = np.array(df_test['sentiment'])\n",
    "\n",
    "from nltk.tokenize import TweetTokenizer\n",
    "from nltk.corpus import stopwords\n",
    "import re \n",
    "other_stopwords = ['...','.','!',' ',';',',']\n",
    "stoplist = np.concatenate((stopwords.words('english'),other_stopwords),axis=0)\n",
    "tknzr = TweetTokenizer(strip_handles=True, reduce_len=True)\n",
    "\n",
    "#Preprocesamiento\n",
    "\n",
    "for i in range(len(X_train)):\n",
    "    X_train[i] = tknzr.tokenize(X_train[i]) \n",
    "    X_train[i] = [token.lower() for token in X_train[i]] \n",
    "    X_train[i] = [re.sub(r'http\\S+', '',token) for token in X_train[i] if token not in stoplist]\n",
    "    X_train[i] = [token for token in X_train[i] if len(token)>2]\n",
    "\n",
    "\n",
    "for i in range(len(X_test)):\n",
    "    X_test[i] = tknzr.tokenize(X_test[i]) \n",
    "    X_test[i] = [token.lower() for token in X_test[i]] \n",
    "    X_test[i] = [re.sub(r'http\\S+', '',token) for token in X_test[i] if token not in stoplist]\n",
    "    X_test[i] = [token for token in X_test[i] if len(token)>2]\n",
    "    \n",
    "\n",
    "\n"
   ]
  },
  {
   "cell_type": "code",
   "execution_count": 5,
   "metadata": {
    "collapsed": true
   },
   "outputs": [],
   "source": [
    "palabras = {}\n",
    "for tweet in X_train:\n",
    "    for word in tweet:\n",
    "        if word not in palabras.keys():\n",
    "            palabras[word] = 1\n",
    "        else:\n",
    "            palabras[word] += 1"
   ]
  },
  {
   "cell_type": "code",
   "execution_count": 6,
   "metadata": {},
   "outputs": [
    {
     "data": {
      "image/png": "[encoded data removed]",
      "text/plain": [
       "<matplotlib.figure.Figure at 0xf361dd8>"
      ]
     },
     "metadata": {},
     "output_type": "display_data"
    }
   ],
   "source": [
    "import nltk\n",
    "import matplotlib.pyplot as plt\n",
    "fdist = nltk.FreqDist(palabras)\n",
    "plt.figure(figsize=(12,6))\n",
    "fdist.plot(50)"
   ]
  },
  {
   "cell_type": "markdown",
   "metadata": {},
   "source": [
    "### d ) Criterio para un problema binario"
   ]
  },
  {
   "cell_type": "code",
   "execution_count": 7,
   "metadata": {},
   "outputs": [
    {
     "name": "stdout",
     "output_type": "stream",
     "text": [
      "21750\n",
      "18250\n",
      "['anger' 'sadness' 'hate' 'worry' 'boredom' 'empty' 'surprise' 'love'\n",
      " 'relief' 'fun' 'enthusiasm' 'happiness' 'neutral']\n",
      "{'love': '1', 'neutral': '6', 'fun': '3', 'sadness': '-5', 'boredom': '-2', 'worry': '-3', 'enthusiasm': '4', 'anger': '-6', 'surprise': '0', 'happiness': '5', 'hate': '-4', 'empty': '-1', 'relief': '2'}\n"
     ]
    }
   ],
   "source": [
    "# Criterio por ahora, neutral positivo,\n",
    "# empty y surprise negativo, ( Para dejar medianamente balanceado los datos)\n",
    "\n",
    "positivas = ['love','relief','fun','enthusiasm','happiness','neutral']\n",
    "negativas = ['anger','sadness','hate','worry','boredom','empty','surprise']\n",
    "\n",
    "pos = 0\n",
    "for key in emotions:\n",
    "    if key in positivas:\n",
    "        pos += emotions[key]\n",
    "print pos \n",
    "\n",
    "neg = 0\n",
    "for key in emotions:\n",
    "    if key in negativas:\n",
    "        neg += emotions[key]\n",
    "print neg\n",
    "\n",
    "emotions_l = np.concatenate((negativas,positivas),axis=0)\n",
    "print emotions_l\n",
    "#6,-6\n",
    "emotions = {}\n",
    "count = -7\n",
    "for em in range(len(emotions_l)):\n",
    "    emotions[emotions_l[em]] = str(count+1)\n",
    "    count += 1\n",
    "print emotions"
   ]
  },
  {
   "cell_type": "code",
   "execution_count": 8,
   "metadata": {
    "collapsed": true
   },
   "outputs": [],
   "source": [
    "def codificar_emotions(arreglo):\n",
    "    nuevo_arreglo = []\n",
    "    for i in range(len(arreglo)):\n",
    "        nuevo_arreglo.append(emotions[arreglo[i]])\n",
    "    return nuevo_arreglo\n",
    "\n",
    "#Arreglos decodificados\n",
    "y_train_em = codificar_emotions(y_train)\n",
    "y_test_em =  codificar_emotions(y_test)\n"
   ]
  },
  {
   "cell_type": "code",
   "execution_count": 9,
   "metadata": {
    "collapsed": true
   },
   "outputs": [],
   "source": [
    "def codificar(arreglo):\n",
    "    for i in range(len(arreglo)):\n",
    "        if arreglo[i] in positivas:\n",
    "            arreglo[i] = \"1\"\n",
    "        else:\n",
    "            arreglo[i] = \"-1\"\n",
    "    return arreglo\n",
    "y_train = codificar(y_train)\n",
    "y_test = codificar(y_test)"
   ]
  },
  {
   "cell_type": "markdown",
   "metadata": {},
   "source": [
    "### e) Representación de documentos"
   ]
  },
  {
   "cell_type": "code",
   "execution_count": 14,
   "metadata": {},
   "outputs": [
    {
     "name": "stdout",
     "output_type": "stream",
     "text": [
      "[ list([u'know', u'listenin', u'bad', u'habit', u'earlier', u'started', u'freakin', u'part'])\n",
      " list([u'layin', u'bed', u'headache', u'ughhh', u'waitin', u'call'])]\n"
     ]
    }
   ],
   "source": [
    "print X_train[:2]"
   ]
  },
  {
   "cell_type": "code",
   "execution_count": 10,
   "metadata": {
    "collapsed": true
   },
   "outputs": [],
   "source": [
    "from sklearn.feature_extraction.text import TfidfVectorizer\n",
    "# Usando TfidfVectorizer\n",
    "vectorizer = TfidfVectorizer()\n",
    "X_tweets1 = []\n",
    "X_tweets2 = []\n",
    "for i in range(len(X_train)):\n",
    "    X_tweets1.append((\" \").join(X_train[i]))\n",
    "for i in range(len(X_test)):\n",
    "    X_tweets2.append((\" \").join(X_test[i]))\n",
    "X_train_tfidf = vectorizer.fit_transform(X_tweets1) # Le damos el vocabulario de entrenamiento!\n",
    "X_test_tfidf = vectorizer.transform(X_tweets2)"
   ]
  },
  {
   "cell_type": "markdown",
   "metadata": {},
   "source": [
    "Aquí entrenamos con el conjunto de entrenamiento y luego transformamos el conjunto de test en base al diccionario generado."
   ]
  },
  {
   "cell_type": "markdown",
   "metadata": {},
   "source": [
    "Ojo, hay que tener un buen diccionario para poder generalizar futuras palabras, si el diccionario generado es pobre, las predicciones serán pobres, es el problema eterno de generar un diccionario suficientemente grande para todas las palabras."
   ]
  },
  {
   "cell_type": "code",
   "execution_count": 16,
   "metadata": {},
   "outputs": [
    {
     "name": "stdout",
     "output_type": "stream",
     "text": [
      "  (0, 12531)\t0.211542945111\n",
      "  (0, 13161)\t0.444393270956\n",
      "  (0, 2203)\t0.243499360154\n",
      "  (0, 10022)\t0.458144396397\n",
      "  (0, 7178)\t0.35874765178\n",
      "  (0, 21112)\t0.333150024576\n",
      "  (0, 8814)\t0.376657897563\n",
      "  (0, 16428)\t0.327132982787\n",
      "test\n",
      "  (0, 9485)\t0.500611175224\n",
      "  (0, 9024)\t0.548250568252\n",
      "  (0, 8890)\t0.352329851132\n",
      "  (0, 4230)\t0.569801229951\n"
     ]
    }
   ],
   "source": [
    "\n",
    "print X_train_tfidf[0]\n",
    "print \"test\"\n",
    "print X_test_tfidf[0]"
   ]
  },
  {
   "cell_type": "code",
   "execution_count": 11,
   "metadata": {
    "collapsed": true
   },
   "outputs": [],
   "source": [
    "from sklearn.feature_extraction.text import CountVectorizer\n",
    "from sklearn.discriminant_analysis import LinearDiscriminantAnalysis as LDA\n",
    "count_vect = CountVectorizer()\n",
    "X_train_counts = count_vect.fit_transform(X_tweets1)\n",
    "X_test_counts = count_vect.transform(X_tweets2)"
   ]
  },
  {
   "cell_type": "markdown",
   "metadata": {},
   "source": [
    "### f) Entrenar con 5 modelos clasificadores"
   ]
  },
  {
   "cell_type": "code",
   "execution_count": 12,
   "metadata": {},
   "outputs": [
    {
     "name": "stdout",
     "output_type": "stream",
     "text": [
      "Accuracy Bernoulli Naive Bayes train tfidf: 0.819713801544\n",
      "Accuracy Bernoulli Naive Bayes test tfidf: 0.694123432506\n",
      " \n",
      "Accuracy Multinomial Naive Bayes train tfidf: 0.823071612377\n",
      "Accuracy Multinomial Naive Bayes test tfidf: 0.685763462011\n",
      " \n",
      "Accuracy SVM train kernel lineal: 0.878585326053\n",
      "Accuracy SVMs test kernel lineal: 0.681091713794\n",
      " \n",
      "Accuracy SVM train kernel rbf: 0.543902592104\n",
      "Accuracy SVMs test kernel rbf: 0.543152200639\n",
      " \n",
      "Accuracy SVM train kernel poly 3: 0.543902592104\n",
      "Accuracy SVMs test kernel poly 3: 0.543152200639\n"
     ]
    }
   ],
   "source": [
    "\n",
    "# Naive Bayes\n",
    "from sklearn.naive_bayes import BernoulliNB\n",
    "from sklearn.metrics import accuracy_score\n",
    "clf_bnb = BernoulliNB().fit(X_train_tfidf,y_train)\n",
    "predicted = clf_bnb.predict(X_test_tfidf)\n",
    "predicted_train = clf_bnb.predict(X_train_tfidf)\n",
    "print \"Accuracy Bernoulli Naive Bayes train tfidf:\",(accuracy_score(y_train,predicted_train))   \n",
    "print \"Accuracy Bernoulli Naive Bayes test tfidf:\",(accuracy_score(y_test,predicted))   \n",
    "\n",
    "print \" \"\n",
    "#Multi Naive Bayes == Bernoulli NB\n",
    "from sklearn.naive_bayes import MultinomialNB\n",
    "clf_mnb = MultinomialNB().fit(X_train_tfidf,y_train)\n",
    "predicted = clf_mnb.predict(X_test_tfidf)\n",
    "predicted_train = clf_mnb.predict(X_train_tfidf)\n",
    "print \"Accuracy Multinomial Naive Bayes train tfidf:\",(accuracy_score(y_train,predicted_train))   \n",
    "print \"Accuracy Multinomial Naive Bayes test tfidf:\",(accuracy_score(y_test,predicted)) \n",
    "print \" \"\n",
    "\n",
    "#SVM con kernel lineal\n",
    "from sklearn.svm import SVC as SVM #SVC is for classification\n",
    "clf_svm_lineal= SVM()\n",
    "clf_svm_lineal.set_params(kernel='linear')\n",
    "clf_svm_lineal.fit(X_train_counts,y_train)\n",
    "predicted = clf_svm_lineal.predict(X_test_counts)\n",
    "predicted_train = clf_svm_lineal.predict(X_train_counts)\n",
    "print \"Accuracy SVM train kernel lineal:\",(accuracy_score(y_train,predicted_train))   \n",
    "print \"Accuracy SVMs test kernel lineal:\",(accuracy_score(y_test,predicted)) \n",
    "print \" \"\n",
    "#SVM con kernel rbf\n",
    "from sklearn.svm import SVC as SVM #SVC is for classification\n",
    "clf_svm_rbf= SVM()\n",
    "clf_svm_rbf.set_params(kernel='rbf')\n",
    "clf_svm_rbf.fit(X_train_counts,y_train)\n",
    "predicted = clf_svm_rbf.predict(X_test_counts)\n",
    "predicted_train = clf_svm_rbf.predict(X_train_counts)\n",
    "print \"Accuracy SVM train kernel rbf:\",(accuracy_score(y_train,predicted_train))   \n",
    "print \"Accuracy SVMs test kernel rbf:\",(accuracy_score(y_test,predicted)) \n",
    "print \" \"\n",
    "\n",
    "#SVM con kernel plot\n",
    "from sklearn.svm import SVC as SVM #SVC is for classification\n",
    "clf_svm_sig= SVM()\n",
    "clf_svm_sig.set_params(kernel='poly')\n",
    "clf_svm_sig.fit(X_train_counts,y_train)\n",
    "predicted = clf_svm_sig.predict(X_test_counts)\n",
    "predicted_train = clf_svm_sig.predict(X_train_counts)\n",
    "print \"Accuracy SVM train kernel poly 3:\",(accuracy_score(y_train,predicted_train))   \n",
    "print \"Accuracy SVMs test kernel poly 3:\",(accuracy_score(y_test,predicted)) \n",
    "\n",
    "\n",
    "\n"
   ]
  },
  {
   "cell_type": "code",
   "execution_count": 14,
   "metadata": {},
   "outputs": [
    {
     "name": "stdout",
     "output_type": "stream",
     "text": [
      "Accuracy train Regresion Logistica : 0.844662022218\n",
      "Accuracy test Regresion Logistica: 0.687853454635\n"
     ]
    }
   ],
   "source": [
    "## Regresion Logistica\n",
    "from sklearn.linear_model import LogisticRegression as LR\n",
    "clf_lr = LR()\n",
    "clf_lr.set_params(penalty='l2')\n",
    "clf_lr.fit(X_train_counts,y_train)\n",
    "predicted = clf_lr.predict(X_test_counts)\n",
    "predicted_train = clf_lr.predict(X_train_counts)\n",
    "print \"Accuracy train Regresion Logistica :\",(accuracy_score(y_train,predicted_train))   \n",
    "print \"Accuracy test Regresion Logistica:\",(accuracy_score(y_test,predicted)) \n",
    "\n",
    "\n"
   ]
  },
  {
   "cell_type": "code",
   "execution_count": 15,
   "metadata": {},
   "outputs": [
    {
     "name": "stdout",
     "output_type": "stream",
     "text": [
      "Accuracy train Arbol : 0.990491432875\n",
      "Accuracy test Arbol: 0.635972461274\n"
     ]
    }
   ],
   "source": [
    "## Arbol de Clasificacion \n",
    "from sklearn.tree import DecisionTreeClassifier as Tree\n",
    "clf_tree = Tree() #edit the train_model function\n",
    "clf_tree.set_params(criterion=\"entropy\",splitter=\"best\")\n",
    "clf_tree.fit(X_train_counts,y_train)\n",
    "predicted = clf_tree.predict(X_test_counts)\n",
    "predicted_train = clf_tree.predict(X_train_counts)\n",
    "print \"Accuracy train Arbol :\",(accuracy_score(y_train,predicted_train))   \n",
    "print \"Accuracy test Arbol:\",(accuracy_score(y_test,predicted)) "
   ]
  },
  {
   "cell_type": "markdown",
   "metadata": {},
   "source": [
    "Obs, Naive Bayes es super rápido para ejecutarse!"
   ]
  },
  {
   "cell_type": "markdown",
   "metadata": {
    "collapsed": true
   },
   "source": [
    "## SOLO CON UN PC RÁPIDO EJECUTAR, TF-IDF\n",
    "#SVM con kernel lineal\n",
    "from sklearn.svm import SVC as SVM #SVC is for classification\n",
    "clf_svm_lineal_tfidf= SVM()\n",
    "clf_svm_lineal_tfidf.set_params(kernel='linear')\n",
    "clf_svm_lineal_tfidf.fit(X_train_tfidf,y_train)\n",
    "predicted = clf_svm_lineal_tfidf.predict(X_test_tfidf)\n",
    "predicted_train = clf_svm_lineal_tfidf.predict(X_train_tfidf)\n",
    "print \"Accuracy SVM train kernel lineal tfidf:\",(accuracy_score(y_train,predicted_train))   \n",
    "print \"Accuracy SVMs test kernel lineal tfidf:\",(accuracy_score(y_test,predicted)) \n",
    "print \" \"\n",
    "\n",
    "#SVM con kernel rbf\n",
    "from sklearn.svm import SVC as SVM #SVC is for classification\n",
    "clf_svm_rbf_tfidf= SVM()\n",
    "clf_svm_rbf_tfidf.set_params(kernel='rbf')\n",
    "clf_svm_rbf_tfidf.fit(X_train_tfidf,y_train)\n",
    "predicted = clf_svm_rbf_tfidf.predict(X_test_tfidf)\n",
    "predicted_train = clf_svm_rbf_tfidf.predict(X_train_tfidf)\n",
    "print \"Accuracy SVM train kernel rbf tfidf:\",(accuracy_score(y_train,predicted_train))   \n",
    "print \"Accuracy SVMs test kernel rbf tfidf:\",(accuracy_score(y_test,predicted)) \n",
    "print \" \"\n",
    "\n",
    "#SVM con kernel poliniomial tfidf\n",
    "from sklearn.svm import SVC as SVM #SVC is for classification\n",
    "clf_svm_sig_tfidf= SVM()\n",
    "clf_svm_sig_tfidf.set_params(kernel='poly')\n",
    "clf_svm_sig_tfidf.fit(X_train_tfidf,y_train)\n",
    "predicted = clf_svm_sig_tfidf.predict(X_test_tfidf)\n",
    "predicted_train = clf_svm_sig_tfidf.predict(X_train_tfidf)\n",
    "print \"Accuracy SVM train kernel poly 3 tfidf:\",(accuracy_score(y_train,predicted_train))   \n",
    "print \"Accuracy SVMs test kernel poly 3 tfidf:\",(accuracy_score(y_test,predicted))"
   ]
  },
  {
   "cell_type": "markdown",
   "metadata": {},
   "source": [
    "LDA y QDA explotan con la dimensionalidad por eso no lo ocuparemos"
   ]
  },
  {
   "cell_type": "markdown",
   "metadata": {
    "collapsed": true
   },
   "source": [
    "## NO EJECUTAR! PROBLEMAS DE MEMORIA!\n",
    "\n",
    "\n",
    "from sklearn.discriminant_analysis import LinearDiscriminantAnalysis as LDA\n",
    "model = LDA()\n",
    "\n",
    "print X_train_counts[0]\n",
    "\n",
    "model.fit(X_train_counts.toarray(),y_train) # Memory Error .toarray\n",
    "predicted = model.predict(X_test_counts)\n"
   ]
  },
  {
   "cell_type": "markdown",
   "metadata": {},
   "source": [
    "### g) Classification Report"
   ]
  },
  {
   "cell_type": "code",
   "execution_count": 16,
   "metadata": {
    "collapsed": true
   },
   "outputs": [],
   "source": [
    "from sklearn.metrics import classification_report\n",
    "def score_the_model(model,x,y,xt,yt):\n",
    "    acc_tr = model.score(x,y)\n",
    "    acc_test = model.score(xt[:-1],yt[:-1])\n",
    "    print \"Training Accuracy: %f\"%(acc_tr)\n",
    "    print \"Test Accuracy: %f\"%(acc_test)\n",
    "    print \"Detailed Analysis Testing Results ...\"\n",
    "    print (classification_report(yt,model.predict(xt)))"
   ]
  },
  {
   "cell_type": "code",
   "execution_count": 17,
   "metadata": {},
   "outputs": [
    {
     "name": "stdout",
     "output_type": "stream",
     "text": [
      "tf-idf: \n",
      " \n",
      "\n",
      "Bernoulli Naive Bayes \n",
      "\n",
      "Training Accuracy: 0.819714\n",
      "Test Accuracy: 0.694086\n",
      "Detailed Analysis Testing Results ...\n",
      "             precision    recall  f1-score   support\n",
      "\n",
      "         -1       0.69      0.60      0.64      3716\n",
      "          1       0.70      0.78      0.73      4418\n",
      "\n",
      "avg / total       0.69      0.69      0.69      8134\n",
      "\n",
      "Multinomial Naive Bayes \n",
      "\n",
      "Training Accuracy: 0.823072\n",
      "Test Accuracy: 0.685725\n",
      "Detailed Analysis Testing Results ...\n",
      "             precision    recall  f1-score   support\n",
      "\n",
      "         -1       0.69      0.57      0.62      3716\n",
      "          1       0.68      0.78      0.73      4418\n",
      "\n",
      "avg / total       0.69      0.69      0.68      8134\n",
      "\n",
      "Multinomial SVM kernel lineal \n",
      "\n",
      "Training Accuracy: 0.878585\n",
      "Test Accuracy: 0.681053\n",
      "Detailed Analysis Testing Results ...\n",
      "             precision    recall  f1-score   support\n",
      "\n",
      "         -1       0.67      0.59      0.63      3716\n",
      "          1       0.69      0.75      0.72      4418\n",
      "\n",
      "avg / total       0.68      0.68      0.68      8134\n",
      "\n",
      "Multinomial SVM kernel RBF \n",
      "\n",
      "Training Accuracy: 0.543903\n",
      "Test Accuracy: 0.543096\n",
      "Detailed Analysis Testing Results ...\n"
     ]
    },
    {
     "name": "stderr",
     "output_type": "stream",
     "text": [
      "C:\\Anaconda3\\envs\\py27\\lib\\site-packages\\sklearn\\metrics\\classification.py:1135: UndefinedMetricWarning: Precision and F-score are ill-defined and being set to 0.0 in labels with no predicted samples.\n",
      "  'precision', 'predicted', average, warn_for)\n"
     ]
    },
    {
     "name": "stdout",
     "output_type": "stream",
     "text": [
      "             precision    recall  f1-score   support\n",
      "\n",
      "         -1       0.00      0.00      0.00      3716\n",
      "          1       0.54      1.00      0.70      4418\n",
      "\n",
      "avg / total       0.30      0.54      0.38      8134\n",
      "\n",
      "Multinomial SVM kernel sigmoidal \n",
      "\n",
      "Training Accuracy: 0.543903\n",
      "Test Accuracy: 0.543096\n",
      "Detailed Analysis Testing Results ...\n",
      "             precision    recall  f1-score   support\n",
      "\n",
      "         -1       0.00      0.00      0.00      3716\n",
      "          1       0.54      1.00      0.70      4418\n",
      "\n",
      "avg / total       0.30      0.54      0.38      8134\n",
      "\n",
      "Logistic Regression \n",
      "\n",
      "Training Accuracy: 0.844662\n",
      "Test Accuracy: 0.687815\n",
      "Detailed Analysis Testing Results ...\n",
      "             precision    recall  f1-score   support\n",
      "\n",
      "         -1       0.68      0.59      0.63      3716\n",
      "          1       0.69      0.77      0.73      4418\n",
      "\n",
      "avg / total       0.69      0.69      0.69      8134\n",
      "\n",
      "Clasification tree \n",
      "\n",
      "Training Accuracy: 0.990491\n",
      "Test Accuracy: 0.635928\n",
      "Detailed Analysis Testing Results ...\n",
      "             precision    recall  f1-score   support\n",
      "\n",
      "         -1       0.60      0.60      0.60      3716\n",
      "          1       0.66      0.67      0.67      4418\n",
      "\n",
      "avg / total       0.64      0.64      0.64      8134\n",
      "\n"
     ]
    }
   ],
   "source": [
    "print \"tf-idf: \\n \\n\"\n",
    "print \"Bernoulli Naive Bayes \\n\"\n",
    "score_the_model(clf_bnb,X_train_tfidf,y_train,X_test_tfidf,y_test)\n",
    "print \"Multinomial Naive Bayes \\n\"\n",
    "score_the_model(clf_mnb,X_train_tfidf,y_train,X_test_tfidf,y_test)\n",
    "print \"Multinomial SVM kernel lineal \\n\"\n",
    "score_the_model(clf_svm_lineal,X_train_counts,y_train,X_test_counts,y_test)\n",
    "print \"Multinomial SVM kernel RBF \\n\"\n",
    "score_the_model(clf_svm_rbf,X_train_counts,y_train,X_test_counts,y_test)\n",
    "print \"Multinomial SVM kernel sigmoidal \\n\"\n",
    "score_the_model(clf_svm_sig,X_train_counts,y_train,X_test_counts,y_test)\n",
    "print \"Logistic Regression \\n\"\n",
    "score_the_model(clf_lr,X_train_counts,y_train,X_test_counts,y_test)\n",
    "print \"Clasification tree \\n\"\n",
    "score_the_model(clf_tree,X_train_counts,y_train,X_test_counts,y_test)"
   ]
  },
  {
   "cell_type": "markdown",
   "metadata": {},
   "source": [
    "###  h) [Opcional]"
   ]
  },
  {
   "cell_type": "markdown",
   "metadata": {},
   "source": [
    "### i) Multilabel"
   ]
  },
  {
   "cell_type": "code",
   "execution_count": 18,
   "metadata": {},
   "outputs": [
    {
     "name": "stdout",
     "output_type": "stream",
     "text": [
      "Accuracy Bernoulli Naive Bayes train: 0.458858971945\n",
      "Accuracy Bernoulli Naive Bayes test: 0.302065404475\n",
      " \n",
      "Accuracy Multinomial Naive Bayes train: 0.452174731689\n",
      "Accuracy Multinomial Naive Bayes test: 0.301450700762\n",
      "Accuracy SVM train: 0.790748760434\n",
      "Accuracy SVMs test: 0.321121219572\n",
      " \n",
      "Accuracy train Regresion Logistica : 0.677148057491\n",
      "Accuracy test Regresion Logistica: 0.340177034669\n",
      " \n",
      "Accuracy train Arbol : 0.977719199146\n",
      "Accuracy test Arbol: 0.269854929924\n",
      " \n"
     ]
    }
   ],
   "source": [
    "# Naive Bayes\n",
    "from sklearn.naive_bayes import BernoulliNB\n",
    "from sklearn.metrics import accuracy_score\n",
    "clf_bnb = BernoulliNB().fit(X_train_tfidf,y_train_em)\n",
    "predicted = clf_bnb.predict(X_test_tfidf)\n",
    "predicted_train = clf_bnb.predict(X_train_tfidf)\n",
    "print \"Accuracy Bernoulli Naive Bayes train:\",(accuracy_score(y_train_em,predicted_train))   \n",
    "print \"Accuracy Bernoulli Naive Bayes test:\",(accuracy_score(y_test_em,predicted))   \n",
    "\n",
    "print \" \"\n",
    "#Multi Naive Bayes == Bernoulli NB\n",
    "from sklearn.naive_bayes import MultinomialNB\n",
    "clf_mnb = MultinomialNB().fit(X_train_tfidf,y_train_em)\n",
    "predicted = clf_mnb.predict(X_test_tfidf)\n",
    "predicted_train = clf_mnb.predict(X_train_tfidf)\n",
    "print \"Accuracy Multinomial Naive Bayes train:\",(accuracy_score(y_train_em,predicted_train))   \n",
    "print \"Accuracy Multinomial Naive Bayes test:\",(accuracy_score(y_test_em,predicted))\n",
    "\n",
    "\n",
    "from sklearn.svm import SVC as SVM #SVC is for classification\n",
    "model= SVM()\n",
    "model.set_params(kernel='linear')\n",
    "model.fit(X_train_counts,y_train_em)\n",
    "\n",
    "predicted = model.predict(X_test_counts)\n",
    "predicted_train = model.predict(X_train_counts)\n",
    "\n",
    "print \"Accuracy SVM train:\",(accuracy_score(y_train_em,predicted_train))   \n",
    "print \"Accuracy SVMs test:\",(accuracy_score(y_test_em,predicted)) \n",
    "\n",
    "print \" \"\n",
    "## Regresion Logistica\n",
    "from sklearn.linear_model import LogisticRegression as LR\n",
    "clf_lr = LR()\n",
    "clf_lr.set_params(penalty='l2')\n",
    "clf_lr.fit(X_train_counts,y_train_em)\n",
    "predicted = clf_lr.predict(X_test_counts)\n",
    "predicted_train = clf_lr.predict(X_train_counts)\n",
    "print \"Accuracy train Regresion Logistica :\",(accuracy_score(y_train_em,predicted_train))   \n",
    "print \"Accuracy test Regresion Logistica:\",(accuracy_score(y_test_em,predicted)) \n",
    "print \" \"\n",
    "## Arbol de Clasificacion \n",
    "from sklearn.tree import DecisionTreeClassifier as Tree\n",
    "clf_tree = Tree() #edit the train_model function\n",
    "clf_tree.set_params(criterion=\"entropy\",splitter=\"best\")\n",
    "clf_tree.fit(X_train_counts,y_train_em)\n",
    "predicted = clf_tree.predict(X_test_counts)\n",
    "predicted_train = clf_tree.predict(X_train_counts)\n",
    "print \"Accuracy train Arbol :\",(accuracy_score(y_train_em,predicted_train))   \n",
    "print \"Accuracy test Arbol:\",(accuracy_score(y_test_em,predicted)) \n",
    "print \" \"\n"
   ]
  },
  {
   "cell_type": "markdown",
   "metadata": {},
   "source": [
    "(j) Utilice los clasi\f",
    "cadores que son extendidos por defecto a m\u0013ultiples clases para detectar emociones en\n",
    "cada tweet, muestre sus desempe~nos a trav\u0013es del error de pruebas en un gr\u0013a\f",
    "co resumen."
   ]
  },
  {
   "cell_type": "markdown",
   "metadata": {},
   "source": [
    "k) Clasificadores binarios extendidos mediante One vs One y One vs All"
   ]
  },
  {
   "cell_type": "code",
   "execution_count": 20,
   "metadata": {},
   "outputs": [
    {
     "name": "stdout",
     "output_type": "stream",
     "text": [
      "Accuracy One vs All Bernoulli Naive Bayes train: 0.499152701939\n",
      "Accuracy One vs All Bernoulli Naive Bayes test: 0.308458323088\n",
      "Accuracy One vs All Bernoulli Naive Bayes train: 0.458858971945\n",
      "Accuracy One vs All Bernoulli Naive Bayes test: 0.302065404475\n"
     ]
    }
   ],
   "source": [
    "from sklearn.multiclass import OneVsRestClassifier\n",
    "from sklearn.multiclass import OneVsOneClassifier\n",
    "# Extension de Bernoulli Naive\n",
    "clf_multibnb_1va = OneVsRestClassifier(clf_bnb)\n",
    "clf_multibnb_1va.fit(X_train_tfidf,y_train_em)\n",
    "predicted = clf_multibnb_1va.predict(X_test_tfidf)\n",
    "predicted_train = clf_multibnb_1va.predict(X_train_tfidf)\n",
    "print \"Accuracy One vs All Bernoulli Naive Bayes train:\",(accuracy_score(y_train_em,predicted_train))   \n",
    "print \"Accuracy One vs All Bernoulli Naive Bayes test:\",(accuracy_score(y_test_em,predicted))  \n",
    "\n",
    "clf_multibnb_1v1 = OneVsOneClassifier(clf_bnb)\n",
    "clf_multibnb_1v1.fit(X_train_tfidf,y_train_em)\n",
    "predicted = clf_multibnb_1v1.predict(X_test_tfidf)\n",
    "predicted_train = clf_multibnb_1v1.predict(X_train_tfidf)\n",
    "print \"Accuracy One vs One Bernoulli Naive Bayes train:\",(accuracy_score(y_train_em,predicted_train))   \n",
    "print \"Accuracy One vs One Bernoulli Naive Bayes test:\",(accuracy_score(y_test_em,predicted))  "
   ]
  },
  {
   "cell_type": "code",
   "execution_count": 23,
   "metadata": {},
   "outputs": [
    {
     "name": "stdout",
     "output_type": "stream",
     "text": [
      "Accuracy One vs All SVM lineal train: 0.798688257077\n",
      "Accuracy One vs All SVM lineal test: 0.299360708139\n",
      "Accuracy One vs One SVM lineal train: 0.786951609866\n",
      "Accuracy One vs One SVM lineal test: 0.323825915909\n"
     ]
    }
   ],
   "source": [
    "#Extension de SVM Lineal\n",
    "clf_svm_1va = OneVsRestClassifier(model)\n",
    "clf_svm_1va.fit(X_train_counts,y_train_em)\n",
    "predicted = clf_svm_1va.predict(X_test_counts)\n",
    "predicted_train = clf_svm_1va.predict(X_train_counts)\n",
    "print \"Accuracy One vs All SVM lineal train:\",(accuracy_score(y_train_em,predicted_train))   \n",
    "print \"Accuracy One vs All SVM lineal test:\",(accuracy_score(y_test_em,predicted))  \n",
    "\n",
    "clf_svm_1v1 = OneVsOneClassifier(model)\n",
    "clf_svm_1v1.fit(X_train_counts,y_train_em)\n",
    "predicted = clf_svm_1v1.predict(X_test_counts)\n",
    "predicted_train = clf_svm_1v1.predict(X_train_counts)\n",
    "print \"Accuracy One vs One SVM lineal train:\",(accuracy_score(y_train_em,predicted_train))   \n",
    "print \"Accuracy One vs One SVM lineal test:\",(accuracy_score(y_test_em,predicted)) "
   ]
  },
  {
   "cell_type": "markdown",
   "metadata": {},
   "source": [
    "##  l) Regresión Logística extendido One vs Rest y Multinomial"
   ]
  },
  {
   "cell_type": "code",
   "execution_count": 29,
   "metadata": {},
   "outputs": [
    {
     "name": "stdout",
     "output_type": "stream",
     "text": [
      "Accuracy train Regresion Logistica OVR : 0.677148057491\n",
      "Accuracy test Regresion Logistica OVR: 0.340177034669\n",
      "Accuracy train Regresion Logistica Multinomial : 0.707148685119\n",
      "Accuracy test Regresion Logistica Multinomial: 0.332923530858\n"
     ]
    }
   ],
   "source": [
    "clf_lr_ovr = LR(multi_class=\"ovr\")\n",
    "clf_lr_mn  = LR(multi_class=\"multinomial\",solver=\"newton-cg\")\n",
    "\n",
    "clf_lr_ovr.fit(X_train_counts,y_train_em)\n",
    "clf_lr_mn.fit(X_train_counts,y_train_em)\n",
    "\n",
    "\n",
    "predicted = clf_lr_ovr.predict(X_test_counts)\n",
    "predicted_train = clf_lr_ovr.predict(X_train_counts)\n",
    "print \"Accuracy train Regresion Logistica OVR :\",(accuracy_score(y_train_em,predicted_train))   \n",
    "print \"Accuracy test Regresion Logistica OVR:\",(accuracy_score(y_test_em,predicted)) \n",
    "\n",
    "predicted = clf_lr_mn.predict(X_test_counts)\n",
    "predicted_train = clf_lr_mn.predict(X_train_counts)\n",
    "print \"Accuracy train Regresion Logistica Multinomial :\",(accuracy_score(y_train_em,predicted_train))   \n",
    "print \"Accuracy test Regresion Logistica Multinomial:\",(accuracy_score(y_test_em,predicted)) "
   ]
  },
  {
   "cell_type": "markdown",
   "metadata": {},
   "source": [
    "## Comparacion entre clasificadores!"
   ]
  }
 ],
 "metadata": {
  "kernelspec": {
   "display_name": "Python 2",
   "language": "python",
   "name": "python2"
  },
  "language_info": {
   "codemirror_mode": {
    "name": "ipython",
    "version": 2
   },
   "file_extension": ".py",
   "mimetype": "text/x-python",
   "name": "python",
   "nbconvert_exporter": "python",
   "pygments_lexer": "ipython2",
   "version": "2.7.14"
  }
 },
 "nbformat": 4,
 "nbformat_minor": 2
}
